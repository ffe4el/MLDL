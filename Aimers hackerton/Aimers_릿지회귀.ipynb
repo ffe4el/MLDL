{
 "cells": [
  {
   "cell_type": "code",
   "execution_count": 1,
   "metadata": {
    "collapsed": true
   },
   "outputs": [],
   "source": [
    "import pandas as pd\n",
    "\n",
    "data_path = '/Users/sola/Downloads/open/'\n",
    "\n",
    "# index_col은 불러올 데이터프레임의 인덱스를 지정하는 파라미터, 열이름을 전달하면 해당 열을 인덱스로 지정한다.\n",
    "train = pd.read_csv(data_path + 'train.csv', parse_dates=['TIMESTAMP'], dayfirst=True ,infer_datetime_format=True, index_col='PRODUCT_ID')\n",
    "test = pd.read_csv(data_path + 'test.csv', parse_dates=['TIMESTAMP'], dayfirst=True ,infer_datetime_format=True, index_col='PRODUCT_ID')\n",
    "\n",
    "submission = pd.read_csv(data_path + 'sample_submission.csv', index_col='PRODUCT_ID')"
   ]
  },
  {
   "cell_type": "code",
   "execution_count": 2,
   "outputs": [],
   "source": [
    "# 일단 인코딩전에 훈련셋 테스트셋 합치기\n",
    "train_df = train.drop(['Y_Class','Y_Quality'], axis=1)\n",
    "all_data = pd.concat([train_df, test])\n",
    "# all_data = all_data.drop(['TIMESTAMP'], axis =1)"
   ],
   "metadata": {
    "collapsed": false
   }
  },
  {
   "cell_type": "code",
   "execution_count": 3,
   "outputs": [
    {
     "name": "stdout",
     "output_type": "stream",
     "text": [
      "<class 'pandas.core.frame.DataFrame'>\n",
      "Index: 908 entries, TRAIN_000 to TEST_309\n",
      "Columns: 2878 entries, TIMESTAMP to X_2875\n",
      "dtypes: datetime64[ns](1), float64(2875), object(2)\n",
      "memory usage: 19.9+ MB\n"
     ]
    }
   ],
   "source": [
    "all_data.info()"
   ],
   "metadata": {
    "collapsed": false
   }
  },
  {
   "cell_type": "code",
   "execution_count": 4,
   "outputs": [
    {
     "data": {
      "text/plain": "TIMESTAMP         0\nLINE              0\nPRODUCT_CODE      0\nX_1             316\nX_2             316\n               ... \nX_2871          770\nX_2872          899\nX_2873          899\nX_2874          899\nX_2875          899\nLength: 2878, dtype: int64"
     },
     "execution_count": 4,
     "metadata": {},
     "output_type": "execute_result"
    }
   ],
   "source": [
    "all_data.isnull().sum()"
   ],
   "metadata": {
    "collapsed": false
   }
  },
  {
   "cell_type": "code",
   "execution_count": 5,
   "outputs": [],
   "source": [
    "# 결측치 넣어주기\n",
    "all_data = all_data.fillna(0)\n"
   ],
   "metadata": {
    "collapsed": false
   }
  },
  {
   "cell_type": "code",
   "execution_count": 6,
   "outputs": [
    {
     "data": {
      "text/plain": "TIMESTAMP       0\nLINE            0\nPRODUCT_CODE    0\nX_1             0\nX_2             0\n               ..\nX_2871          0\nX_2872          0\nX_2873          0\nX_2874          0\nX_2875          0\nLength: 2878, dtype: int64"
     },
     "execution_count": 6,
     "metadata": {},
     "output_type": "execute_result"
    }
   ],
   "source": [
    "all_data.isnull().sum()"
   ],
   "metadata": {
    "collapsed": false
   }
  },
  {
   "cell_type": "code",
   "execution_count": 7,
   "outputs": [
    {
     "data": {
      "text/plain": "                     TIMESTAMP     LINE PRODUCT_CODE  X_1   X_2  X_3   X_4  \\\nPRODUCT_ID                                                                   \nTRAIN_000  2022-06-13 05:14:00  T050304         A_31  0.0   0.0  0.0   0.0   \nTRAIN_001  2022-06-13 05:22:00  T050307         A_31  0.0   0.0  0.0   0.0   \nTRAIN_002  2022-06-13 05:30:00  T050304         A_31  0.0   0.0  0.0   0.0   \nTRAIN_003  2022-06-13 05:39:00  T050307         A_31  0.0   0.0  0.0   0.0   \nTRAIN_004  2022-06-13 05:47:00  T050304         A_31  0.0   0.0  0.0   0.0   \n...                        ...      ...          ...  ...   ...  ...   ...   \nTEST_305   2022-11-05 11:18:00  T100306         T_31  2.0  91.0  0.0  45.0   \nTEST_306   2022-11-05 16:39:00  T100304         T_31  2.0  96.0  0.0  45.0   \nTEST_307   2022-11-05 16:47:00  T100306         T_31  2.0  91.0  0.0  45.0   \nTEST_308   2022-11-05 20:53:00  T100306         T_31  2.0  95.0  0.0  45.0   \nTEST_309   2022-11-05 21:01:00  T100306         T_31  2.0  87.0  0.0  45.0   \n\n             X_5  X_6   X_7  ...  X_2866  X_2867  X_2868  X_2869  X_2870  \\\nPRODUCT_ID                   ...                                           \nTRAIN_000    0.0  0.0   0.0  ...   39.34   40.89   32.56   34.09   77.77   \nTRAIN_001    0.0  0.0   0.0  ...   38.89   42.82   43.92   35.34   72.55   \nTRAIN_002    0.0  0.0   0.0  ...   39.19   36.65   42.47   36.53   78.35   \nTRAIN_003    0.0  0.0   0.0  ...   37.74   39.17   52.17   30.58   71.78   \nTRAIN_004    0.0  0.0   0.0  ...   38.70   41.89   46.93   33.09   76.97   \n...          ...  ...   ...  ...     ...     ...     ...     ...     ...   \nTEST_305    10.0  0.0  51.0  ...    0.00    0.00    0.00    0.00    0.00   \nTEST_306    11.0  0.0  45.0  ...    0.00    0.00    0.00    0.00    0.00   \nTEST_307    10.0  0.0  50.0  ...    0.00    0.00    0.00    0.00    0.00   \nTEST_308    10.0  0.0  51.0  ...    0.00    0.00    0.00    0.00    0.00   \nTEST_309    10.0  0.0  51.0  ...    0.00    0.00    0.00    0.00    0.00   \n\n            X_2871  X_2872  X_2873  X_2874  X_2875  \nPRODUCT_ID                                          \nTRAIN_000      0.0     0.0     0.0     0.0     0.0  \nTRAIN_001      0.0     0.0     0.0     0.0     0.0  \nTRAIN_002      0.0     0.0     0.0     0.0     0.0  \nTRAIN_003      0.0     0.0     0.0     0.0     0.0  \nTRAIN_004      0.0     0.0     0.0     0.0     0.0  \n...            ...     ...     ...     ...     ...  \nTEST_305       0.0     0.0     0.0     0.0     0.0  \nTEST_306       0.0     0.0     0.0     0.0     0.0  \nTEST_307       0.0     0.0     0.0     0.0     0.0  \nTEST_308       0.0     0.0     0.0     0.0     0.0  \nTEST_309       0.0     0.0     0.0     0.0     0.0  \n\n[908 rows x 2878 columns]",
      "text/html": "<div>\n<style scoped>\n    .dataframe tbody tr th:only-of-type {\n        vertical-align: middle;\n    }\n\n    .dataframe tbody tr th {\n        vertical-align: top;\n    }\n\n    .dataframe thead th {\n        text-align: right;\n    }\n</style>\n<table border=\"1\" class=\"dataframe\">\n  <thead>\n    <tr style=\"text-align: right;\">\n      <th></th>\n      <th>TIMESTAMP</th>\n      <th>LINE</th>\n      <th>PRODUCT_CODE</th>\n      <th>X_1</th>\n      <th>X_2</th>\n      <th>X_3</th>\n      <th>X_4</th>\n      <th>X_5</th>\n      <th>X_6</th>\n      <th>X_7</th>\n      <th>...</th>\n      <th>X_2866</th>\n      <th>X_2867</th>\n      <th>X_2868</th>\n      <th>X_2869</th>\n      <th>X_2870</th>\n      <th>X_2871</th>\n      <th>X_2872</th>\n      <th>X_2873</th>\n      <th>X_2874</th>\n      <th>X_2875</th>\n    </tr>\n    <tr>\n      <th>PRODUCT_ID</th>\n      <th></th>\n      <th></th>\n      <th></th>\n      <th></th>\n      <th></th>\n      <th></th>\n      <th></th>\n      <th></th>\n      <th></th>\n      <th></th>\n      <th></th>\n      <th></th>\n      <th></th>\n      <th></th>\n      <th></th>\n      <th></th>\n      <th></th>\n      <th></th>\n      <th></th>\n      <th></th>\n      <th></th>\n    </tr>\n  </thead>\n  <tbody>\n    <tr>\n      <th>TRAIN_000</th>\n      <td>2022-06-13 05:14:00</td>\n      <td>T050304</td>\n      <td>A_31</td>\n      <td>0.0</td>\n      <td>0.0</td>\n      <td>0.0</td>\n      <td>0.0</td>\n      <td>0.0</td>\n      <td>0.0</td>\n      <td>0.0</td>\n      <td>...</td>\n      <td>39.34</td>\n      <td>40.89</td>\n      <td>32.56</td>\n      <td>34.09</td>\n      <td>77.77</td>\n      <td>0.0</td>\n      <td>0.0</td>\n      <td>0.0</td>\n      <td>0.0</td>\n      <td>0.0</td>\n    </tr>\n    <tr>\n      <th>TRAIN_001</th>\n      <td>2022-06-13 05:22:00</td>\n      <td>T050307</td>\n      <td>A_31</td>\n      <td>0.0</td>\n      <td>0.0</td>\n      <td>0.0</td>\n      <td>0.0</td>\n      <td>0.0</td>\n      <td>0.0</td>\n      <td>0.0</td>\n      <td>...</td>\n      <td>38.89</td>\n      <td>42.82</td>\n      <td>43.92</td>\n      <td>35.34</td>\n      <td>72.55</td>\n      <td>0.0</td>\n      <td>0.0</td>\n      <td>0.0</td>\n      <td>0.0</td>\n      <td>0.0</td>\n    </tr>\n    <tr>\n      <th>TRAIN_002</th>\n      <td>2022-06-13 05:30:00</td>\n      <td>T050304</td>\n      <td>A_31</td>\n      <td>0.0</td>\n      <td>0.0</td>\n      <td>0.0</td>\n      <td>0.0</td>\n      <td>0.0</td>\n      <td>0.0</td>\n      <td>0.0</td>\n      <td>...</td>\n      <td>39.19</td>\n      <td>36.65</td>\n      <td>42.47</td>\n      <td>36.53</td>\n      <td>78.35</td>\n      <td>0.0</td>\n      <td>0.0</td>\n      <td>0.0</td>\n      <td>0.0</td>\n      <td>0.0</td>\n    </tr>\n    <tr>\n      <th>TRAIN_003</th>\n      <td>2022-06-13 05:39:00</td>\n      <td>T050307</td>\n      <td>A_31</td>\n      <td>0.0</td>\n      <td>0.0</td>\n      <td>0.0</td>\n      <td>0.0</td>\n      <td>0.0</td>\n      <td>0.0</td>\n      <td>0.0</td>\n      <td>...</td>\n      <td>37.74</td>\n      <td>39.17</td>\n      <td>52.17</td>\n      <td>30.58</td>\n      <td>71.78</td>\n      <td>0.0</td>\n      <td>0.0</td>\n      <td>0.0</td>\n      <td>0.0</td>\n      <td>0.0</td>\n    </tr>\n    <tr>\n      <th>TRAIN_004</th>\n      <td>2022-06-13 05:47:00</td>\n      <td>T050304</td>\n      <td>A_31</td>\n      <td>0.0</td>\n      <td>0.0</td>\n      <td>0.0</td>\n      <td>0.0</td>\n      <td>0.0</td>\n      <td>0.0</td>\n      <td>0.0</td>\n      <td>...</td>\n      <td>38.70</td>\n      <td>41.89</td>\n      <td>46.93</td>\n      <td>33.09</td>\n      <td>76.97</td>\n      <td>0.0</td>\n      <td>0.0</td>\n      <td>0.0</td>\n      <td>0.0</td>\n      <td>0.0</td>\n    </tr>\n    <tr>\n      <th>...</th>\n      <td>...</td>\n      <td>...</td>\n      <td>...</td>\n      <td>...</td>\n      <td>...</td>\n      <td>...</td>\n      <td>...</td>\n      <td>...</td>\n      <td>...</td>\n      <td>...</td>\n      <td>...</td>\n      <td>...</td>\n      <td>...</td>\n      <td>...</td>\n      <td>...</td>\n      <td>...</td>\n      <td>...</td>\n      <td>...</td>\n      <td>...</td>\n      <td>...</td>\n      <td>...</td>\n    </tr>\n    <tr>\n      <th>TEST_305</th>\n      <td>2022-11-05 11:18:00</td>\n      <td>T100306</td>\n      <td>T_31</td>\n      <td>2.0</td>\n      <td>91.0</td>\n      <td>0.0</td>\n      <td>45.0</td>\n      <td>10.0</td>\n      <td>0.0</td>\n      <td>51.0</td>\n      <td>...</td>\n      <td>0.00</td>\n      <td>0.00</td>\n      <td>0.00</td>\n      <td>0.00</td>\n      <td>0.00</td>\n      <td>0.0</td>\n      <td>0.0</td>\n      <td>0.0</td>\n      <td>0.0</td>\n      <td>0.0</td>\n    </tr>\n    <tr>\n      <th>TEST_306</th>\n      <td>2022-11-05 16:39:00</td>\n      <td>T100304</td>\n      <td>T_31</td>\n      <td>2.0</td>\n      <td>96.0</td>\n      <td>0.0</td>\n      <td>45.0</td>\n      <td>11.0</td>\n      <td>0.0</td>\n      <td>45.0</td>\n      <td>...</td>\n      <td>0.00</td>\n      <td>0.00</td>\n      <td>0.00</td>\n      <td>0.00</td>\n      <td>0.00</td>\n      <td>0.0</td>\n      <td>0.0</td>\n      <td>0.0</td>\n      <td>0.0</td>\n      <td>0.0</td>\n    </tr>\n    <tr>\n      <th>TEST_307</th>\n      <td>2022-11-05 16:47:00</td>\n      <td>T100306</td>\n      <td>T_31</td>\n      <td>2.0</td>\n      <td>91.0</td>\n      <td>0.0</td>\n      <td>45.0</td>\n      <td>10.0</td>\n      <td>0.0</td>\n      <td>50.0</td>\n      <td>...</td>\n      <td>0.00</td>\n      <td>0.00</td>\n      <td>0.00</td>\n      <td>0.00</td>\n      <td>0.00</td>\n      <td>0.0</td>\n      <td>0.0</td>\n      <td>0.0</td>\n      <td>0.0</td>\n      <td>0.0</td>\n    </tr>\n    <tr>\n      <th>TEST_308</th>\n      <td>2022-11-05 20:53:00</td>\n      <td>T100306</td>\n      <td>T_31</td>\n      <td>2.0</td>\n      <td>95.0</td>\n      <td>0.0</td>\n      <td>45.0</td>\n      <td>10.0</td>\n      <td>0.0</td>\n      <td>51.0</td>\n      <td>...</td>\n      <td>0.00</td>\n      <td>0.00</td>\n      <td>0.00</td>\n      <td>0.00</td>\n      <td>0.00</td>\n      <td>0.0</td>\n      <td>0.0</td>\n      <td>0.0</td>\n      <td>0.0</td>\n      <td>0.0</td>\n    </tr>\n    <tr>\n      <th>TEST_309</th>\n      <td>2022-11-05 21:01:00</td>\n      <td>T100306</td>\n      <td>T_31</td>\n      <td>2.0</td>\n      <td>87.0</td>\n      <td>0.0</td>\n      <td>45.0</td>\n      <td>10.0</td>\n      <td>0.0</td>\n      <td>51.0</td>\n      <td>...</td>\n      <td>0.00</td>\n      <td>0.00</td>\n      <td>0.00</td>\n      <td>0.00</td>\n      <td>0.00</td>\n      <td>0.0</td>\n      <td>0.0</td>\n      <td>0.0</td>\n      <td>0.0</td>\n      <td>0.0</td>\n    </tr>\n  </tbody>\n</table>\n<p>908 rows × 2878 columns</p>\n</div>"
     },
     "execution_count": 7,
     "metadata": {},
     "output_type": "execute_result"
    }
   ],
   "source": [
    "all_data"
   ],
   "metadata": {
    "collapsed": false
   }
  },
  {
   "cell_type": "code",
   "execution_count": 8,
   "outputs": [],
   "source": [
    "# TIMESTAMP 처리\n",
    "\n",
    "# all_data['timestamp_str'] = all_data['TIMESTAMP'].astype(str)\n",
    "#\n",
    "# all_data['date']=all_data['timestamp_str'].apply(lambda x:x.split()[0])\n",
    "#\n",
    "# all_data['year'] = all_data['timestamp_str'].apply(lambda x:x.split()[0].split('-')[0])\n",
    "# all_data['month'] = all_data['timestamp_str'].apply(lambda x:x.split()[0].split('-')[1])\n",
    "# all_data['day'] = all_data['timestamp_str'].apply(lambda x:x.split()[0].split('-')[2])\n",
    "# all_data['hour'] = all_data['timestamp_str'].apply(lambda x:x.split()[1].split(':')[0])\n",
    "# all_data['minute'] = all_data['timestamp_str'].apply(lambda x:x.split()[1].split(':')[1])\n",
    "# all_data['second'] = all_data['timestamp_str'].apply(lambda x:x.split()[1].split(':')[2])\n"
   ],
   "metadata": {
    "collapsed": false
   }
  },
  {
   "cell_type": "code",
   "execution_count": 9,
   "outputs": [
    {
     "data": {
      "text/plain": "                     TIMESTAMP     LINE PRODUCT_CODE  X_1  X_2  X_3  X_4  X_5  \\\nPRODUCT_ID                                                                      \nTRAIN_000  2022-06-13 05:14:00  T050304         A_31  0.0  0.0  0.0  0.0  0.0   \nTRAIN_001  2022-06-13 05:22:00  T050307         A_31  0.0  0.0  0.0  0.0  0.0   \nTRAIN_002  2022-06-13 05:30:00  T050304         A_31  0.0  0.0  0.0  0.0  0.0   \nTRAIN_003  2022-06-13 05:39:00  T050307         A_31  0.0  0.0  0.0  0.0  0.0   \nTRAIN_004  2022-06-13 05:47:00  T050304         A_31  0.0  0.0  0.0  0.0  0.0   \n\n            X_6  X_7  ...  X_2866  X_2867  X_2868  X_2869  X_2870  X_2871  \\\nPRODUCT_ID            ...                                                   \nTRAIN_000   0.0  0.0  ...   39.34   40.89   32.56   34.09   77.77     0.0   \nTRAIN_001   0.0  0.0  ...   38.89   42.82   43.92   35.34   72.55     0.0   \nTRAIN_002   0.0  0.0  ...   39.19   36.65   42.47   36.53   78.35     0.0   \nTRAIN_003   0.0  0.0  ...   37.74   39.17   52.17   30.58   71.78     0.0   \nTRAIN_004   0.0  0.0  ...   38.70   41.89   46.93   33.09   76.97     0.0   \n\n            X_2872  X_2873  X_2874  X_2875  \nPRODUCT_ID                                  \nTRAIN_000      0.0     0.0     0.0     0.0  \nTRAIN_001      0.0     0.0     0.0     0.0  \nTRAIN_002      0.0     0.0     0.0     0.0  \nTRAIN_003      0.0     0.0     0.0     0.0  \nTRAIN_004      0.0     0.0     0.0     0.0  \n\n[5 rows x 2878 columns]",
      "text/html": "<div>\n<style scoped>\n    .dataframe tbody tr th:only-of-type {\n        vertical-align: middle;\n    }\n\n    .dataframe tbody tr th {\n        vertical-align: top;\n    }\n\n    .dataframe thead th {\n        text-align: right;\n    }\n</style>\n<table border=\"1\" class=\"dataframe\">\n  <thead>\n    <tr style=\"text-align: right;\">\n      <th></th>\n      <th>TIMESTAMP</th>\n      <th>LINE</th>\n      <th>PRODUCT_CODE</th>\n      <th>X_1</th>\n      <th>X_2</th>\n      <th>X_3</th>\n      <th>X_4</th>\n      <th>X_5</th>\n      <th>X_6</th>\n      <th>X_7</th>\n      <th>...</th>\n      <th>X_2866</th>\n      <th>X_2867</th>\n      <th>X_2868</th>\n      <th>X_2869</th>\n      <th>X_2870</th>\n      <th>X_2871</th>\n      <th>X_2872</th>\n      <th>X_2873</th>\n      <th>X_2874</th>\n      <th>X_2875</th>\n    </tr>\n    <tr>\n      <th>PRODUCT_ID</th>\n      <th></th>\n      <th></th>\n      <th></th>\n      <th></th>\n      <th></th>\n      <th></th>\n      <th></th>\n      <th></th>\n      <th></th>\n      <th></th>\n      <th></th>\n      <th></th>\n      <th></th>\n      <th></th>\n      <th></th>\n      <th></th>\n      <th></th>\n      <th></th>\n      <th></th>\n      <th></th>\n      <th></th>\n    </tr>\n  </thead>\n  <tbody>\n    <tr>\n      <th>TRAIN_000</th>\n      <td>2022-06-13 05:14:00</td>\n      <td>T050304</td>\n      <td>A_31</td>\n      <td>0.0</td>\n      <td>0.0</td>\n      <td>0.0</td>\n      <td>0.0</td>\n      <td>0.0</td>\n      <td>0.0</td>\n      <td>0.0</td>\n      <td>...</td>\n      <td>39.34</td>\n      <td>40.89</td>\n      <td>32.56</td>\n      <td>34.09</td>\n      <td>77.77</td>\n      <td>0.0</td>\n      <td>0.0</td>\n      <td>0.0</td>\n      <td>0.0</td>\n      <td>0.0</td>\n    </tr>\n    <tr>\n      <th>TRAIN_001</th>\n      <td>2022-06-13 05:22:00</td>\n      <td>T050307</td>\n      <td>A_31</td>\n      <td>0.0</td>\n      <td>0.0</td>\n      <td>0.0</td>\n      <td>0.0</td>\n      <td>0.0</td>\n      <td>0.0</td>\n      <td>0.0</td>\n      <td>...</td>\n      <td>38.89</td>\n      <td>42.82</td>\n      <td>43.92</td>\n      <td>35.34</td>\n      <td>72.55</td>\n      <td>0.0</td>\n      <td>0.0</td>\n      <td>0.0</td>\n      <td>0.0</td>\n      <td>0.0</td>\n    </tr>\n    <tr>\n      <th>TRAIN_002</th>\n      <td>2022-06-13 05:30:00</td>\n      <td>T050304</td>\n      <td>A_31</td>\n      <td>0.0</td>\n      <td>0.0</td>\n      <td>0.0</td>\n      <td>0.0</td>\n      <td>0.0</td>\n      <td>0.0</td>\n      <td>0.0</td>\n      <td>...</td>\n      <td>39.19</td>\n      <td>36.65</td>\n      <td>42.47</td>\n      <td>36.53</td>\n      <td>78.35</td>\n      <td>0.0</td>\n      <td>0.0</td>\n      <td>0.0</td>\n      <td>0.0</td>\n      <td>0.0</td>\n    </tr>\n    <tr>\n      <th>TRAIN_003</th>\n      <td>2022-06-13 05:39:00</td>\n      <td>T050307</td>\n      <td>A_31</td>\n      <td>0.0</td>\n      <td>0.0</td>\n      <td>0.0</td>\n      <td>0.0</td>\n      <td>0.0</td>\n      <td>0.0</td>\n      <td>0.0</td>\n      <td>...</td>\n      <td>37.74</td>\n      <td>39.17</td>\n      <td>52.17</td>\n      <td>30.58</td>\n      <td>71.78</td>\n      <td>0.0</td>\n      <td>0.0</td>\n      <td>0.0</td>\n      <td>0.0</td>\n      <td>0.0</td>\n    </tr>\n    <tr>\n      <th>TRAIN_004</th>\n      <td>2022-06-13 05:47:00</td>\n      <td>T050304</td>\n      <td>A_31</td>\n      <td>0.0</td>\n      <td>0.0</td>\n      <td>0.0</td>\n      <td>0.0</td>\n      <td>0.0</td>\n      <td>0.0</td>\n      <td>0.0</td>\n      <td>...</td>\n      <td>38.70</td>\n      <td>41.89</td>\n      <td>46.93</td>\n      <td>33.09</td>\n      <td>76.97</td>\n      <td>0.0</td>\n      <td>0.0</td>\n      <td>0.0</td>\n      <td>0.0</td>\n      <td>0.0</td>\n    </tr>\n  </tbody>\n</table>\n<p>5 rows × 2878 columns</p>\n</div>"
     },
     "execution_count": 9,
     "metadata": {},
     "output_type": "execute_result"
    }
   ],
   "source": [
    "all_data.head()"
   ],
   "metadata": {
    "collapsed": false
   }
  },
  {
   "cell_type": "code",
   "execution_count": 10,
   "outputs": [],
   "source": [
    "#요일 피처도..\n",
    "\n",
    "# from datetime import datetime\n",
    "# import calendar\n",
    "#\n",
    "# all_data['weekday'] = all_data['date'].apply(lambda dateString:calendar.day_name[datetime.strptime(dateString, \"%Y-%m-%d\").weekday()])\n",
    "#\n",
    "# all_data\n"
   ],
   "metadata": {
    "collapsed": false
   }
  },
  {
   "cell_type": "markdown",
   "source": [],
   "metadata": {
    "collapsed": false
   }
  },
  {
   "cell_type": "code",
   "execution_count": 11,
   "outputs": [],
   "source": [
    "import seaborn as sns\n",
    "import matplotlib as mpl\n",
    "import matplotlib.pyplot as plt\n",
    "# %matplotlib inline"
   ],
   "metadata": {
    "collapsed": false
   }
  },
  {
   "cell_type": "markdown",
   "source": [
    "아래부터.. y_Quality로 y_Class 학습시킨거.."
   ],
   "metadata": {
    "collapsed": false
   }
  },
  {
   "cell_type": "code",
   "execution_count": 12,
   "outputs": [
    {
     "data": {
      "text/plain": "<Figure size 500x500 with 1 Axes>",
      "image/png": "[encoded data removed]"
     },
     "metadata": {},
     "output_type": "display_data"
    },
    {
     "data": {
      "text/plain": "<Figure size 500x500 with 1 Axes>",
      "image/png": "[encoded data removed]"
     },
     "metadata": {},
     "output_type": "display_data"
    }
   ],
   "source": [
    "mpl.rc('font',size=15)\n",
    "sns.displot(train['Y_Class']);\n",
    "sns.displot(train['Y_Quality']);"
   ],
   "metadata": {
    "collapsed": false
   }
  },
  {
   "cell_type": "code",
   "execution_count": 13,
   "outputs": [
    {
     "data": {
      "text/plain": "            Y_Class  Y_Quality\nPRODUCT_ID                    \nTRAIN_000         1   0.533433\nTRAIN_001         2   0.541819\nTRAIN_002         1   0.531267\nTRAIN_003         2   0.537325\nTRAIN_004         1   0.531590\n...             ...        ...\nTRAIN_593         1   0.526546\nTRAIN_594         0   0.524022\nTRAIN_595         0   0.521289\nTRAIN_596         1   0.531375\nTRAIN_597         1   0.533702\n\n[598 rows x 2 columns]",
      "text/html": "<div>\n<style scoped>\n    .dataframe tbody tr th:only-of-type {\n        vertical-align: middle;\n    }\n\n    .dataframe tbody tr th {\n        vertical-align: top;\n    }\n\n    .dataframe thead th {\n        text-align: right;\n    }\n</style>\n<table border=\"1\" class=\"dataframe\">\n  <thead>\n    <tr style=\"text-align: right;\">\n      <th></th>\n      <th>Y_Class</th>\n      <th>Y_Quality</th>\n    </tr>\n    <tr>\n      <th>PRODUCT_ID</th>\n      <th></th>\n      <th></th>\n    </tr>\n  </thead>\n  <tbody>\n    <tr>\n      <th>TRAIN_000</th>\n      <td>1</td>\n      <td>0.533433</td>\n    </tr>\n    <tr>\n      <th>TRAIN_001</th>\n      <td>2</td>\n      <td>0.541819</td>\n    </tr>\n    <tr>\n      <th>TRAIN_002</th>\n      <td>1</td>\n      <td>0.531267</td>\n    </tr>\n    <tr>\n      <th>TRAIN_003</th>\n      <td>2</td>\n      <td>0.537325</td>\n    </tr>\n    <tr>\n      <th>TRAIN_004</th>\n      <td>1</td>\n      <td>0.531590</td>\n    </tr>\n    <tr>\n      <th>...</th>\n      <td>...</td>\n      <td>...</td>\n    </tr>\n    <tr>\n      <th>TRAIN_593</th>\n      <td>1</td>\n      <td>0.526546</td>\n    </tr>\n    <tr>\n      <th>TRAIN_594</th>\n      <td>0</td>\n      <td>0.524022</td>\n    </tr>\n    <tr>\n      <th>TRAIN_595</th>\n      <td>0</td>\n      <td>0.521289</td>\n    </tr>\n    <tr>\n      <th>TRAIN_596</th>\n      <td>1</td>\n      <td>0.531375</td>\n    </tr>\n    <tr>\n      <th>TRAIN_597</th>\n      <td>1</td>\n      <td>0.533702</td>\n    </tr>\n  </tbody>\n</table>\n<p>598 rows × 2 columns</p>\n</div>"
     },
     "execution_count": 13,
     "metadata": {},
     "output_type": "execute_result"
    }
   ],
   "source": [
    "ycq = pd.concat([train['Y_Class'], train['Y_Quality']], axis=1)\n",
    "ycq"
   ],
   "metadata": {
    "collapsed": false
   }
  },
  {
   "cell_type": "code",
   "execution_count": 14,
   "outputs": [],
   "source": [
    "# 일단 Y_Quality를 Y_Class로 학습시켜둠...??ㅋㅋ\n",
    "from sklearn.model_selection import train_test_split\n",
    "x_train = ycq[['Y_Quality']]\n",
    "y = ycq['Y_Class']\n",
    "\n",
    "X_train, X_valid, y_train, y_valid = train_test_split(x_train, y, test_size=0.1,stratify=y, random_state=37)"
   ],
   "metadata": {
    "collapsed": false
   }
  },
  {
   "cell_type": "code",
   "execution_count": 15,
   "outputs": [],
   "source": [
    "# X_train = X_train.reshape(-1,1)\n",
    "# y_train =  y_train.reshape(-1,1)"
   ],
   "metadata": {
    "collapsed": false
   }
  },
  {
   "cell_type": "code",
   "execution_count": 16,
   "outputs": [
    {
     "data": {
      "text/plain": "LogisticRegression(max_iter=1000, random_state=37)"
     },
     "execution_count": 16,
     "metadata": {},
     "output_type": "execute_result"
    }
   ],
   "source": [
    "from sklearn.linear_model import LogisticRegression\n",
    "\n",
    "\n",
    "lr = LogisticRegression(max_iter=1000, random_state=37)\n",
    "lr.fit(X_train, y_train)"
   ],
   "metadata": {
    "collapsed": false
   }
  },
  {
   "cell_type": "code",
   "execution_count": 17,
   "outputs": [
    {
     "data": {
      "text/plain": "array([[0.14660081, 0.68011079, 0.17328839],\n       [0.1468989 , 0.68035479, 0.17274631],\n       [0.14732123, 0.68069751, 0.17198126],\n       [0.14495412, 0.67873117, 0.17631472],\n       [0.14670106, 0.68019305, 0.17310589],\n       [0.14857297, 0.68169287, 0.16973416],\n       [0.14698278, 0.68042314, 0.17259409],\n       [0.14730363, 0.6806833 , 0.17201307],\n       [0.14691567, 0.68036847, 0.17271586],\n       [0.14732495, 0.68070051, 0.17197454],\n       [0.14699907, 0.6804364 , 0.17256453],\n       [0.14667559, 0.68017217, 0.17315224],\n       [0.14799152, 0.68123429, 0.17077419],\n       [0.14669751, 0.68019014, 0.17311235],\n       [0.14656359, 0.6800802 , 0.17335621],\n       [0.14739875, 0.68076004, 0.17184121],\n       [0.14571902, 0.67937872, 0.17490227],\n       [0.14686648, 0.68032834, 0.17280517],\n       [0.14706829, 0.68049267, 0.17243904],\n       [0.14705409, 0.68048113, 0.17246478],\n       [0.14400678, 0.67791289, 0.17808033],\n       [0.1470023 , 0.68043902, 0.17255868],\n       [0.14668543, 0.68018023, 0.17313435],\n       [0.14779888, 0.68108092, 0.17112019],\n       [0.14681004, 0.68028224, 0.17290771],\n       [0.14674733, 0.68023094, 0.17302174],\n       [0.14700762, 0.68044335, 0.17254903],\n       [0.14619496, 0.67977576, 0.17402927],\n       [0.1439369 , 0.67785181, 0.17821129],\n       [0.1480543 , 0.68128412, 0.17066158],\n       [0.14686826, 0.68032979, 0.17280195],\n       [0.14671686, 0.68020599, 0.17307715],\n       [0.14664433, 0.68014652, 0.17320916],\n       [0.14679053, 0.68026629, 0.17294318],\n       [0.14721128, 0.68060863, 0.17218009],\n       [0.14673217, 0.68021853, 0.1730493 ],\n       [0.14656923, 0.68008484, 0.17334593],\n       [0.14657842, 0.68009239, 0.1733292 ],\n       [0.14651574, 0.68004083, 0.17344343],\n       [0.14715689, 0.68056456, 0.17227855],\n       [0.14661499, 0.68012244, 0.17326257],\n       [0.14672153, 0.68020982, 0.17306865],\n       [0.14780729, 0.68108763, 0.17110507],\n       [0.14598948, 0.6796049 , 0.17440562],\n       [0.14711847, 0.68053341, 0.17234811],\n       [0.14433497, 0.67819842, 0.17746661],\n       [0.14469472, 0.67850891, 0.17679637],\n       [0.14720257, 0.68060157, 0.17219587],\n       [0.14842213, 0.68157454, 0.17000333],\n       [0.14761815, 0.68093637, 0.17144547],\n       [0.14514615, 0.67889483, 0.17595902],\n       [0.14745318, 0.68080388, 0.17174294],\n       [0.14628093, 0.679847  , 0.17387208],\n       [0.14668752, 0.68018195, 0.17313053],\n       [0.14666334, 0.68016212, 0.17317453],\n       [0.14745108, 0.68080219, 0.17174673],\n       [0.14677892, 0.6802568 , 0.17296428],\n       [0.14707313, 0.6804966 , 0.17243027],\n       [0.14671782, 0.68020678, 0.17307539],\n       [0.14666947, 0.68016714, 0.17316339]])"
     },
     "execution_count": 17,
     "metadata": {},
     "output_type": "execute_result"
    }
   ],
   "source": [
    "lr.predict_proba(X_valid)"
   ],
   "metadata": {
    "collapsed": false
   }
  },
  {
   "cell_type": "code",
   "execution_count": 18,
   "outputs": [
    {
     "name": "stdout",
     "output_type": "stream",
     "text": [
      "[[-0.77650413]\n",
      " [-0.20662604]\n",
      " [ 0.98313017]]\n",
      "[-0.15329048  1.07743722 -0.92414674]\n"
     ]
    }
   ],
   "source": [
    "print(lr.coef_)\n",
    "print(lr.intercept_)"
   ],
   "metadata": {
    "collapsed": false
   }
  },
  {
   "cell_type": "code",
   "execution_count": 19,
   "outputs": [
    {
     "name": "stdout",
     "output_type": "stream",
     "text": [
      "MAE:     0.31666666666666665\n",
      "MSE:     0.31666666666666665\n"
     ]
    },
    {
     "ename": "NameError",
     "evalue": "name 'np' is not defined",
     "output_type": "error",
     "traceback": [
      "\u001B[0;31m---------------------------------------------------------------------------\u001B[0m",
      "\u001B[0;31mNameError\u001B[0m                                 Traceback (most recent call last)",
      "\u001B[0;32m/var/folders/js/792bsrvx24lcg4nrdgy7k5br0000gn/T/ipykernel_28820/3711106221.py\u001B[0m in \u001B[0;36m<module>\u001B[0;34m\u001B[0m\n\u001B[1;32m      2\u001B[0m \u001B[0mprint\u001B[0m\u001B[0;34m(\u001B[0m\u001B[0;34m\"MAE:    \"\u001B[0m\u001B[0;34m,\u001B[0m \u001B[0mmetrics\u001B[0m\u001B[0;34m.\u001B[0m\u001B[0mmean_absolute_error\u001B[0m\u001B[0;34m(\u001B[0m\u001B[0my_valid\u001B[0m\u001B[0;34m,\u001B[0m \u001B[0mlr\u001B[0m\u001B[0;34m.\u001B[0m\u001B[0mpredict\u001B[0m\u001B[0;34m(\u001B[0m\u001B[0mX_valid\u001B[0m\u001B[0;34m)\u001B[0m\u001B[0;34m)\u001B[0m\u001B[0;34m)\u001B[0m\u001B[0;34m\u001B[0m\u001B[0;34m\u001B[0m\u001B[0m\n\u001B[1;32m      3\u001B[0m \u001B[0mprint\u001B[0m\u001B[0;34m(\u001B[0m\u001B[0;34m\"MSE:    \"\u001B[0m\u001B[0;34m,\u001B[0m \u001B[0mmetrics\u001B[0m\u001B[0;34m.\u001B[0m\u001B[0mmean_squared_error\u001B[0m\u001B[0;34m(\u001B[0m\u001B[0my_valid\u001B[0m\u001B[0;34m,\u001B[0m \u001B[0mlr\u001B[0m\u001B[0;34m.\u001B[0m\u001B[0mpredict\u001B[0m\u001B[0;34m(\u001B[0m\u001B[0mX_valid\u001B[0m\u001B[0;34m)\u001B[0m\u001B[0;34m)\u001B[0m\u001B[0;34m)\u001B[0m\u001B[0;34m\u001B[0m\u001B[0;34m\u001B[0m\u001B[0m\n\u001B[0;32m----> 4\u001B[0;31m \u001B[0mprint\u001B[0m\u001B[0;34m(\u001B[0m\u001B[0;34m\"RMSE:   \"\u001B[0m\u001B[0;34m,\u001B[0m \u001B[0mnp\u001B[0m\u001B[0;34m.\u001B[0m\u001B[0msqrt\u001B[0m\u001B[0;34m(\u001B[0m\u001B[0mmetrics\u001B[0m\u001B[0;34m.\u001B[0m\u001B[0mmean_squared_error\u001B[0m\u001B[0;34m(\u001B[0m\u001B[0my_valid\u001B[0m\u001B[0;34m,\u001B[0m \u001B[0mlr\u001B[0m\u001B[0;34m.\u001B[0m\u001B[0mpredict\u001B[0m\u001B[0;34m(\u001B[0m\u001B[0mX_valid\u001B[0m\u001B[0;34m)\u001B[0m\u001B[0;34m)\u001B[0m\u001B[0;34m)\u001B[0m\u001B[0;34m)\u001B[0m\u001B[0;34m\u001B[0m\u001B[0;34m\u001B[0m\u001B[0m\n\u001B[0m",
      "\u001B[0;31mNameError\u001B[0m: name 'np' is not defined"
     ]
    }
   ],
   "source": [
    "from sklearn import metrics\n",
    "print(\"MAE:    \", metrics.mean_absolute_error(y_valid, lr.predict(X_valid)))\n",
    "print(\"MSE:    \", metrics.mean_squared_error(y_valid, lr.predict(X_valid)))\n",
    "print(\"RMSE:   \", np.sqrt(metrics.mean_squared_error(y_valid, lr.predict(X_valid))))"
   ],
   "metadata": {
    "collapsed": false
   }
  },
  {
   "cell_type": "markdown",
   "source": [
    "## 시각화해서 이상치 제거할 애들 골라내자..."
   ],
   "metadata": {
    "collapsed": false
   }
  },
  {
   "cell_type": "code",
   "execution_count": 22,
   "outputs": [
    {
     "data": {
      "text/plain": "<AxesSubplot:xlabel='X_16', ylabel='Y_Class'>"
     },
     "execution_count": 22,
     "metadata": {},
     "output_type": "execute_result"
    }
   ],
   "source": [
    "mpl.rc('font', size=14)\n",
    "mpl.rc('axes', titlesize=15)\n",
    "figure, axes = plt.subplots(nrows=4, ncols=4)\n",
    "plt.tight_layout()\n",
    "figure.set_size_inches(16,12)\n",
    "\n",
    "sns.barplot(data=train, x='X_1', y='Y_Class', ax = axes[0,0])\n",
    "sns.barplot(data=train, x='X_2', y='Y_Class', ax = axes[0,1])\n",
    "sns.barplot(data=train, x='X_3', y='Y_Class', ax = axes[0,2])\n",
    "sns.barplot(data=train, x='X_4', y='Y_Class', ax = axes[0,3])\n",
    "sns.barplot(data=train, x='X_5', y='Y_Class', ax = axes[1,0])\n",
    "sns.barplot(data=train, x='X_6', y='Y_Class', ax = axes[1,1])\n",
    "sns.barplot(data=train, x='X_7', y='Y_Class', ax = axes[1,2])\n",
    "sns.barplot(data=train, x='X_8', y='Y_Class', ax = axes[1,3])\n",
    "sns.barplot(data=train, x='X_9', y='Y_Class', ax = axes[2,0])\n",
    "sns.barplot(data=train, x='X_10', y='Y_Class', ax = axes[2,1])\n",
    "sns.barplot(data=train, x='X_11', y='Y_Class', ax = axes[2,2])\n",
    "sns.barplot(data=train, x='X_12', y='Y_Class', ax = axes[2,3])\n",
    "sns.barplot(data=train, x='X_13', y='Y_Class', ax = axes[3,0])\n",
    "sns.barplot(data=train, x='X_14', y='Y_Class', ax = axes[3,1])\n",
    "sns.barplot(data=train, x='X_15', y='Y_Class', ax = axes[3,2])\n",
    "sns.barplot(data=train, x='X_16', y='Y_Class', ax = axes[3,3])"
   ],
   "metadata": {
    "collapsed": false
   }
  },
  {
   "cell_type": "code",
   "execution_count": null,
   "outputs": [],
   "source": [
    "mpl.rc('font', size=14)\n",
    "mpl.rc('axes', titlesize=15)\n",
    "figure, axes = plt.subplots(nrows=4, ncols=4)\n",
    "plt.tight_layout()\n",
    "figure.set_size_inches(16,12)\n",
    "\n",
    "for i in range(1,2876):\n",
    "    co = 'X_'+str(i)\n",
    "\n",
    "sns.barplot(data=train, x='X_1', y='Y_Class', ax = axes[0,0])\n",
    "sns.barplot(data=train, x='X_2', y='Y_Class', ax = axes[0,1])\n",
    "sns.barplot(data=train, x='X_3', y='Y_Class', ax = axes[0,2])\n",
    "sns.barplot(data=train, x='X_4', y='Y_Class', ax = axes[0,3])\n",
    "sns.barplot(data=train, x='X_5', y='Y_Class', ax = axes[1,0])\n",
    "sns.barplot(data=train, x='X_6', y='Y_Class', ax = axes[1,1])\n",
    "sns.barplot(data=train, x='X_7', y='Y_Class', ax = axes[1,2])\n",
    "sns.barplot(data=train, x='X_8', y='Y_Class', ax = axes[1,3])\n",
    "sns.barplot(data=train, x='X_9', y='Y_Class', ax = axes[2,0])\n",
    "sns.barplot(data=train, x='X_10', y='Y_Class', ax = axes[2,1])\n",
    "sns.barplot(data=train, x='X_11', y='Y_Class', ax = axes[2,2])\n",
    "sns.barplot(data=train, x='X_12', y='Y_Class', ax = axes[2,3])\n",
    "sns.barplot(data=train, x='X_13', y='Y_Class', ax = axes[3,0])\n",
    "sns.barplot(data=train, x='X_14', y='Y_Class', ax = axes[3,1])\n",
    "sns.barplot(data=train, x='X_15', y='Y_Class', ax = axes[3,2])\n",
    "sns.barplot(data=train, x='X_16', y='Y_Class', ax = axes[3,3])"
   ],
   "metadata": {
    "collapsed": false
   }
  },
  {
   "cell_type": "code",
   "execution_count": null,
   "outputs": [],
   "source": [
    "train = train.fillna(0)"
   ],
   "metadata": {
    "collapsed": false
   }
  },
  {
   "cell_type": "code",
   "execution_count": null,
   "outputs": [],
   "source": [
    "# 모든 값이 0인 피처 지울거임..\n",
    "wrong = []\n",
    "for i in range(1,2876):\n",
    "    ch = 'X_'+str(i)\n",
    "    if train[ch].mean() == 0:\n",
    "        wrong.append(ch)\n",
    "\n",
    "print(wrong)\n",
    "print(len(wrong))"
   ],
   "metadata": {
    "collapsed": false
   }
  },
  {
   "cell_type": "code",
   "execution_count": null,
   "outputs": [],
   "source": [
    "train = train.drop(wrong, axis=1)\n",
    "train"
   ],
   "metadata": {
    "collapsed": false
   }
  },
  {
   "cell_type": "code",
   "execution_count": null,
   "outputs": [],
   "source": [
    "X_train =  train.drop(['Y_Class', 'Y_Quality','TIMESTAMP','LINE','PRODUCT_CODE'], axis=1)\n",
    "y = train['Y_Class']"
   ],
   "metadata": {
    "collapsed": false
   }
  },
  {
   "cell_type": "code",
   "execution_count": null,
   "outputs": [],
   "source": [
    "X_train, X_valid, y_train, y_valid = train_test_split(X_train, y, test_size=0.3,stratify=y, random_state=37)"
   ],
   "metadata": {
    "collapsed": false
   }
  },
  {
   "cell_type": "code",
   "execution_count": null,
   "outputs": [],
   "source": [
    "from sklearn.linear_model import LogisticRegression\n",
    "\n",
    "\n",
    "lr = LogisticRegression(max_iter=1000, random_state=37)\n",
    "lr.fit(X_train, y_train)"
   ],
   "metadata": {
    "collapsed": false
   }
  },
  {
   "cell_type": "code",
   "execution_count": null,
   "outputs": [],
   "source": [
    "print(lr.coef_)\n",
    "print(lr.intercept_)"
   ],
   "metadata": {
    "collapsed": false
   }
  },
  {
   "cell_type": "code",
   "execution_count": null,
   "outputs": [],
   "source": [
    "from sklearn import metrics\n",
    "print(\"MAE:    \", metrics.mean_absolute_error(y_valid, lr.predict(X_valid)))\n",
    "print(\"MSE:    \", metrics.mean_squared_error(y_valid, lr.predict(X_valid)))\n",
    "print(\"RMSE:   \", np.sqrt(metrics.mean_squared_error(y_valid, lr.predict(X_valid))))"
   ],
   "metadata": {
    "collapsed": false
   }
  },
  {
   "cell_type": "code",
   "execution_count": null,
   "outputs": [],
   "source": [
    "# 사이킷런 1.0 버전 아래에서는 다음 라인의 주석을 해제하고 실행하세요.\n",
    "# from sklearn.experimental import enable_hist_gradient_boosting\n",
    "\n",
    "from sklearn.ensemble import HistGradientBoostingClassifier\n",
    "from sklearn.model_selection import cross_validate\n",
    "\n",
    "hgb = HistGradientBoostingClassifier(random_state=42)\n",
    "scores = cross_validate(hgb, X_train, y_train, return_train_score=True, n_jobs=-1)\n",
    "# print(np.mean(scores['train_score']), np.mean(scores['test_score']))\n",
    "#0.9321723946453317 0.8801241948619236\n",
    "\n",
    "\n",
    "from sklearn.inspection import permutation_importance\n",
    "hgb.fit(X_train, y_train)\n",
    "#permutation_importance는 특성을 하나씩 랜덤하게 섞어서 모델의 성능이 변화하는지를 관찰하여 어떤 특성이 중요한지 계산한다.\n",
    "#n_repeats 매개변수는 랜덤하게 섞을 횟수를 지정한다.\n",
    "result = permutation_importance(hgb, X_train, y_train, n_repeats=10, random_state=42, n_jobs=-1)\n",
    "result.importances_mean\n",
    "#[0.08876275 0.23438522 0.08027708]\n",
    "\n",
    "\n",
    "# result = permutation_importance(hgb, X_train, y_train, n_repeats=10, random_state=42, n_jobs=-1)\n",
    "# print(result.importances_mean)\n",
    "#[0.05969231 0.20238462 0.049     ]\n",
    "\n",
    "\n",
    "# hgb.score(X_train, y_train)\n",
    "#0.8723076923076923"
   ],
   "metadata": {
    "collapsed": false
   }
  },
  {
   "cell_type": "code",
   "execution_count": null,
   "outputs": [],
   "source": [],
   "metadata": {
    "collapsed": false
   }
  }
 ],
 "metadata": {
  "kernelspec": {
   "display_name": "Python 3",
   "language": "python",
   "name": "python3"
  },
  "language_info": {
   "codemirror_mode": {
    "name": "ipython",
    "version": 2
   },
   "file_extension": ".py",
   "mimetype": "text/x-python",
   "name": "python",
   "nbconvert_exporter": "python",
   "pygments_lexer": "ipython2",
   "version": "2.7.6"
  }
 },
 "nbformat": 4,
 "nbformat_minor": 0
}
