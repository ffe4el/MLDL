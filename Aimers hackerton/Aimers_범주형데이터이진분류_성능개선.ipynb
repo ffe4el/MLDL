{
 "cells": [
  {
   "cell_type": "code",
   "execution_count": null,
   "metadata": {
    "collapsed": true
   },
   "outputs": [],
   "source": [
    "import pandas as pd\n",
    "\n",
    "data_path = '/Users/sola/Downloads/open/'\n",
    "\n",
    "# index_col은 불러올 데이터프레임의 인덱스를 지정하는 파라미터, 열이름을 전달하면 해당 열을 인덱스로 지정한다.\n",
    "train = pd.read_csv(data_path + 'train.csv', parse_dates=['TIMESTAMP'], dayfirst=True ,infer_datetime_format=True, index_col='PRODUCT_ID')\n",
    "test = pd.read_csv(data_path + 'test.csv', parse_dates=['TIMESTAMP'], dayfirst=True ,infer_datetime_format=True, index_col='PRODUCT_ID')\n",
    "\n",
    "submission = pd.read_csv(data_path + 'sample_submission.csv', index_col='PRODUCT_ID')"
   ]
  },
  {
   "cell_type": "code",
   "execution_count": null,
   "outputs": [],
   "source": [
    "# 피처맞춤 인코딩\n"
   ],
   "metadata": {
    "collapsed": false
   }
  }
 ],
 "metadata": {
  "kernelspec": {
   "display_name": "Python 3",
   "language": "python",
   "name": "python3"
  },
  "language_info": {
   "codemirror_mode": {
    "name": "ipython",
    "version": 2
   },
   "file_extension": ".py",
   "mimetype": "text/x-python",
   "name": "python",
   "nbconvert_exporter": "python",
   "pygments_lexer": "ipython2",
   "version": "2.7.6"
  }
 },
 "nbformat": 4,
 "nbformat_minor": 0
}
