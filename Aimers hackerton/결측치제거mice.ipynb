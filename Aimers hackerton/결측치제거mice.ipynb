{
 "cells": [
  {
   "cell_type": "code",
   "execution_count": 22,
   "metadata": {
    "collapsed": true
   },
   "outputs": [],
   "source": [
    "import numpy as np\n",
    "import pandas as pd\n",
    "\n",
    "from sklearn.linear_model import LinearRegression\n",
    "from sklearn.model_selection import train_test_split\n",
    "\n",
    "from sklearn.experimental import enable_iterative_imputer\n",
    "from sklearn.impute import IterativeImputer\n",
    "\n",
    "data_path = '/Users/sola/Downloads/open/'\n",
    "train = pd.read_csv(data_path + 'train.csv')\n",
    "test = pd.read_csv(data_path + 'test.csv')\n",
    "submission = pd.read_csv(data_path + 'sample_submission.csv')"
   ]
  },
  {
   "cell_type": "code",
   "execution_count": 23,
   "outputs": [
    {
     "name": "stdout",
     "output_type": "stream",
     "text": [
      "['X_3', 'X_6', 'X_14', 'X_70', 'X_74', 'X_75', 'X_76', 'X_77', 'X_78', 'X_79', 'X_82', 'X_83', 'X_84', 'X_85', 'X_142', 'X_190', 'X_191', 'X_192', 'X_193', 'X_194', 'X_195', 'X_232', 'X_234', 'X_235', 'X_259', 'X_260', 'X_315', 'X_319', 'X_322', 'X_323', 'X_324', 'X_327', 'X_328', 'X_329', 'X_330', 'X_375', 'X_376', 'X_377', 'X_378', 'X_427', 'X_466', 'X_467', 'X_505', 'X_508', 'X_558', 'X_561', 'X_567', 'X_583', 'X_617', 'X_620', 'X_631', 'X_633', 'X_634', 'X_636', 'X_638', 'X_639', 'X_640', 'X_641', 'X_642', 'X_672', 'X_673', 'X_676', 'X_691', 'X_692', 'X_695', 'X_715', 'X_729', 'X_732', 'X_743', 'X_749', 'X_759', 'X_760', 'X_761', 'X_764', 'X_776', 'X_777', 'X_778', 'X_836', 'X_843', 'X_844', 'X_849', 'X_859', 'X_886', 'X_887', 'X_888', 'X_889', 'X_992', 'X_1020', 'X_1021', 'X_1022', 'X_1023', 'X_1024', 'X_1025', 'X_1070', 'X_1092', 'X_1119', 'X_1137', 'X_1146', 'X_1206', 'X_1216', 'X_1219', 'X_1248', 'X_1249', 'X_1250', 'X_1251', 'X_1252', 'X_1253', 'X_1255', 'X_1293', 'X_1298', 'X_1309', 'X_1311', 'X_1312', 'X_1314', 'X_1316', 'X_1317', 'X_1318', 'X_1319', 'X_1320', 'X_1361', 'X_1362', 'X_1363', 'X_1364', 'X_1367', 'X_1392', 'X_1393', 'X_1394', 'X_1395', 'X_1396', 'X_1399', 'X_1426', 'X_1457', 'X_1487', 'X_1502', 'X_1503', 'X_1504', 'X_1522', 'X_1531', 'X_1537', 'X_1571', 'X_1572', 'X_1573', 'X_1574', 'X_1575', 'X_1576', 'X_1577', 'X_1578', 'X_1579', 'X_1580', 'X_1581', 'X_1582', 'X_1644', 'X_1645', 'X_1688', 'X_1689', 'X_1692', 'X_1693', 'X_1702', 'X_1722', 'X_1723', 'X_1724', 'X_1754', 'X_1760', 'X_1766', 'X_1772', 'X_1778', 'X_1784', 'X_1790', 'X_1796', 'X_1802', 'X_1808', 'X_1828', 'X_1835', 'X_1836', 'X_1837', 'X_1838', 'X_1839', 'X_1840', 'X_1841', 'X_1842', 'X_1844', 'X_1845', 'X_1846', 'X_1847', 'X_1848', 'X_1851', 'X_1852', 'X_1869', 'X_1870', 'X_1871', 'X_1872', 'X_2052', 'X_2053', 'X_2054', 'X_2055', 'X_2420', 'X_2462', 'X_2733', 'X_2775']\n",
      "199\n"
     ]
    }
   ],
   "source": [
    "wrong = []\n",
    "for i in range(1,2876):\n",
    "    ch = 'X_'+str(i)\n",
    "    if train[ch].mean() == 0:\n",
    "        wrong.append(ch)\n",
    "\n",
    "print(wrong)\n",
    "print(len(wrong))"
   ],
   "metadata": {
    "collapsed": false
   }
  },
  {
   "cell_type": "code",
   "execution_count": 26,
   "outputs": [
    {
     "data": {
      "text/plain": "      X_1   X_2   X_4   X_5   X_7   X_8   X_9  X_10   X_11   X_12  ...  \\\n0     NaN   NaN   NaN   NaN   NaN   NaN   NaN   NaN    NaN    NaN  ...   \n1     NaN   NaN   NaN   NaN   NaN   NaN   NaN   NaN    NaN    NaN  ...   \n2     NaN   NaN   NaN   NaN   NaN   NaN   NaN   NaN    NaN    NaN  ...   \n3     NaN   NaN   NaN   NaN   NaN   NaN   NaN   NaN    NaN    NaN  ...   \n4     NaN   NaN   NaN   NaN   NaN   NaN   NaN   NaN    NaN    NaN  ...   \n..    ...   ...   ...   ...   ...   ...   ...   ...    ...    ...  ...   \n593   2.0  95.0  45.0  10.0  50.0  10.0  52.0   2.0  468.9  473.9  ...   \n594   NaN   NaN   NaN   NaN   NaN   NaN   NaN   NaN    NaN    NaN  ...   \n595   NaN   NaN   NaN   NaN   NaN   NaN   NaN   NaN    NaN    NaN  ...   \n596  40.0  94.0  45.0  11.0  45.0  10.0  31.0   2.0  505.8  510.9  ...   \n597  21.0  87.0  45.0  10.0  61.0  10.0  52.0   2.0  470.6  474.9  ...   \n\n     X_2866  X_2867  X_2868  X_2869  X_2870  X_2871  X_2872  X_2873  X_2874  \\\n0     39.34   40.89   32.56   34.09   77.77     NaN     NaN     NaN     NaN   \n1     38.89   42.82   43.92   35.34   72.55     NaN     NaN     NaN     NaN   \n2     39.19   36.65   42.47   36.53   78.35     NaN     NaN     NaN     NaN   \n3     37.74   39.17   52.17   30.58   71.78     NaN     NaN     NaN     NaN   \n4     38.70   41.89   46.93   33.09   76.97     NaN     NaN     NaN     NaN   \n..      ...     ...     ...     ...     ...     ...     ...     ...     ...   \n593     NaN     NaN     NaN     NaN     NaN     NaN     NaN     NaN     NaN   \n594   49.47   53.07   50.89   55.10   66.49     1.0     NaN     NaN     NaN   \n595     NaN     NaN     NaN     NaN     NaN     1.0     NaN     NaN     NaN   \n596     NaN     NaN     NaN     NaN     NaN     NaN     NaN     NaN     NaN   \n597     NaN     NaN     NaN     NaN     NaN     NaN     NaN     NaN     NaN   \n\n     X_2875  \n0       NaN  \n1       NaN  \n2       NaN  \n3       NaN  \n4       NaN  \n..      ...  \n593     NaN  \n594     NaN  \n595     NaN  \n596     NaN  \n597     NaN  \n\n[598 rows x 2676 columns]",
      "text/html": "<div>\n<style scoped>\n    .dataframe tbody tr th:only-of-type {\n        vertical-align: middle;\n    }\n\n    .dataframe tbody tr th {\n        vertical-align: top;\n    }\n\n    .dataframe thead th {\n        text-align: right;\n    }\n</style>\n<table border=\"1\" class=\"dataframe\">\n  <thead>\n    <tr style=\"text-align: right;\">\n      <th></th>\n      <th>X_1</th>\n      <th>X_2</th>\n      <th>X_4</th>\n      <th>X_5</th>\n      <th>X_7</th>\n      <th>X_8</th>\n      <th>X_9</th>\n      <th>X_10</th>\n      <th>X_11</th>\n      <th>X_12</th>\n      <th>...</th>\n      <th>X_2866</th>\n      <th>X_2867</th>\n      <th>X_2868</th>\n      <th>X_2869</th>\n      <th>X_2870</th>\n      <th>X_2871</th>\n      <th>X_2872</th>\n      <th>X_2873</th>\n      <th>X_2874</th>\n      <th>X_2875</th>\n    </tr>\n  </thead>\n  <tbody>\n    <tr>\n      <th>0</th>\n      <td>NaN</td>\n      <td>NaN</td>\n      <td>NaN</td>\n      <td>NaN</td>\n      <td>NaN</td>\n      <td>NaN</td>\n      <td>NaN</td>\n      <td>NaN</td>\n      <td>NaN</td>\n      <td>NaN</td>\n      <td>...</td>\n      <td>39.34</td>\n      <td>40.89</td>\n      <td>32.56</td>\n      <td>34.09</td>\n      <td>77.77</td>\n      <td>NaN</td>\n      <td>NaN</td>\n      <td>NaN</td>\n      <td>NaN</td>\n      <td>NaN</td>\n    </tr>\n    <tr>\n      <th>1</th>\n      <td>NaN</td>\n      <td>NaN</td>\n      <td>NaN</td>\n      <td>NaN</td>\n      <td>NaN</td>\n      <td>NaN</td>\n      <td>NaN</td>\n      <td>NaN</td>\n      <td>NaN</td>\n      <td>NaN</td>\n      <td>...</td>\n      <td>38.89</td>\n      <td>42.82</td>\n      <td>43.92</td>\n      <td>35.34</td>\n      <td>72.55</td>\n      <td>NaN</td>\n      <td>NaN</td>\n      <td>NaN</td>\n      <td>NaN</td>\n      <td>NaN</td>\n    </tr>\n    <tr>\n      <th>2</th>\n      <td>NaN</td>\n      <td>NaN</td>\n      <td>NaN</td>\n      <td>NaN</td>\n      <td>NaN</td>\n      <td>NaN</td>\n      <td>NaN</td>\n      <td>NaN</td>\n      <td>NaN</td>\n      <td>NaN</td>\n      <td>...</td>\n      <td>39.19</td>\n      <td>36.65</td>\n      <td>42.47</td>\n      <td>36.53</td>\n      <td>78.35</td>\n      <td>NaN</td>\n      <td>NaN</td>\n      <td>NaN</td>\n      <td>NaN</td>\n      <td>NaN</td>\n    </tr>\n    <tr>\n      <th>3</th>\n      <td>NaN</td>\n      <td>NaN</td>\n      <td>NaN</td>\n      <td>NaN</td>\n      <td>NaN</td>\n      <td>NaN</td>\n      <td>NaN</td>\n      <td>NaN</td>\n      <td>NaN</td>\n      <td>NaN</td>\n      <td>...</td>\n      <td>37.74</td>\n      <td>39.17</td>\n      <td>52.17</td>\n      <td>30.58</td>\n      <td>71.78</td>\n      <td>NaN</td>\n      <td>NaN</td>\n      <td>NaN</td>\n      <td>NaN</td>\n      <td>NaN</td>\n    </tr>\n    <tr>\n      <th>4</th>\n      <td>NaN</td>\n      <td>NaN</td>\n      <td>NaN</td>\n      <td>NaN</td>\n      <td>NaN</td>\n      <td>NaN</td>\n      <td>NaN</td>\n      <td>NaN</td>\n      <td>NaN</td>\n      <td>NaN</td>\n      <td>...</td>\n      <td>38.70</td>\n      <td>41.89</td>\n      <td>46.93</td>\n      <td>33.09</td>\n      <td>76.97</td>\n      <td>NaN</td>\n      <td>NaN</td>\n      <td>NaN</td>\n      <td>NaN</td>\n      <td>NaN</td>\n    </tr>\n    <tr>\n      <th>...</th>\n      <td>...</td>\n      <td>...</td>\n      <td>...</td>\n      <td>...</td>\n      <td>...</td>\n      <td>...</td>\n      <td>...</td>\n      <td>...</td>\n      <td>...</td>\n      <td>...</td>\n      <td>...</td>\n      <td>...</td>\n      <td>...</td>\n      <td>...</td>\n      <td>...</td>\n      <td>...</td>\n      <td>...</td>\n      <td>...</td>\n      <td>...</td>\n      <td>...</td>\n      <td>...</td>\n    </tr>\n    <tr>\n      <th>593</th>\n      <td>2.0</td>\n      <td>95.0</td>\n      <td>45.0</td>\n      <td>10.0</td>\n      <td>50.0</td>\n      <td>10.0</td>\n      <td>52.0</td>\n      <td>2.0</td>\n      <td>468.9</td>\n      <td>473.9</td>\n      <td>...</td>\n      <td>NaN</td>\n      <td>NaN</td>\n      <td>NaN</td>\n      <td>NaN</td>\n      <td>NaN</td>\n      <td>NaN</td>\n      <td>NaN</td>\n      <td>NaN</td>\n      <td>NaN</td>\n      <td>NaN</td>\n    </tr>\n    <tr>\n      <th>594</th>\n      <td>NaN</td>\n      <td>NaN</td>\n      <td>NaN</td>\n      <td>NaN</td>\n      <td>NaN</td>\n      <td>NaN</td>\n      <td>NaN</td>\n      <td>NaN</td>\n      <td>NaN</td>\n      <td>NaN</td>\n      <td>...</td>\n      <td>49.47</td>\n      <td>53.07</td>\n      <td>50.89</td>\n      <td>55.10</td>\n      <td>66.49</td>\n      <td>1.0</td>\n      <td>NaN</td>\n      <td>NaN</td>\n      <td>NaN</td>\n      <td>NaN</td>\n    </tr>\n    <tr>\n      <th>595</th>\n      <td>NaN</td>\n      <td>NaN</td>\n      <td>NaN</td>\n      <td>NaN</td>\n      <td>NaN</td>\n      <td>NaN</td>\n      <td>NaN</td>\n      <td>NaN</td>\n      <td>NaN</td>\n      <td>NaN</td>\n      <td>...</td>\n      <td>NaN</td>\n      <td>NaN</td>\n      <td>NaN</td>\n      <td>NaN</td>\n      <td>NaN</td>\n      <td>1.0</td>\n      <td>NaN</td>\n      <td>NaN</td>\n      <td>NaN</td>\n      <td>NaN</td>\n    </tr>\n    <tr>\n      <th>596</th>\n      <td>40.0</td>\n      <td>94.0</td>\n      <td>45.0</td>\n      <td>11.0</td>\n      <td>45.0</td>\n      <td>10.0</td>\n      <td>31.0</td>\n      <td>2.0</td>\n      <td>505.8</td>\n      <td>510.9</td>\n      <td>...</td>\n      <td>NaN</td>\n      <td>NaN</td>\n      <td>NaN</td>\n      <td>NaN</td>\n      <td>NaN</td>\n      <td>NaN</td>\n      <td>NaN</td>\n      <td>NaN</td>\n      <td>NaN</td>\n      <td>NaN</td>\n    </tr>\n    <tr>\n      <th>597</th>\n      <td>21.0</td>\n      <td>87.0</td>\n      <td>45.0</td>\n      <td>10.0</td>\n      <td>61.0</td>\n      <td>10.0</td>\n      <td>52.0</td>\n      <td>2.0</td>\n      <td>470.6</td>\n      <td>474.9</td>\n      <td>...</td>\n      <td>NaN</td>\n      <td>NaN</td>\n      <td>NaN</td>\n      <td>NaN</td>\n      <td>NaN</td>\n      <td>NaN</td>\n      <td>NaN</td>\n      <td>NaN</td>\n      <td>NaN</td>\n      <td>NaN</td>\n    </tr>\n  </tbody>\n</table>\n<p>598 rows × 2676 columns</p>\n</div>"
     },
     "execution_count": 26,
     "metadata": {},
     "output_type": "execute_result"
    }
   ],
   "source": [
    "X = train.drop(['Y_Class', 'Y_Quality','PRODUCT_CODE','PRODUCT_ID','TIMESTAMP','LINE'], axis =1)\n",
    "X = X.drop(wrong, axis=1)\n",
    "y = train['Y_Class']\n",
    "\n",
    "X"
   ],
   "metadata": {
    "collapsed": false
   }
  },
  {
   "cell_type": "code",
   "execution_count": 27,
   "outputs": [
    {
     "data": {
      "text/plain": "Index(['X_1', 'X_2', 'X_4', 'X_5', 'X_7', 'X_8', 'X_9', 'X_10', 'X_11', 'X_12',\n       ...\n       'X_2866', 'X_2867', 'X_2868', 'X_2869', 'X_2870', 'X_2871', 'X_2872',\n       'X_2873', 'X_2874', 'X_2875'],\n      dtype='object', length=2676)"
     },
     "execution_count": 27,
     "metadata": {},
     "output_type": "execute_result"
    }
   ],
   "source": [
    "a = X.columns\n",
    "a\n",
    "# for i in range(2676):\n",
    "#     X[f\"X_{i}\"]"
   ],
   "metadata": {
    "collapsed": false
   }
  },
  {
   "cell_type": "code",
   "execution_count": 28,
   "outputs": [
    {
     "data": {
      "text/plain": "             X_1       X_2  X_4       X_5       X_7       X_8       X_9  X_10  \\\nX_1     1.000000 -0.009092  0.0  0.079607 -0.024264 -0.018011 -0.052855   0.0   \nX_2    -0.009092  1.000000  0.0  0.569530 -0.597949 -0.195017 -0.701972   0.0   \nX_4     0.000000  0.000000  0.0  0.000000  0.000000  0.000000  0.000000   0.0   \nX_5     0.079607  0.569530  0.0  1.000000 -0.699841 -0.181906 -0.801582   0.0   \nX_7    -0.024264 -0.597949  0.0 -0.699841  1.000000  0.324154  0.873075   0.0   \n...          ...       ...  ...       ...       ...       ...       ...   ...   \nX_2871  0.000000  0.000000  0.0  0.000000  0.000000  0.000000  0.000000   0.0   \nX_2872  0.000000  0.000000  0.0  0.000000  0.000000  0.000000  0.000000   0.0   \nX_2873  0.000000  0.000000  0.0  0.000000  0.000000  0.000000  0.000000   0.0   \nX_2874  0.000000  0.000000  0.0  0.000000  0.000000  0.000000  0.000000   0.0   \nX_2875  0.000000  0.000000  0.0  0.000000  0.000000  0.000000  0.000000   0.0   \n\n            X_11      X_12  ...  X_2866  X_2867  X_2868  X_2869  X_2870  \\\nX_1    -0.020493 -0.026990  ...     0.0     0.0     0.0     0.0     0.0   \nX_2     0.333930  0.312657  ...     0.0     0.0     0.0     0.0     0.0   \nX_4     0.000000  0.000000  ...     0.0     0.0     0.0     0.0     0.0   \nX_5     0.347762  0.316936  ...     0.0     0.0     0.0     0.0     0.0   \nX_7    -0.468651 -0.444337  ...     0.0     0.0     0.0     0.0     0.0   \n...          ...       ...  ...     ...     ...     ...     ...     ...   \nX_2871  0.000000  0.000000  ...     0.0     0.0     0.0     0.0     0.0   \nX_2872  0.000000  0.000000  ...     0.0     0.0     0.0     0.0     0.0   \nX_2873  0.000000  0.000000  ...     0.0     0.0     0.0     0.0     0.0   \nX_2874  0.000000  0.000000  ...     0.0     0.0     0.0     0.0     0.0   \nX_2875  0.000000  0.000000  ...     0.0     0.0     0.0     0.0     0.0   \n\n        X_2871  X_2872  X_2873  X_2874  X_2875  \nX_1        0.0     0.0     0.0     0.0     0.0  \nX_2        0.0     0.0     0.0     0.0     0.0  \nX_4        0.0     0.0     0.0     0.0     0.0  \nX_5        0.0     0.0     0.0     0.0     0.0  \nX_7        0.0     0.0     0.0     0.0     0.0  \n...        ...     ...     ...     ...     ...  \nX_2871     0.0     0.0     0.0     0.0     0.0  \nX_2872     0.0     0.0     0.0     0.0     0.0  \nX_2873     0.0     0.0     0.0     0.0     0.0  \nX_2874     0.0     0.0     0.0     0.0     0.0  \nX_2875     0.0     0.0     0.0     0.0     0.0  \n\n[2676 rows x 2676 columns]",
      "text/html": "<div>\n<style scoped>\n    .dataframe tbody tr th:only-of-type {\n        vertical-align: middle;\n    }\n\n    .dataframe tbody tr th {\n        vertical-align: top;\n    }\n\n    .dataframe thead th {\n        text-align: right;\n    }\n</style>\n<table border=\"1\" class=\"dataframe\">\n  <thead>\n    <tr style=\"text-align: right;\">\n      <th></th>\n      <th>X_1</th>\n      <th>X_2</th>\n      <th>X_4</th>\n      <th>X_5</th>\n      <th>X_7</th>\n      <th>X_8</th>\n      <th>X_9</th>\n      <th>X_10</th>\n      <th>X_11</th>\n      <th>X_12</th>\n      <th>...</th>\n      <th>X_2866</th>\n      <th>X_2867</th>\n      <th>X_2868</th>\n      <th>X_2869</th>\n      <th>X_2870</th>\n      <th>X_2871</th>\n      <th>X_2872</th>\n      <th>X_2873</th>\n      <th>X_2874</th>\n      <th>X_2875</th>\n    </tr>\n  </thead>\n  <tbody>\n    <tr>\n      <th>X_1</th>\n      <td>1.000000</td>\n      <td>-0.009092</td>\n      <td>0.0</td>\n      <td>0.079607</td>\n      <td>-0.024264</td>\n      <td>-0.018011</td>\n      <td>-0.052855</td>\n      <td>0.0</td>\n      <td>-0.020493</td>\n      <td>-0.026990</td>\n      <td>...</td>\n      <td>0.0</td>\n      <td>0.0</td>\n      <td>0.0</td>\n      <td>0.0</td>\n      <td>0.0</td>\n      <td>0.0</td>\n      <td>0.0</td>\n      <td>0.0</td>\n      <td>0.0</td>\n      <td>0.0</td>\n    </tr>\n    <tr>\n      <th>X_2</th>\n      <td>-0.009092</td>\n      <td>1.000000</td>\n      <td>0.0</td>\n      <td>0.569530</td>\n      <td>-0.597949</td>\n      <td>-0.195017</td>\n      <td>-0.701972</td>\n      <td>0.0</td>\n      <td>0.333930</td>\n      <td>0.312657</td>\n      <td>...</td>\n      <td>0.0</td>\n      <td>0.0</td>\n      <td>0.0</td>\n      <td>0.0</td>\n      <td>0.0</td>\n      <td>0.0</td>\n      <td>0.0</td>\n      <td>0.0</td>\n      <td>0.0</td>\n      <td>0.0</td>\n    </tr>\n    <tr>\n      <th>X_4</th>\n      <td>0.000000</td>\n      <td>0.000000</td>\n      <td>0.0</td>\n      <td>0.000000</td>\n      <td>0.000000</td>\n      <td>0.000000</td>\n      <td>0.000000</td>\n      <td>0.0</td>\n      <td>0.000000</td>\n      <td>0.000000</td>\n      <td>...</td>\n      <td>0.0</td>\n      <td>0.0</td>\n      <td>0.0</td>\n      <td>0.0</td>\n      <td>0.0</td>\n      <td>0.0</td>\n      <td>0.0</td>\n      <td>0.0</td>\n      <td>0.0</td>\n      <td>0.0</td>\n    </tr>\n    <tr>\n      <th>X_5</th>\n      <td>0.079607</td>\n      <td>0.569530</td>\n      <td>0.0</td>\n      <td>1.000000</td>\n      <td>-0.699841</td>\n      <td>-0.181906</td>\n      <td>-0.801582</td>\n      <td>0.0</td>\n      <td>0.347762</td>\n      <td>0.316936</td>\n      <td>...</td>\n      <td>0.0</td>\n      <td>0.0</td>\n      <td>0.0</td>\n      <td>0.0</td>\n      <td>0.0</td>\n      <td>0.0</td>\n      <td>0.0</td>\n      <td>0.0</td>\n      <td>0.0</td>\n      <td>0.0</td>\n    </tr>\n    <tr>\n      <th>X_7</th>\n      <td>-0.024264</td>\n      <td>-0.597949</td>\n      <td>0.0</td>\n      <td>-0.699841</td>\n      <td>1.000000</td>\n      <td>0.324154</td>\n      <td>0.873075</td>\n      <td>0.0</td>\n      <td>-0.468651</td>\n      <td>-0.444337</td>\n      <td>...</td>\n      <td>0.0</td>\n      <td>0.0</td>\n      <td>0.0</td>\n      <td>0.0</td>\n      <td>0.0</td>\n      <td>0.0</td>\n      <td>0.0</td>\n      <td>0.0</td>\n      <td>0.0</td>\n      <td>0.0</td>\n    </tr>\n    <tr>\n      <th>...</th>\n      <td>...</td>\n      <td>...</td>\n      <td>...</td>\n      <td>...</td>\n      <td>...</td>\n      <td>...</td>\n      <td>...</td>\n      <td>...</td>\n      <td>...</td>\n      <td>...</td>\n      <td>...</td>\n      <td>...</td>\n      <td>...</td>\n      <td>...</td>\n      <td>...</td>\n      <td>...</td>\n      <td>...</td>\n      <td>...</td>\n      <td>...</td>\n      <td>...</td>\n      <td>...</td>\n    </tr>\n    <tr>\n      <th>X_2871</th>\n      <td>0.000000</td>\n      <td>0.000000</td>\n      <td>0.0</td>\n      <td>0.000000</td>\n      <td>0.000000</td>\n      <td>0.000000</td>\n      <td>0.000000</td>\n      <td>0.0</td>\n      <td>0.000000</td>\n      <td>0.000000</td>\n      <td>...</td>\n      <td>0.0</td>\n      <td>0.0</td>\n      <td>0.0</td>\n      <td>0.0</td>\n      <td>0.0</td>\n      <td>0.0</td>\n      <td>0.0</td>\n      <td>0.0</td>\n      <td>0.0</td>\n      <td>0.0</td>\n    </tr>\n    <tr>\n      <th>X_2872</th>\n      <td>0.000000</td>\n      <td>0.000000</td>\n      <td>0.0</td>\n      <td>0.000000</td>\n      <td>0.000000</td>\n      <td>0.000000</td>\n      <td>0.000000</td>\n      <td>0.0</td>\n      <td>0.000000</td>\n      <td>0.000000</td>\n      <td>...</td>\n      <td>0.0</td>\n      <td>0.0</td>\n      <td>0.0</td>\n      <td>0.0</td>\n      <td>0.0</td>\n      <td>0.0</td>\n      <td>0.0</td>\n      <td>0.0</td>\n      <td>0.0</td>\n      <td>0.0</td>\n    </tr>\n    <tr>\n      <th>X_2873</th>\n      <td>0.000000</td>\n      <td>0.000000</td>\n      <td>0.0</td>\n      <td>0.000000</td>\n      <td>0.000000</td>\n      <td>0.000000</td>\n      <td>0.000000</td>\n      <td>0.0</td>\n      <td>0.000000</td>\n      <td>0.000000</td>\n      <td>...</td>\n      <td>0.0</td>\n      <td>0.0</td>\n      <td>0.0</td>\n      <td>0.0</td>\n      <td>0.0</td>\n      <td>0.0</td>\n      <td>0.0</td>\n      <td>0.0</td>\n      <td>0.0</td>\n      <td>0.0</td>\n    </tr>\n    <tr>\n      <th>X_2874</th>\n      <td>0.000000</td>\n      <td>0.000000</td>\n      <td>0.0</td>\n      <td>0.000000</td>\n      <td>0.000000</td>\n      <td>0.000000</td>\n      <td>0.000000</td>\n      <td>0.0</td>\n      <td>0.000000</td>\n      <td>0.000000</td>\n      <td>...</td>\n      <td>0.0</td>\n      <td>0.0</td>\n      <td>0.0</td>\n      <td>0.0</td>\n      <td>0.0</td>\n      <td>0.0</td>\n      <td>0.0</td>\n      <td>0.0</td>\n      <td>0.0</td>\n      <td>0.0</td>\n    </tr>\n    <tr>\n      <th>X_2875</th>\n      <td>0.000000</td>\n      <td>0.000000</td>\n      <td>0.0</td>\n      <td>0.000000</td>\n      <td>0.000000</td>\n      <td>0.000000</td>\n      <td>0.000000</td>\n      <td>0.0</td>\n      <td>0.000000</td>\n      <td>0.000000</td>\n      <td>...</td>\n      <td>0.0</td>\n      <td>0.0</td>\n      <td>0.0</td>\n      <td>0.0</td>\n      <td>0.0</td>\n      <td>0.0</td>\n      <td>0.0</td>\n      <td>0.0</td>\n      <td>0.0</td>\n      <td>0.0</td>\n    </tr>\n  </tbody>\n</table>\n<p>2676 rows × 2676 columns</p>\n</div>"
     },
     "execution_count": 28,
     "metadata": {},
     "output_type": "execute_result"
    }
   ],
   "source": [
    "X.corr().fillna(0)"
   ],
   "metadata": {
    "collapsed": false
   }
  },
  {
   "cell_type": "code",
   "execution_count": 29,
   "outputs": [],
   "source": [
    "lr = LinearRegression()\n",
    "\n",
    "imp = IterativeImputer(estimator=lr, verbose=2, max_iter=30, tol=1e-10, imputation_order='roman')"
   ],
   "metadata": {
    "collapsed": false
   }
  },
  {
   "cell_type": "code",
   "execution_count": 56,
   "outputs": [
    {
     "name": "stdout",
     "output_type": "stream",
     "text": [
      "[IterativeImputer] Completing matrix with shape (598, 2594)\n",
      "[IterativeImputer] Ending imputation round 1/30, elapsed time 369.00\n",
      "[IterativeImputer] Change: 50154869.839598164, scaled tolerance: 2020.0 \n",
      "[IterativeImputer] Ending imputation round 2/30, elapsed time 730.88\n",
      "[IterativeImputer] Change: 369176665.6970472, scaled tolerance: 2020.0 \n",
      "[IterativeImputer] Ending imputation round 3/30, elapsed time 1082.87\n",
      "[IterativeImputer] Change: 219184260.15070945, scaled tolerance: 2020.0 \n",
      "[IterativeImputer] Ending imputation round 4/30, elapsed time 1522.10\n",
      "[IterativeImputer] Change: 55401449.72869054, scaled tolerance: 2020.0 \n",
      "[IterativeImputer] Ending imputation round 5/30, elapsed time 1985.47\n",
      "[IterativeImputer] Change: 35236474.993735425, scaled tolerance: 2020.0 \n",
      "[IterativeImputer] Ending imputation round 6/30, elapsed time 2358.66\n",
      "[IterativeImputer] Change: 29990612.721520185, scaled tolerance: 2020.0 \n",
      "[IterativeImputer] Ending imputation round 7/30, elapsed time 2708.47\n",
      "[IterativeImputer] Change: 21284504.0269625, scaled tolerance: 2020.0 \n",
      "[IterativeImputer] Ending imputation round 8/30, elapsed time 3052.64\n",
      "[IterativeImputer] Change: 8980910.160516318, scaled tolerance: 2020.0 \n",
      "[IterativeImputer] Ending imputation round 9/30, elapsed time 3449.06\n",
      "[IterativeImputer] Change: 4803492.5735802315, scaled tolerance: 2020.0 \n",
      "[IterativeImputer] Ending imputation round 10/30, elapsed time 3820.56\n",
      "[IterativeImputer] Change: 3382588.7368684597, scaled tolerance: 2020.0 \n",
      "[IterativeImputer] Ending imputation round 11/30, elapsed time 4189.84\n",
      "[IterativeImputer] Change: 2596145.506555839, scaled tolerance: 2020.0 \n",
      "[IterativeImputer] Ending imputation round 12/30, elapsed time 4601.67\n",
      "[IterativeImputer] Change: 2347990.589771767, scaled tolerance: 2020.0 \n",
      "[IterativeImputer] Ending imputation round 13/30, elapsed time 5114.61\n",
      "[IterativeImputer] Change: 2008534.782232643, scaled tolerance: 2020.0 \n",
      "[IterativeImputer] Ending imputation round 14/30, elapsed time 5640.37\n",
      "[IterativeImputer] Change: 1712829.7935903901, scaled tolerance: 2020.0 \n",
      "[IterativeImputer] Ending imputation round 15/30, elapsed time 6159.18\n",
      "[IterativeImputer] Change: 1666362.9097026903, scaled tolerance: 2020.0 \n",
      "[IterativeImputer] Ending imputation round 16/30, elapsed time 6650.18\n",
      "[IterativeImputer] Change: 1659607.7375128702, scaled tolerance: 2020.0 \n",
      "[IterativeImputer] Ending imputation round 17/30, elapsed time 11632.56\n",
      "[IterativeImputer] Change: 1512851.4220790593, scaled tolerance: 2020.0 \n",
      "[IterativeImputer] Ending imputation round 18/30, elapsed time 12005.63\n",
      "[IterativeImputer] Change: 1390597.7014052942, scaled tolerance: 2020.0 \n",
      "[IterativeImputer] Ending imputation round 19/30, elapsed time 12379.33\n",
      "[IterativeImputer] Change: 1723096.0048888577, scaled tolerance: 2020.0 \n",
      "[IterativeImputer] Ending imputation round 20/30, elapsed time 12806.46\n",
      "[IterativeImputer] Change: 1755900.1669469457, scaled tolerance: 2020.0 \n",
      "[IterativeImputer] Ending imputation round 21/30, elapsed time 13323.30\n",
      "[IterativeImputer] Change: 1894091.1862003177, scaled tolerance: 2020.0 \n",
      "[IterativeImputer] Ending imputation round 22/30, elapsed time 13813.98\n",
      "[IterativeImputer] Change: 1585882.973203454, scaled tolerance: 2020.0 \n",
      "[IterativeImputer] Ending imputation round 23/30, elapsed time 14341.79\n",
      "[IterativeImputer] Change: 2015178.9316886822, scaled tolerance: 2020.0 \n",
      "[IterativeImputer] Ending imputation round 24/30, elapsed time 14873.77\n",
      "[IterativeImputer] Change: 1697290.3528884768, scaled tolerance: 2020.0 \n",
      "[IterativeImputer] Ending imputation round 25/30, elapsed time 18221.02\n",
      "[IterativeImputer] Change: 1835202.7939725518, scaled tolerance: 2020.0 \n",
      "[IterativeImputer] Ending imputation round 26/30, elapsed time 18644.68\n",
      "[IterativeImputer] Change: 1697064.5152647796, scaled tolerance: 2020.0 \n",
      "[IterativeImputer] Ending imputation round 27/30, elapsed time 19974.95\n",
      "[IterativeImputer] Change: 1673332.2101933118, scaled tolerance: 2020.0 \n",
      "[IterativeImputer] Ending imputation round 28/30, elapsed time 20236.62\n",
      "[IterativeImputer] Change: 1863391.5328210704, scaled tolerance: 2020.0 \n",
      "[IterativeImputer] Ending imputation round 29/30, elapsed time 20463.42\n",
      "[IterativeImputer] Change: 1862142.3179065736, scaled tolerance: 2020.0 \n",
      "[IterativeImputer] Ending imputation round 30/30, elapsed time 20660.57\n",
      "[IterativeImputer] Change: 1592977.8415056625, scaled tolerance: 2020.0 \n"
     ]
    },
    {
     "name": "stderr",
     "output_type": "stream",
     "text": [
      "/Users/sola/opt/anaconda3/lib/python3.9/site-packages/sklearn/impute/_iterative.py:699: ConvergenceWarning: [IterativeImputer] Early stopping criterion not reached.\n",
      "  warnings.warn(\n"
     ]
    },
    {
     "name": "stdout",
     "output_type": "stream",
     "text": [
      "[IterativeImputer] Completing matrix with shape (598, 2594)\n",
      "[IterativeImputer] Ending imputation round 1/30, elapsed time 21.16\n",
      "[IterativeImputer] Ending imputation round 2/30, elapsed time 42.22\n",
      "[IterativeImputer] Ending imputation round 3/30, elapsed time 63.18\n",
      "[IterativeImputer] Ending imputation round 4/30, elapsed time 81.66\n",
      "[IterativeImputer] Ending imputation round 5/30, elapsed time 96.06\n",
      "[IterativeImputer] Ending imputation round 6/30, elapsed time 110.51\n",
      "[IterativeImputer] Ending imputation round 7/30, elapsed time 124.75\n",
      "[IterativeImputer] Ending imputation round 8/30, elapsed time 138.96\n",
      "[IterativeImputer] Ending imputation round 9/30, elapsed time 153.21\n",
      "[IterativeImputer] Ending imputation round 10/30, elapsed time 168.86\n",
      "[IterativeImputer] Ending imputation round 11/30, elapsed time 183.16\n",
      "[IterativeImputer] Ending imputation round 12/30, elapsed time 197.89\n",
      "[IterativeImputer] Ending imputation round 13/30, elapsed time 212.21\n",
      "[IterativeImputer] Ending imputation round 14/30, elapsed time 226.50\n",
      "[IterativeImputer] Ending imputation round 15/30, elapsed time 240.85\n",
      "[IterativeImputer] Ending imputation round 16/30, elapsed time 255.27\n",
      "[IterativeImputer] Ending imputation round 17/30, elapsed time 269.59\n",
      "[IterativeImputer] Ending imputation round 18/30, elapsed time 283.97\n",
      "[IterativeImputer] Ending imputation round 19/30, elapsed time 298.28\n",
      "[IterativeImputer] Ending imputation round 20/30, elapsed time 312.68\n",
      "[IterativeImputer] Ending imputation round 21/30, elapsed time 327.13\n",
      "[IterativeImputer] Ending imputation round 22/30, elapsed time 341.71\n",
      "[IterativeImputer] Ending imputation round 23/30, elapsed time 356.34\n",
      "[IterativeImputer] Ending imputation round 24/30, elapsed time 371.09\n",
      "[IterativeImputer] Ending imputation round 25/30, elapsed time 386.19\n",
      "[IterativeImputer] Ending imputation round 26/30, elapsed time 400.98\n",
      "[IterativeImputer] Ending imputation round 27/30, elapsed time 415.81\n",
      "[IterativeImputer] Ending imputation round 28/30, elapsed time 430.59\n",
      "[IterativeImputer] Ending imputation round 29/30, elapsed time 445.76\n",
      "[IterativeImputer] Ending imputation round 30/30, elapsed time 461.06\n"
     ]
    },
    {
     "data": {
      "text/plain": "              0              1     2             3              4     \\\n0   -101073.885924 -126459.506774  45.0  2.610786e+06  144409.799522   \n1    -93982.537361 -136146.735470  45.0  2.698840e+06  153855.969885   \n2   -145008.448216 -149771.506906  45.0  2.457683e+06  137745.594429   \n3    -88953.306065 -130501.391118  45.0  2.677776e+06  152163.825720   \n4   -101423.370846 -124494.248939  45.0  2.579189e+06  143512.594737   \n..             ...            ...   ...           ...            ...   \n593       2.000000      95.000000  45.0  1.000000e+01      50.000000   \n594 -175361.586022  -96350.582898  45.0  1.330724e+06   91088.163707   \n595 -176024.130610  -95854.390635  45.0  1.315332e+06   90445.656683   \n596      40.000000      94.000000  45.0  1.100000e+01      45.000000   \n597      21.000000      87.000000  45.0  1.000000e+01      61.000000   \n\n             5              6     7              8              9     ...  \\\n0    23441.527801 -352273.519410   2.0 -380503.566795  566815.852286  ...   \n1    15147.783422 -340366.305727   2.0 -404786.816950  563415.422995  ...   \n2     5537.871533 -367238.138100   2.0 -260434.022363  590357.092616  ...   \n3    13995.788494 -340803.252972   2.0 -420887.352740  560507.504425  ...   \n4    20077.344738 -346210.082216   2.0 -371722.410734  560553.883361  ...   \n..            ...            ...   ...            ...            ...  ...   \n593     10.000000      52.000000   2.0     468.900000     473.900000  ...   \n594 -59343.652894 -256184.393563   2.0  155050.627908  454919.673288  ...   \n595 -60364.375617 -255237.787934   2.0  160805.053756  453558.881834  ...   \n596     10.000000      31.000000   2.0     505.800000     510.900000  ...   \n597     10.000000      52.000000   2.0     470.600000     474.900000  ...   \n\n           2584        2585        2586        2587         2588         2589  \\\n0    189.000000  383.000000  368.296296  353.000000    39.340000    40.890000   \n1    185.600000  383.000000  367.735849  353.000000    38.890000    42.820000   \n2    165.500000  383.000000  367.320755  353.000000    39.190000    36.650000   \n3    165.800000  384.000000  369.188679  353.000000    37.740000    39.170000   \n4    182.600000  383.000000  367.351852  352.000000    38.700000    41.890000   \n..          ...         ...         ...         ...          ...          ...   \n593 -549.787585  722.299153   -9.847816  906.740543  -783.640675 -5182.549468   \n594  168.700000  384.000000  369.811321  353.000000    49.470000    53.070000   \n595  156.600000  383.000000  367.018868  352.000000    39.793987    55.448454   \n596  416.660270  292.645668  495.253216  347.757727 -1262.992749 -2954.755497   \n597 -313.871086  959.117896  158.300264  831.746872  -192.181440 -6405.249957   \n\n           2590         2591         2592  2593  \n0     32.560000    34.090000    77.770000   1.0  \n1     43.920000    35.340000    72.550000   1.0  \n2     42.470000    36.530000    78.350000   1.0  \n3     52.170000    30.580000    71.780000   1.0  \n4     46.930000    33.090000    76.970000   1.0  \n..          ...          ...          ...   ...  \n593 -758.130997 -4292.407945  -511.225707   1.0  \n594   50.890000    55.100000    66.490000   1.0  \n595   57.959019    47.647600    65.456766   1.0  \n596  523.707209 -1919.832184   459.204029   1.0  \n597 -212.121627 -4990.214682 -1101.685260   1.0  \n\n[598 rows x 2594 columns]",
      "text/html": "<div>\n<style scoped>\n    .dataframe tbody tr th:only-of-type {\n        vertical-align: middle;\n    }\n\n    .dataframe tbody tr th {\n        vertical-align: top;\n    }\n\n    .dataframe thead th {\n        text-align: right;\n    }\n</style>\n<table border=\"1\" class=\"dataframe\">\n  <thead>\n    <tr style=\"text-align: right;\">\n      <th></th>\n      <th>0</th>\n      <th>1</th>\n      <th>2</th>\n      <th>3</th>\n      <th>4</th>\n      <th>5</th>\n      <th>6</th>\n      <th>7</th>\n      <th>8</th>\n      <th>9</th>\n      <th>...</th>\n      <th>2584</th>\n      <th>2585</th>\n      <th>2586</th>\n      <th>2587</th>\n      <th>2588</th>\n      <th>2589</th>\n      <th>2590</th>\n      <th>2591</th>\n      <th>2592</th>\n      <th>2593</th>\n    </tr>\n  </thead>\n  <tbody>\n    <tr>\n      <th>0</th>\n      <td>-101073.885924</td>\n      <td>-126459.506774</td>\n      <td>45.0</td>\n      <td>2.610786e+06</td>\n      <td>144409.799522</td>\n      <td>23441.527801</td>\n      <td>-352273.519410</td>\n      <td>2.0</td>\n      <td>-380503.566795</td>\n      <td>566815.852286</td>\n      <td>...</td>\n      <td>189.000000</td>\n      <td>383.000000</td>\n      <td>368.296296</td>\n      <td>353.000000</td>\n      <td>39.340000</td>\n      <td>40.890000</td>\n      <td>32.560000</td>\n      <td>34.090000</td>\n      <td>77.770000</td>\n      <td>1.0</td>\n    </tr>\n    <tr>\n      <th>1</th>\n      <td>-93982.537361</td>\n      <td>-136146.735470</td>\n      <td>45.0</td>\n      <td>2.698840e+06</td>\n      <td>153855.969885</td>\n      <td>15147.783422</td>\n      <td>-340366.305727</td>\n      <td>2.0</td>\n      <td>-404786.816950</td>\n      <td>563415.422995</td>\n      <td>...</td>\n      <td>185.600000</td>\n      <td>383.000000</td>\n      <td>367.735849</td>\n      <td>353.000000</td>\n      <td>38.890000</td>\n      <td>42.820000</td>\n      <td>43.920000</td>\n      <td>35.340000</td>\n      <td>72.550000</td>\n      <td>1.0</td>\n    </tr>\n    <tr>\n      <th>2</th>\n      <td>-145008.448216</td>\n      <td>-149771.506906</td>\n      <td>45.0</td>\n      <td>2.457683e+06</td>\n      <td>137745.594429</td>\n      <td>5537.871533</td>\n      <td>-367238.138100</td>\n      <td>2.0</td>\n      <td>-260434.022363</td>\n      <td>590357.092616</td>\n      <td>...</td>\n      <td>165.500000</td>\n      <td>383.000000</td>\n      <td>367.320755</td>\n      <td>353.000000</td>\n      <td>39.190000</td>\n      <td>36.650000</td>\n      <td>42.470000</td>\n      <td>36.530000</td>\n      <td>78.350000</td>\n      <td>1.0</td>\n    </tr>\n    <tr>\n      <th>3</th>\n      <td>-88953.306065</td>\n      <td>-130501.391118</td>\n      <td>45.0</td>\n      <td>2.677776e+06</td>\n      <td>152163.825720</td>\n      <td>13995.788494</td>\n      <td>-340803.252972</td>\n      <td>2.0</td>\n      <td>-420887.352740</td>\n      <td>560507.504425</td>\n      <td>...</td>\n      <td>165.800000</td>\n      <td>384.000000</td>\n      <td>369.188679</td>\n      <td>353.000000</td>\n      <td>37.740000</td>\n      <td>39.170000</td>\n      <td>52.170000</td>\n      <td>30.580000</td>\n      <td>71.780000</td>\n      <td>1.0</td>\n    </tr>\n    <tr>\n      <th>4</th>\n      <td>-101423.370846</td>\n      <td>-124494.248939</td>\n      <td>45.0</td>\n      <td>2.579189e+06</td>\n      <td>143512.594737</td>\n      <td>20077.344738</td>\n      <td>-346210.082216</td>\n      <td>2.0</td>\n      <td>-371722.410734</td>\n      <td>560553.883361</td>\n      <td>...</td>\n      <td>182.600000</td>\n      <td>383.000000</td>\n      <td>367.351852</td>\n      <td>352.000000</td>\n      <td>38.700000</td>\n      <td>41.890000</td>\n      <td>46.930000</td>\n      <td>33.090000</td>\n      <td>76.970000</td>\n      <td>1.0</td>\n    </tr>\n    <tr>\n      <th>...</th>\n      <td>...</td>\n      <td>...</td>\n      <td>...</td>\n      <td>...</td>\n      <td>...</td>\n      <td>...</td>\n      <td>...</td>\n      <td>...</td>\n      <td>...</td>\n      <td>...</td>\n      <td>...</td>\n      <td>...</td>\n      <td>...</td>\n      <td>...</td>\n      <td>...</td>\n      <td>...</td>\n      <td>...</td>\n      <td>...</td>\n      <td>...</td>\n      <td>...</td>\n      <td>...</td>\n    </tr>\n    <tr>\n      <th>593</th>\n      <td>2.000000</td>\n      <td>95.000000</td>\n      <td>45.0</td>\n      <td>1.000000e+01</td>\n      <td>50.000000</td>\n      <td>10.000000</td>\n      <td>52.000000</td>\n      <td>2.0</td>\n      <td>468.900000</td>\n      <td>473.900000</td>\n      <td>...</td>\n      <td>-549.787585</td>\n      <td>722.299153</td>\n      <td>-9.847816</td>\n      <td>906.740543</td>\n      <td>-783.640675</td>\n      <td>-5182.549468</td>\n      <td>-758.130997</td>\n      <td>-4292.407945</td>\n      <td>-511.225707</td>\n      <td>1.0</td>\n    </tr>\n    <tr>\n      <th>594</th>\n      <td>-175361.586022</td>\n      <td>-96350.582898</td>\n      <td>45.0</td>\n      <td>1.330724e+06</td>\n      <td>91088.163707</td>\n      <td>-59343.652894</td>\n      <td>-256184.393563</td>\n      <td>2.0</td>\n      <td>155050.627908</td>\n      <td>454919.673288</td>\n      <td>...</td>\n      <td>168.700000</td>\n      <td>384.000000</td>\n      <td>369.811321</td>\n      <td>353.000000</td>\n      <td>49.470000</td>\n      <td>53.070000</td>\n      <td>50.890000</td>\n      <td>55.100000</td>\n      <td>66.490000</td>\n      <td>1.0</td>\n    </tr>\n    <tr>\n      <th>595</th>\n      <td>-176024.130610</td>\n      <td>-95854.390635</td>\n      <td>45.0</td>\n      <td>1.315332e+06</td>\n      <td>90445.656683</td>\n      <td>-60364.375617</td>\n      <td>-255237.787934</td>\n      <td>2.0</td>\n      <td>160805.053756</td>\n      <td>453558.881834</td>\n      <td>...</td>\n      <td>156.600000</td>\n      <td>383.000000</td>\n      <td>367.018868</td>\n      <td>352.000000</td>\n      <td>39.793987</td>\n      <td>55.448454</td>\n      <td>57.959019</td>\n      <td>47.647600</td>\n      <td>65.456766</td>\n      <td>1.0</td>\n    </tr>\n    <tr>\n      <th>596</th>\n      <td>40.000000</td>\n      <td>94.000000</td>\n      <td>45.0</td>\n      <td>1.100000e+01</td>\n      <td>45.000000</td>\n      <td>10.000000</td>\n      <td>31.000000</td>\n      <td>2.0</td>\n      <td>505.800000</td>\n      <td>510.900000</td>\n      <td>...</td>\n      <td>416.660270</td>\n      <td>292.645668</td>\n      <td>495.253216</td>\n      <td>347.757727</td>\n      <td>-1262.992749</td>\n      <td>-2954.755497</td>\n      <td>523.707209</td>\n      <td>-1919.832184</td>\n      <td>459.204029</td>\n      <td>1.0</td>\n    </tr>\n    <tr>\n      <th>597</th>\n      <td>21.000000</td>\n      <td>87.000000</td>\n      <td>45.0</td>\n      <td>1.000000e+01</td>\n      <td>61.000000</td>\n      <td>10.000000</td>\n      <td>52.000000</td>\n      <td>2.0</td>\n      <td>470.600000</td>\n      <td>474.900000</td>\n      <td>...</td>\n      <td>-313.871086</td>\n      <td>959.117896</td>\n      <td>158.300264</td>\n      <td>831.746872</td>\n      <td>-192.181440</td>\n      <td>-6405.249957</td>\n      <td>-212.121627</td>\n      <td>-4990.214682</td>\n      <td>-1101.685260</td>\n      <td>1.0</td>\n    </tr>\n  </tbody>\n</table>\n<p>598 rows × 2594 columns</p>\n</div>"
     },
     "execution_count": 56,
     "metadata": {},
     "output_type": "execute_result"
    }
   ],
   "source": [
    "imp.fit(X)\n",
    "\n",
    "c = imp.transform(X)\n",
    "d = pd.DataFrame(c)\n",
    "d"
   ],
   "metadata": {
    "collapsed": false
   }
  },
  {
   "cell_type": "code",
   "execution_count": 57,
   "outputs": [],
   "source": [
    "pd.set_option('display.max_seq_items', None)"
   ],
   "metadata": {
    "collapsed": false
   }
  },
  {
   "cell_type": "code",
   "execution_count": 58,
   "outputs": [
    {
     "data": {
      "text/plain": "     0              1              2     3          4              5    \\\n0      0 -101073.885924 -126459.506774  45.0  2610786.0  144409.799522   \n1      1  -93982.537361 -136146.735470  45.0  2698840.0  153855.969885   \n2      2 -145008.448216 -149771.506906  45.0  2457683.0  137745.594429   \n3      3  -88953.306065 -130501.391118  45.0  2677776.0  152163.825720   \n4      4 -101423.370846 -124494.248939  45.0  2579189.0  143512.594737   \n..   ...            ...            ...   ...        ...            ...   \n593  593       2.000000      95.000000  45.0       10.0      50.000000   \n594  594 -175361.586022  -96350.582898  45.0  1330724.0   91088.163707   \n595  595 -176024.130610  -95854.390635  45.0  1315332.0   90445.656683   \n596  596      40.000000      94.000000  45.0       11.0      45.000000   \n597  597      21.000000      87.000000  45.0       10.0      61.000000   \n\n              6              7    8              9    ...         492  \\\n0    23441.527801 -352273.519410  2.0 -380503.566795  ...  189.000000   \n1    15147.783422 -340366.305727  2.0 -404786.816950  ...  185.600000   \n2     5537.871533 -367238.138100  2.0 -260434.022363  ...  165.500000   \n3    13995.788494 -340803.252972  2.0 -420887.352740  ...  165.800000   \n4    20077.344738 -346210.082216  2.0 -371722.410734  ...  182.600000   \n..            ...            ...  ...            ...  ...         ...   \n593     10.000000      52.000000  2.0     468.900000  ... -549.787585   \n594 -59343.652894 -256184.393563  2.0  155050.627908  ...  168.700000   \n595 -60364.375617 -255237.787934  2.0  160805.053756  ...  156.600000   \n596     10.000000      31.000000  2.0     505.800000  ...  416.660270   \n597     10.000000      52.000000  2.0     470.600000  ... -313.871086   \n\n            493         494         495          496          497         498  \\\n0    383.000000  368.296296  353.000000    39.340000    40.890000   32.560000   \n1    383.000000  367.735849  353.000000    38.890000    42.820000   43.920000   \n2    383.000000  367.320755  353.000000    39.190000    36.650000   42.470000   \n3    384.000000  369.188679  353.000000    37.740000    39.170000   52.170000   \n4    383.000000  367.351852  352.000000    38.700000    41.890000   46.930000   \n..          ...         ...         ...          ...          ...         ...   \n593  722.299153   -9.847816  906.740543  -783.640675 -5182.549468 -758.130997   \n594  384.000000  369.811321  353.000000    49.470000    53.070000   50.890000   \n595  383.000000  367.018868  352.000000    39.793987    55.448454   57.959019   \n596  292.645668  495.253216  347.757727 -1262.992749 -2954.755497  523.707209   \n597  959.117896  158.300264  831.746872  -192.181440 -6405.249957 -212.121627   \n\n             499          500  501  \n0      34.090000    77.770000  1.0  \n1      35.340000    72.550000  1.0  \n2      36.530000    78.350000  1.0  \n3      30.580000    71.780000  1.0  \n4      33.090000    76.970000  1.0  \n..           ...          ...  ...  \n593 -4292.407945  -511.225707  1.0  \n594    55.100000    66.490000  1.0  \n595    47.647600    65.456766  1.0  \n596 -1919.832184   459.204029  1.0  \n597 -4990.214682 -1101.685260  1.0  \n\n[598 rows x 502 columns]",
      "text/html": "<div>\n<style scoped>\n    .dataframe tbody tr th:only-of-type {\n        vertical-align: middle;\n    }\n\n    .dataframe tbody tr th {\n        vertical-align: top;\n    }\n\n    .dataframe thead th {\n        text-align: right;\n    }\n</style>\n<table border=\"1\" class=\"dataframe\">\n  <thead>\n    <tr style=\"text-align: right;\">\n      <th></th>\n      <th>0</th>\n      <th>1</th>\n      <th>2</th>\n      <th>3</th>\n      <th>4</th>\n      <th>5</th>\n      <th>6</th>\n      <th>7</th>\n      <th>8</th>\n      <th>9</th>\n      <th>...</th>\n      <th>492</th>\n      <th>493</th>\n      <th>494</th>\n      <th>495</th>\n      <th>496</th>\n      <th>497</th>\n      <th>498</th>\n      <th>499</th>\n      <th>500</th>\n      <th>501</th>\n    </tr>\n  </thead>\n  <tbody>\n    <tr>\n      <th>0</th>\n      <td>0</td>\n      <td>-101073.885924</td>\n      <td>-126459.506774</td>\n      <td>45.0</td>\n      <td>2610786.0</td>\n      <td>144409.799522</td>\n      <td>23441.527801</td>\n      <td>-352273.519410</td>\n      <td>2.0</td>\n      <td>-380503.566795</td>\n      <td>...</td>\n      <td>189.000000</td>\n      <td>383.000000</td>\n      <td>368.296296</td>\n      <td>353.000000</td>\n      <td>39.340000</td>\n      <td>40.890000</td>\n      <td>32.560000</td>\n      <td>34.090000</td>\n      <td>77.770000</td>\n      <td>1.0</td>\n    </tr>\n    <tr>\n      <th>1</th>\n      <td>1</td>\n      <td>-93982.537361</td>\n      <td>-136146.735470</td>\n      <td>45.0</td>\n      <td>2698840.0</td>\n      <td>153855.969885</td>\n      <td>15147.783422</td>\n      <td>-340366.305727</td>\n      <td>2.0</td>\n      <td>-404786.816950</td>\n      <td>...</td>\n      <td>185.600000</td>\n      <td>383.000000</td>\n      <td>367.735849</td>\n      <td>353.000000</td>\n      <td>38.890000</td>\n      <td>42.820000</td>\n      <td>43.920000</td>\n      <td>35.340000</td>\n      <td>72.550000</td>\n      <td>1.0</td>\n    </tr>\n    <tr>\n      <th>2</th>\n      <td>2</td>\n      <td>-145008.448216</td>\n      <td>-149771.506906</td>\n      <td>45.0</td>\n      <td>2457683.0</td>\n      <td>137745.594429</td>\n      <td>5537.871533</td>\n      <td>-367238.138100</td>\n      <td>2.0</td>\n      <td>-260434.022363</td>\n      <td>...</td>\n      <td>165.500000</td>\n      <td>383.000000</td>\n      <td>367.320755</td>\n      <td>353.000000</td>\n      <td>39.190000</td>\n      <td>36.650000</td>\n      <td>42.470000</td>\n      <td>36.530000</td>\n      <td>78.350000</td>\n      <td>1.0</td>\n    </tr>\n    <tr>\n      <th>3</th>\n      <td>3</td>\n      <td>-88953.306065</td>\n      <td>-130501.391118</td>\n      <td>45.0</td>\n      <td>2677776.0</td>\n      <td>152163.825720</td>\n      <td>13995.788494</td>\n      <td>-340803.252972</td>\n      <td>2.0</td>\n      <td>-420887.352740</td>\n      <td>...</td>\n      <td>165.800000</td>\n      <td>384.000000</td>\n      <td>369.188679</td>\n      <td>353.000000</td>\n      <td>37.740000</td>\n      <td>39.170000</td>\n      <td>52.170000</td>\n      <td>30.580000</td>\n      <td>71.780000</td>\n      <td>1.0</td>\n    </tr>\n    <tr>\n      <th>4</th>\n      <td>4</td>\n      <td>-101423.370846</td>\n      <td>-124494.248939</td>\n      <td>45.0</td>\n      <td>2579189.0</td>\n      <td>143512.594737</td>\n      <td>20077.344738</td>\n      <td>-346210.082216</td>\n      <td>2.0</td>\n      <td>-371722.410734</td>\n      <td>...</td>\n      <td>182.600000</td>\n      <td>383.000000</td>\n      <td>367.351852</td>\n      <td>352.000000</td>\n      <td>38.700000</td>\n      <td>41.890000</td>\n      <td>46.930000</td>\n      <td>33.090000</td>\n      <td>76.970000</td>\n      <td>1.0</td>\n    </tr>\n    <tr>\n      <th>...</th>\n      <td>...</td>\n      <td>...</td>\n      <td>...</td>\n      <td>...</td>\n      <td>...</td>\n      <td>...</td>\n      <td>...</td>\n      <td>...</td>\n      <td>...</td>\n      <td>...</td>\n      <td>...</td>\n      <td>...</td>\n      <td>...</td>\n      <td>...</td>\n      <td>...</td>\n      <td>...</td>\n      <td>...</td>\n      <td>...</td>\n      <td>...</td>\n      <td>...</td>\n      <td>...</td>\n    </tr>\n    <tr>\n      <th>593</th>\n      <td>593</td>\n      <td>2.000000</td>\n      <td>95.000000</td>\n      <td>45.0</td>\n      <td>10.0</td>\n      <td>50.000000</td>\n      <td>10.000000</td>\n      <td>52.000000</td>\n      <td>2.0</td>\n      <td>468.900000</td>\n      <td>...</td>\n      <td>-549.787585</td>\n      <td>722.299153</td>\n      <td>-9.847816</td>\n      <td>906.740543</td>\n      <td>-783.640675</td>\n      <td>-5182.549468</td>\n      <td>-758.130997</td>\n      <td>-4292.407945</td>\n      <td>-511.225707</td>\n      <td>1.0</td>\n    </tr>\n    <tr>\n      <th>594</th>\n      <td>594</td>\n      <td>-175361.586022</td>\n      <td>-96350.582898</td>\n      <td>45.0</td>\n      <td>1330724.0</td>\n      <td>91088.163707</td>\n      <td>-59343.652894</td>\n      <td>-256184.393563</td>\n      <td>2.0</td>\n      <td>155050.627908</td>\n      <td>...</td>\n      <td>168.700000</td>\n      <td>384.000000</td>\n      <td>369.811321</td>\n      <td>353.000000</td>\n      <td>49.470000</td>\n      <td>53.070000</td>\n      <td>50.890000</td>\n      <td>55.100000</td>\n      <td>66.490000</td>\n      <td>1.0</td>\n    </tr>\n    <tr>\n      <th>595</th>\n      <td>595</td>\n      <td>-176024.130610</td>\n      <td>-95854.390635</td>\n      <td>45.0</td>\n      <td>1315332.0</td>\n      <td>90445.656683</td>\n      <td>-60364.375617</td>\n      <td>-255237.787934</td>\n      <td>2.0</td>\n      <td>160805.053756</td>\n      <td>...</td>\n      <td>156.600000</td>\n      <td>383.000000</td>\n      <td>367.018868</td>\n      <td>352.000000</td>\n      <td>39.793987</td>\n      <td>55.448454</td>\n      <td>57.959019</td>\n      <td>47.647600</td>\n      <td>65.456766</td>\n      <td>1.0</td>\n    </tr>\n    <tr>\n      <th>596</th>\n      <td>596</td>\n      <td>40.000000</td>\n      <td>94.000000</td>\n      <td>45.0</td>\n      <td>11.0</td>\n      <td>45.000000</td>\n      <td>10.000000</td>\n      <td>31.000000</td>\n      <td>2.0</td>\n      <td>505.800000</td>\n      <td>...</td>\n      <td>416.660270</td>\n      <td>292.645668</td>\n      <td>495.253216</td>\n      <td>347.757727</td>\n      <td>-1262.992749</td>\n      <td>-2954.755497</td>\n      <td>523.707209</td>\n      <td>-1919.832184</td>\n      <td>459.204029</td>\n      <td>1.0</td>\n    </tr>\n    <tr>\n      <th>597</th>\n      <td>597</td>\n      <td>21.000000</td>\n      <td>87.000000</td>\n      <td>45.0</td>\n      <td>10.0</td>\n      <td>61.000000</td>\n      <td>10.000000</td>\n      <td>52.000000</td>\n      <td>2.0</td>\n      <td>470.600000</td>\n      <td>...</td>\n      <td>-313.871086</td>\n      <td>959.117896</td>\n      <td>158.300264</td>\n      <td>831.746872</td>\n      <td>-192.181440</td>\n      <td>-6405.249957</td>\n      <td>-212.121627</td>\n      <td>-4990.214682</td>\n      <td>-1101.685260</td>\n      <td>1.0</td>\n    </tr>\n  </tbody>\n</table>\n<p>598 rows × 502 columns</p>\n</div>"
     },
     "execution_count": 58,
     "metadata": {},
     "output_type": "execute_result"
    }
   ],
   "source": [
    "c = pd.read_csv('/Users/sola/Out_30.csv', header=None)\n",
    "c"
   ],
   "metadata": {
    "collapsed": false
   }
  },
  {
   "cell_type": "code",
   "execution_count": 59,
   "outputs": [
    {
     "data": {
      "text/plain": "['0',\n '1',\n '2',\n '3',\n '4',\n '5',\n '6',\n '7',\n '8',\n '9',\n '10',\n '11',\n '12',\n '13',\n '14',\n '15',\n '16',\n '17',\n '18',\n '19',\n '20',\n '21',\n '22',\n '23',\n '24',\n '25',\n '26',\n '27',\n '28',\n '29',\n '30',\n '31',\n '32',\n '33',\n '34',\n '35',\n '36',\n '37',\n '38',\n '39',\n '40',\n '41',\n '42',\n '43',\n '44',\n '45',\n '46',\n '47',\n '48',\n '49',\n '50',\n '51',\n '52',\n '53',\n '54',\n '55',\n '56',\n '57',\n '58',\n '59',\n '60',\n '61',\n '62',\n '63',\n '64',\n '65',\n '66',\n '67',\n '68',\n '69',\n '70',\n '71',\n '72',\n '73',\n '74',\n '75',\n '76',\n '77',\n '78',\n '79',\n '80',\n '81',\n '82',\n '83',\n '84',\n '85',\n '86',\n '87',\n '88',\n '89',\n '90',\n '91',\n '92',\n '93',\n '94',\n '95',\n '96',\n '97',\n '98',\n '99',\n '100',\n '101',\n '102',\n '103',\n '104',\n '105',\n '106',\n '107',\n '108',\n '109',\n '110',\n '111',\n '112',\n '113',\n '114',\n '115',\n '116',\n '117',\n '118',\n '119',\n '120',\n '121',\n '122',\n '123',\n '124',\n '125',\n '126',\n '127',\n '128',\n '129',\n '130',\n '131',\n '132',\n '133',\n '134',\n '135',\n '136',\n '137',\n '138',\n '139',\n '140',\n '141',\n '142',\n '143',\n '144',\n '145',\n '146',\n '147',\n '148',\n '149',\n '150',\n '151',\n '152',\n '153',\n '154',\n '155',\n '156',\n '157',\n '158',\n '159',\n '160',\n '161',\n '162',\n '163',\n '164',\n '165',\n '166',\n '167',\n '168',\n '169',\n '170',\n '171',\n '172',\n '173',\n '174',\n '175',\n '176',\n '177',\n '178',\n '179',\n '180',\n '181',\n '182',\n '183',\n '184',\n '185',\n '186',\n '187',\n '188',\n '189',\n '190',\n '191',\n '192',\n '193',\n '194',\n '195',\n '196',\n '197',\n '198',\n '199',\n '200',\n '201',\n '202',\n '203',\n '204',\n '205',\n '206',\n '207',\n '208',\n '209',\n '210',\n '211',\n '212',\n '213',\n '214',\n '215',\n '216',\n '217',\n '218',\n '219',\n '220',\n '221',\n '222',\n '223',\n '224',\n '225',\n '226',\n '227',\n '228',\n '229',\n '230',\n '231',\n '232',\n '233',\n '234',\n '235',\n '236',\n '237',\n '238',\n '239',\n '240',\n '241',\n '242',\n '243',\n '244',\n '245',\n '246',\n '247',\n '248',\n '249',\n '250',\n '251',\n '252',\n '253',\n '254',\n '255',\n '256',\n '257',\n '258',\n '259',\n '260',\n '261',\n '262',\n '263',\n '264',\n '265',\n '266',\n '267',\n '268',\n '269',\n '270',\n '271',\n '272',\n '273',\n '274',\n '275',\n '276',\n '277',\n '278',\n '279',\n '280',\n '281',\n '282',\n '283',\n '284',\n '285',\n '286',\n '287',\n '288',\n '289',\n '290',\n '291',\n '292',\n '293',\n '294',\n '295',\n '296',\n '297',\n '298',\n '299',\n '300',\n '301',\n '302',\n '303',\n '304',\n '305',\n '306',\n '307',\n '308',\n '309',\n '310',\n '311',\n '312',\n '313',\n '314',\n '315',\n '316',\n '317',\n '318',\n '319',\n '320',\n '321',\n '322',\n '323',\n '324',\n '325',\n '326',\n '327',\n '328',\n '329',\n '330',\n '331',\n '332',\n '333',\n '334',\n '335',\n '336',\n '337',\n '338',\n '339',\n '340',\n '341',\n '342',\n '343',\n '344',\n '345',\n '346',\n '347',\n '348',\n '349',\n '350',\n '351',\n '352',\n '353',\n '354',\n '355',\n '356',\n '357',\n '358',\n '359',\n '360',\n '361',\n '362',\n '363',\n '364',\n '365',\n '366',\n '367',\n '368',\n '369',\n '370',\n '371',\n '372',\n '373',\n '374',\n '375',\n '376',\n '377',\n '378',\n '379',\n '380',\n '381',\n '382',\n '383',\n '384',\n '385',\n '386',\n '387',\n '388',\n '389',\n '390',\n '391',\n '392',\n '393',\n '394',\n '395',\n '396',\n '397',\n '398',\n '399',\n '400',\n '401',\n '402',\n '403',\n '404',\n '405',\n '406',\n '407',\n '408',\n '409',\n '410',\n '411',\n '412',\n '413',\n '414',\n '415',\n '416',\n '417',\n '418',\n '419',\n '420',\n '421',\n '422',\n '423',\n '424',\n '425',\n '426',\n '427',\n '428',\n '429',\n '430',\n '431',\n '432',\n '433',\n '434',\n '435',\n '436',\n '437',\n '438',\n '439',\n '440',\n '441',\n '442',\n '443',\n '444',\n '445',\n '446',\n '447',\n '448',\n '449',\n '450',\n '451',\n '452',\n '453',\n '454',\n '455',\n '456',\n '457',\n '458',\n '459',\n '460',\n '461',\n '462',\n '463',\n '464',\n '465',\n '466',\n '467',\n '468',\n '469',\n '470',\n '471',\n '472',\n '473',\n '474',\n '475',\n '476',\n '477',\n '478',\n '479',\n '480',\n '481',\n '482',\n '483',\n '484',\n '485',\n '486',\n '487',\n '488',\n '489',\n '490',\n '491',\n '492',\n '493',\n '494',\n '495',\n '496',\n '497',\n '498',\n '499',\n '500',\n '501',\n '502',\n '503',\n '504',\n '505',\n '506',\n '507',\n '508',\n '509',\n '510',\n '511',\n '512',\n '513',\n '514',\n '515',\n '516',\n '517',\n '518',\n '519',\n '520',\n '521',\n '522',\n '523',\n '524',\n '525',\n '526',\n '527',\n '528',\n '529',\n '530',\n '531',\n '532',\n '533',\n '534',\n '535',\n '536',\n '537',\n '538',\n '539',\n '540',\n '541',\n '542',\n '543',\n '544',\n '545',\n '546',\n '547',\n '548',\n '549',\n '550',\n '551',\n '552',\n '553',\n '554',\n '555',\n '556',\n '557',\n '558',\n '559',\n '560',\n '561',\n '562',\n '563',\n '564',\n '565',\n '566',\n '567',\n '568',\n '569',\n '570',\n '571',\n '572',\n '573',\n '574',\n '575',\n '576',\n '577',\n '578',\n '579',\n '580',\n '581',\n '582',\n '583',\n '584',\n '585',\n '586',\n '587',\n '588',\n '589',\n '590',\n '591',\n '592',\n '593',\n '594',\n '595',\n '596',\n '597',\n '598',\n '599',\n '600',\n '601',\n '602',\n '603',\n '604',\n '605',\n '606',\n '607',\n '608',\n '609',\n '610',\n '611',\n '612',\n '613',\n '614',\n '615',\n '616',\n '617',\n '618',\n '619',\n '620',\n '621',\n '622',\n '623',\n '624',\n '625',\n '626',\n '627',\n '628',\n '629',\n '630',\n '631',\n '632',\n '633',\n '634',\n '635',\n '636',\n '637',\n '638',\n '639',\n '640',\n '641',\n '642',\n '643',\n '644',\n '645',\n '646',\n '647',\n '648',\n '649',\n '650',\n '651',\n '652',\n '653',\n '654',\n '655',\n '656',\n '657',\n '658',\n '659',\n '660',\n '661',\n '662',\n '663',\n '664',\n '665',\n '666',\n '667',\n '668',\n '669',\n '670',\n '671',\n '672',\n '673',\n '674',\n '675',\n '676',\n '677',\n '678',\n '679',\n '680',\n '681',\n '682',\n '683',\n '684',\n '685',\n '686',\n '687',\n '688',\n '689',\n '690',\n '691',\n '692',\n '693',\n '694',\n '695',\n '696',\n '697',\n '698',\n '699',\n '700',\n '701',\n '702',\n '703',\n '704',\n '705',\n '706',\n '707',\n '708',\n '709',\n '710',\n '711',\n '712',\n '713',\n '714',\n '715',\n '716',\n '717',\n '718',\n '719',\n '720',\n '721',\n '722',\n '723',\n '724',\n '725',\n '726',\n '727',\n '728',\n '729',\n '730',\n '731',\n '732',\n '733',\n '734',\n '735',\n '736',\n '737',\n '738',\n '739',\n '740',\n '741',\n '742',\n '743',\n '744',\n '745',\n '746',\n '747',\n '748',\n '749',\n '750',\n '751',\n '752',\n '753',\n '754',\n '755',\n '756',\n '757',\n '758',\n '759',\n '760',\n '761',\n '762',\n '763',\n '764',\n '765',\n '766',\n '767',\n '768',\n '769',\n '770',\n '771',\n '772',\n '773',\n '774',\n '775',\n '776',\n '777',\n '778',\n '779',\n '780',\n '781',\n '782',\n '783',\n '784',\n '785',\n '786',\n '787',\n '788',\n '789',\n '790',\n '791',\n '792',\n '793',\n '794',\n '795',\n '796',\n '797',\n '798',\n '799',\n '800',\n '801',\n '802',\n '803',\n '804',\n '805',\n '806',\n '807',\n '808',\n '809',\n '810',\n '811',\n '812',\n '813',\n '814',\n '815',\n '816',\n '817',\n '818',\n '819',\n '820',\n '821',\n '822',\n '823',\n '824',\n '825',\n '826',\n '827',\n '828',\n '829',\n '830',\n '831',\n '832',\n '833',\n '834',\n '835',\n '836',\n '837',\n '838',\n '839',\n '840',\n '841',\n '842',\n '843',\n '844',\n '845',\n '846',\n '847',\n '848',\n '849',\n '850',\n '851',\n '852',\n '853',\n '854',\n '855',\n '856',\n '857',\n '858',\n '859',\n '860',\n '861',\n '862',\n '863',\n '864',\n '865',\n '866',\n '867',\n '868',\n '869',\n '870',\n '871',\n '872',\n '873',\n '874',\n '875',\n '876',\n '877',\n '878',\n '879',\n '880',\n '881',\n '882',\n '883',\n '884',\n '885',\n '886',\n '887',\n '888',\n '889',\n '890',\n '891',\n '892',\n '893',\n '894',\n '895',\n '896',\n '897',\n '898',\n '899',\n '900',\n '901',\n '902',\n '903',\n '904',\n '905',\n '906',\n '907',\n '908',\n '909',\n '910',\n '911',\n '912',\n '913',\n '914',\n '915',\n '916',\n '917',\n '918',\n '919',\n '920',\n '921',\n '922',\n '923',\n '924',\n '925',\n '926',\n '927',\n '928',\n '929',\n '930',\n '931',\n '932',\n '933',\n '934',\n '935',\n '936',\n '937',\n '938',\n '939',\n '940',\n '941',\n '942',\n '943',\n '944',\n '945',\n '946',\n '947',\n '948',\n '949',\n '950',\n '951',\n '952',\n '953',\n '954',\n '955',\n '956',\n '957',\n '958',\n '959',\n '960',\n '961',\n '962',\n '963',\n '964',\n '965',\n '966',\n '967',\n '968',\n '969',\n '970',\n '971',\n '972',\n '973',\n '974',\n '975',\n '976',\n '977',\n '978',\n '979',\n '980',\n '981',\n '982',\n '983',\n '984',\n '985',\n '986',\n '987',\n '988',\n '989',\n '990',\n '991',\n '992',\n '993',\n '994',\n '995',\n '996',\n '997',\n '998',\n '999',\n ...]"
     },
     "execution_count": 59,
     "metadata": {},
     "output_type": "execute_result"
    }
   ],
   "source": [
    "col_li=[]\n",
    "for i in range(2594):\n",
    "    a = str(i)\n",
    "    # print(a)\n",
    "    col_li.append(a)\n",
    "\n",
    "col_li"
   ],
   "metadata": {
    "collapsed": false
   }
  },
  {
   "cell_type": "code",
   "execution_count": 60,
   "outputs": [
    {
     "name": "stdout",
     "output_type": "stream",
     "text": [
      "[IterativeImputer] Completing matrix with shape (310, 2594)\n",
      "[IterativeImputer] Ending imputation round 1/30, elapsed time 4.34\n",
      "[IterativeImputer] Ending imputation round 2/30, elapsed time 8.42\n",
      "[IterativeImputer] Ending imputation round 3/30, elapsed time 12.54\n",
      "[IterativeImputer] Ending imputation round 4/30, elapsed time 16.70\n",
      "[IterativeImputer] Ending imputation round 5/30, elapsed time 20.79\n",
      "[IterativeImputer] Ending imputation round 6/30, elapsed time 24.88\n",
      "[IterativeImputer] Ending imputation round 7/30, elapsed time 28.96\n",
      "[IterativeImputer] Ending imputation round 8/30, elapsed time 33.29\n",
      "[IterativeImputer] Ending imputation round 9/30, elapsed time 37.42\n",
      "[IterativeImputer] Ending imputation round 10/30, elapsed time 41.51\n",
      "[IterativeImputer] Ending imputation round 11/30, elapsed time 45.70\n",
      "[IterativeImputer] Ending imputation round 12/30, elapsed time 49.87\n",
      "[IterativeImputer] Ending imputation round 13/30, elapsed time 54.10\n",
      "[IterativeImputer] Ending imputation round 14/30, elapsed time 58.31\n",
      "[IterativeImputer] Ending imputation round 15/30, elapsed time 62.84\n",
      "[IterativeImputer] Ending imputation round 16/30, elapsed time 67.08\n",
      "[IterativeImputer] Ending imputation round 17/30, elapsed time 71.38\n",
      "[IterativeImputer] Ending imputation round 18/30, elapsed time 75.63\n",
      "[IterativeImputer] Ending imputation round 19/30, elapsed time 79.75\n",
      "[IterativeImputer] Ending imputation round 20/30, elapsed time 83.94\n",
      "[IterativeImputer] Ending imputation round 21/30, elapsed time 88.24\n",
      "[IterativeImputer] Ending imputation round 22/30, elapsed time 92.44\n",
      "[IterativeImputer] Ending imputation round 23/30, elapsed time 96.62\n",
      "[IterativeImputer] Ending imputation round 24/30, elapsed time 100.77\n",
      "[IterativeImputer] Ending imputation round 25/30, elapsed time 104.98\n",
      "[IterativeImputer] Ending imputation round 26/30, elapsed time 109.21\n",
      "[IterativeImputer] Ending imputation round 27/30, elapsed time 113.33\n",
      "[IterativeImputer] Ending imputation round 28/30, elapsed time 117.51\n",
      "[IterativeImputer] Ending imputation round 29/30, elapsed time 121.71\n",
      "[IterativeImputer] Ending imputation round 30/30, elapsed time 125.96\n"
     ]
    },
    {
     "data": {
      "text/plain": "             0            1     2             3              4     \\\n0        2.000000    94.000000  45.0  1.000000e+01      51.000000   \n1        2.000000    93.000000  45.0  1.100000e+01      45.000000   \n2        2.000000    95.000000  45.0  1.100000e+01      45.000000   \n3   -99420.477882  -892.821468  45.0 -1.693792e+06 -215732.357731   \n4   -98449.500331 -5950.902850  45.0 -1.621617e+06 -206557.716488   \n..            ...          ...   ...           ...            ...   \n305      2.000000    91.000000  45.0  1.000000e+01      51.000000   \n306      2.000000    96.000000  45.0  1.100000e+01      45.000000   \n307      2.000000    91.000000  45.0  1.000000e+01      50.000000   \n308      2.000000    95.000000  45.0  1.000000e+01      51.000000   \n309      2.000000    87.000000  45.0  1.000000e+01      51.000000   \n\n             5              6     7              8              9     ...  \\\n0       10.000000      52.000000   2.0     469.600000     474.400000  ...   \n1       10.000000      31.000000   2.0     506.600000     511.100000  ...   \n2       10.000000      31.000000   2.0     506.600000     511.400000  ...   \n3    43490.530858 -777850.069363   2.0  969640.431313  763128.393514  ...   \n4    29764.265078 -758514.948247   2.0  930586.040914  760474.959796  ...   \n..            ...            ...   ...            ...            ...  ...   \n305     10.000000      52.000000   2.0     502.500000     511.900000  ...   \n306     10.000000      31.000000   2.0     513.700000     518.900000  ...   \n307     10.000000      52.000000   2.0     502.800000     511.600000  ...   \n308     10.000000      52.000000   2.0     503.200000     512.600000  ...   \n309     10.000000      52.000000   2.0     503.300000     512.100000  ...   \n\n            2584         2585        2586        2587          2588  \\\n0    -497.028525   757.312866   19.239042  884.313569   -741.925452   \n1     422.812553   296.853356  493.819381  345.719720  -1272.311010   \n2     426.274443   298.176123  495.009008  347.092716  -1277.168538   \n3     183.800000   467.000000  444.192308  423.000000  -4002.077115   \n4     179.700000   465.000000  443.211539  423.000000  -4272.395352   \n..           ...          ...         ...         ...           ...   \n305 -3260.578517 -2583.993992 -743.588754  475.942073  22048.633302   \n306   515.047566   139.049009  442.324601  421.187693  -2632.678274   \n307 -3245.155796 -2596.441114 -739.962846  465.147586  21970.115597   \n308 -3218.789570 -2584.637137 -718.674291  448.309267  22108.480967   \n309 -3282.398963 -2646.684438 -761.120149  469.247001  21995.570180   \n\n             2589          2590          2591          2592  2593  \n0    -5207.662999   -698.293902  -4292.352750   -545.280854   1.0  \n1    -2910.341973    520.431600  -1892.966778    471.991959   1.0  \n2    -2893.355664    522.553263  -1882.158354    477.717247   1.0  \n3    -4169.040606  -6054.596588   2149.008876   -617.369717   1.0  \n4    -2244.801906  -5813.826310   2888.858492    132.058405   1.0  \n..            ...           ...           ...           ...   ...  \n305 -87626.753127  19021.370599 -50799.669262 -25717.776012   1.0  \n306   1677.671778   -258.779833    931.009559   2085.485812   1.0  \n307 -87383.810306  18982.384032 -50641.208471 -25629.259298   1.0  \n308 -87787.451021  19111.127198 -50860.906435 -25773.458249   1.0  \n309 -87605.740949  19003.783758 -50756.629728 -25663.521447   1.0  \n\n[310 rows x 2594 columns]",
      "text/html": "<div>\n<style scoped>\n    .dataframe tbody tr th:only-of-type {\n        vertical-align: middle;\n    }\n\n    .dataframe tbody tr th {\n        vertical-align: top;\n    }\n\n    .dataframe thead th {\n        text-align: right;\n    }\n</style>\n<table border=\"1\" class=\"dataframe\">\n  <thead>\n    <tr style=\"text-align: right;\">\n      <th></th>\n      <th>0</th>\n      <th>1</th>\n      <th>2</th>\n      <th>3</th>\n      <th>4</th>\n      <th>5</th>\n      <th>6</th>\n      <th>7</th>\n      <th>8</th>\n      <th>9</th>\n      <th>...</th>\n      <th>2584</th>\n      <th>2585</th>\n      <th>2586</th>\n      <th>2587</th>\n      <th>2588</th>\n      <th>2589</th>\n      <th>2590</th>\n      <th>2591</th>\n      <th>2592</th>\n      <th>2593</th>\n    </tr>\n  </thead>\n  <tbody>\n    <tr>\n      <th>0</th>\n      <td>2.000000</td>\n      <td>94.000000</td>\n      <td>45.0</td>\n      <td>1.000000e+01</td>\n      <td>51.000000</td>\n      <td>10.000000</td>\n      <td>52.000000</td>\n      <td>2.0</td>\n      <td>469.600000</td>\n      <td>474.400000</td>\n      <td>...</td>\n      <td>-497.028525</td>\n      <td>757.312866</td>\n      <td>19.239042</td>\n      <td>884.313569</td>\n      <td>-741.925452</td>\n      <td>-5207.662999</td>\n      <td>-698.293902</td>\n      <td>-4292.352750</td>\n      <td>-545.280854</td>\n      <td>1.0</td>\n    </tr>\n    <tr>\n      <th>1</th>\n      <td>2.000000</td>\n      <td>93.000000</td>\n      <td>45.0</td>\n      <td>1.100000e+01</td>\n      <td>45.000000</td>\n      <td>10.000000</td>\n      <td>31.000000</td>\n      <td>2.0</td>\n      <td>506.600000</td>\n      <td>511.100000</td>\n      <td>...</td>\n      <td>422.812553</td>\n      <td>296.853356</td>\n      <td>493.819381</td>\n      <td>345.719720</td>\n      <td>-1272.311010</td>\n      <td>-2910.341973</td>\n      <td>520.431600</td>\n      <td>-1892.966778</td>\n      <td>471.991959</td>\n      <td>1.0</td>\n    </tr>\n    <tr>\n      <th>2</th>\n      <td>2.000000</td>\n      <td>95.000000</td>\n      <td>45.0</td>\n      <td>1.100000e+01</td>\n      <td>45.000000</td>\n      <td>10.000000</td>\n      <td>31.000000</td>\n      <td>2.0</td>\n      <td>506.600000</td>\n      <td>511.400000</td>\n      <td>...</td>\n      <td>426.274443</td>\n      <td>298.176123</td>\n      <td>495.009008</td>\n      <td>347.092716</td>\n      <td>-1277.168538</td>\n      <td>-2893.355664</td>\n      <td>522.553263</td>\n      <td>-1882.158354</td>\n      <td>477.717247</td>\n      <td>1.0</td>\n    </tr>\n    <tr>\n      <th>3</th>\n      <td>-99420.477882</td>\n      <td>-892.821468</td>\n      <td>45.0</td>\n      <td>-1.693792e+06</td>\n      <td>-215732.357731</td>\n      <td>43490.530858</td>\n      <td>-777850.069363</td>\n      <td>2.0</td>\n      <td>969640.431313</td>\n      <td>763128.393514</td>\n      <td>...</td>\n      <td>183.800000</td>\n      <td>467.000000</td>\n      <td>444.192308</td>\n      <td>423.000000</td>\n      <td>-4002.077115</td>\n      <td>-4169.040606</td>\n      <td>-6054.596588</td>\n      <td>2149.008876</td>\n      <td>-617.369717</td>\n      <td>1.0</td>\n    </tr>\n    <tr>\n      <th>4</th>\n      <td>-98449.500331</td>\n      <td>-5950.902850</td>\n      <td>45.0</td>\n      <td>-1.621617e+06</td>\n      <td>-206557.716488</td>\n      <td>29764.265078</td>\n      <td>-758514.948247</td>\n      <td>2.0</td>\n      <td>930586.040914</td>\n      <td>760474.959796</td>\n      <td>...</td>\n      <td>179.700000</td>\n      <td>465.000000</td>\n      <td>443.211539</td>\n      <td>423.000000</td>\n      <td>-4272.395352</td>\n      <td>-2244.801906</td>\n      <td>-5813.826310</td>\n      <td>2888.858492</td>\n      <td>132.058405</td>\n      <td>1.0</td>\n    </tr>\n    <tr>\n      <th>...</th>\n      <td>...</td>\n      <td>...</td>\n      <td>...</td>\n      <td>...</td>\n      <td>...</td>\n      <td>...</td>\n      <td>...</td>\n      <td>...</td>\n      <td>...</td>\n      <td>...</td>\n      <td>...</td>\n      <td>...</td>\n      <td>...</td>\n      <td>...</td>\n      <td>...</td>\n      <td>...</td>\n      <td>...</td>\n      <td>...</td>\n      <td>...</td>\n      <td>...</td>\n      <td>...</td>\n    </tr>\n    <tr>\n      <th>305</th>\n      <td>2.000000</td>\n      <td>91.000000</td>\n      <td>45.0</td>\n      <td>1.000000e+01</td>\n      <td>51.000000</td>\n      <td>10.000000</td>\n      <td>52.000000</td>\n      <td>2.0</td>\n      <td>502.500000</td>\n      <td>511.900000</td>\n      <td>...</td>\n      <td>-3260.578517</td>\n      <td>-2583.993992</td>\n      <td>-743.588754</td>\n      <td>475.942073</td>\n      <td>22048.633302</td>\n      <td>-87626.753127</td>\n      <td>19021.370599</td>\n      <td>-50799.669262</td>\n      <td>-25717.776012</td>\n      <td>1.0</td>\n    </tr>\n    <tr>\n      <th>306</th>\n      <td>2.000000</td>\n      <td>96.000000</td>\n      <td>45.0</td>\n      <td>1.100000e+01</td>\n      <td>45.000000</td>\n      <td>10.000000</td>\n      <td>31.000000</td>\n      <td>2.0</td>\n      <td>513.700000</td>\n      <td>518.900000</td>\n      <td>...</td>\n      <td>515.047566</td>\n      <td>139.049009</td>\n      <td>442.324601</td>\n      <td>421.187693</td>\n      <td>-2632.678274</td>\n      <td>1677.671778</td>\n      <td>-258.779833</td>\n      <td>931.009559</td>\n      <td>2085.485812</td>\n      <td>1.0</td>\n    </tr>\n    <tr>\n      <th>307</th>\n      <td>2.000000</td>\n      <td>91.000000</td>\n      <td>45.0</td>\n      <td>1.000000e+01</td>\n      <td>50.000000</td>\n      <td>10.000000</td>\n      <td>52.000000</td>\n      <td>2.0</td>\n      <td>502.800000</td>\n      <td>511.600000</td>\n      <td>...</td>\n      <td>-3245.155796</td>\n      <td>-2596.441114</td>\n      <td>-739.962846</td>\n      <td>465.147586</td>\n      <td>21970.115597</td>\n      <td>-87383.810306</td>\n      <td>18982.384032</td>\n      <td>-50641.208471</td>\n      <td>-25629.259298</td>\n      <td>1.0</td>\n    </tr>\n    <tr>\n      <th>308</th>\n      <td>2.000000</td>\n      <td>95.000000</td>\n      <td>45.0</td>\n      <td>1.000000e+01</td>\n      <td>51.000000</td>\n      <td>10.000000</td>\n      <td>52.000000</td>\n      <td>2.0</td>\n      <td>503.200000</td>\n      <td>512.600000</td>\n      <td>...</td>\n      <td>-3218.789570</td>\n      <td>-2584.637137</td>\n      <td>-718.674291</td>\n      <td>448.309267</td>\n      <td>22108.480967</td>\n      <td>-87787.451021</td>\n      <td>19111.127198</td>\n      <td>-50860.906435</td>\n      <td>-25773.458249</td>\n      <td>1.0</td>\n    </tr>\n    <tr>\n      <th>309</th>\n      <td>2.000000</td>\n      <td>87.000000</td>\n      <td>45.0</td>\n      <td>1.000000e+01</td>\n      <td>51.000000</td>\n      <td>10.000000</td>\n      <td>52.000000</td>\n      <td>2.0</td>\n      <td>503.300000</td>\n      <td>512.100000</td>\n      <td>...</td>\n      <td>-3282.398963</td>\n      <td>-2646.684438</td>\n      <td>-761.120149</td>\n      <td>469.247001</td>\n      <td>21995.570180</td>\n      <td>-87605.740949</td>\n      <td>19003.783758</td>\n      <td>-50756.629728</td>\n      <td>-25663.521447</td>\n      <td>1.0</td>\n    </tr>\n  </tbody>\n</table>\n<p>310 rows × 2594 columns</p>\n</div>"
     },
     "execution_count": 60,
     "metadata": {},
     "output_type": "execute_result"
    }
   ],
   "source": [
    "df = pd.read_csv(\"Dataset/test.csv\")\n",
    "df_X = df.drop(['PRODUCT_CODE','PRODUCT_ID','TIMESTAMP','LINE'], axis =1)\n",
    "df_X =df_X.drop(wrong, axis=1)\n",
    "\n",
    "\n",
    "a = imp.transform(df_X)\n",
    "b= pd.DataFrame(a)\n",
    "b"
   ],
   "metadata": {
    "collapsed": false
   }
  },
  {
   "cell_type": "code",
   "execution_count": 40,
   "outputs": [
    {
     "data": {
      "text/plain": "             0            1     2             3              4     \\\n0        2.000000    94.000000  45.0  1.000000e+01      51.000000   \n1        2.000000    93.000000  45.0  1.100000e+01      45.000000   \n2        2.000000    95.000000  45.0  1.100000e+01      45.000000   \n3   -99420.477882  -892.821468  45.0 -1.693792e+06 -215732.357731   \n4   -98449.500331 -5950.902850  45.0 -1.621617e+06 -206557.716488   \n..            ...          ...   ...           ...            ...   \n305      2.000000    91.000000  45.0  1.000000e+01      51.000000   \n306      2.000000    96.000000  45.0  1.100000e+01      45.000000   \n307      2.000000    91.000000  45.0  1.000000e+01      50.000000   \n308      2.000000    95.000000  45.0  1.000000e+01      51.000000   \n309      2.000000    87.000000  45.0  1.000000e+01      51.000000   \n\n             5              6     7              8              9     ...  \\\n0       10.000000      52.000000   2.0     469.600000     474.400000  ...   \n1       10.000000      31.000000   2.0     506.600000     511.100000  ...   \n2       10.000000      31.000000   2.0     506.600000     511.400000  ...   \n3    43490.530858 -777850.069363   2.0  969640.431313  763128.393514  ...   \n4    29764.265078 -758514.948247   2.0  930586.040914  760474.959796  ...   \n..            ...            ...   ...            ...            ...  ...   \n305     10.000000      52.000000   2.0     502.500000     511.900000  ...   \n306     10.000000      31.000000   2.0     513.700000     518.900000  ...   \n307     10.000000      52.000000   2.0     502.800000     511.600000  ...   \n308     10.000000      52.000000   2.0     503.200000     512.600000  ...   \n309     10.000000      52.000000   2.0     503.300000     512.100000  ...   \n\n            2584         2585        2586        2587          2588  \\\n0    -497.028525   757.312866   19.239042  884.313569   -741.925452   \n1     422.812553   296.853356  493.819381  345.719720  -1272.311010   \n2     426.274443   298.176123  495.009008  347.092716  -1277.168538   \n3     183.800000   467.000000  444.192308  423.000000  -4002.077115   \n4     179.700000   465.000000  443.211539  423.000000  -4272.395352   \n..           ...          ...         ...         ...           ...   \n305 -3260.578517 -2583.993992 -743.588754  475.942073  22048.633302   \n306   515.047566   139.049009  442.324601  421.187693  -2632.678274   \n307 -3245.155796 -2596.441114 -739.962846  465.147586  21970.115597   \n308 -3218.789570 -2584.637137 -718.674291  448.309267  22108.480967   \n309 -3282.398963 -2646.684438 -761.120149  469.247001  21995.570180   \n\n             2589          2590          2591          2592  2593  \n0    -5207.662999   -698.293902  -4292.352750   -545.280854   1.0  \n1    -2910.341973    520.431600  -1892.966778    471.991959   1.0  \n2    -2893.355664    522.553263  -1882.158354    477.717247   1.0  \n3    -4169.040606  -6054.596588   2149.008876   -617.369717   1.0  \n4    -2244.801906  -5813.826310   2888.858492    132.058405   1.0  \n..            ...           ...           ...           ...   ...  \n305 -87626.753127  19021.370599 -50799.669262 -25717.776012   1.0  \n306   1677.671778   -258.779833    931.009559   2085.485812   1.0  \n307 -87383.810306  18982.384032 -50641.208471 -25629.259298   1.0  \n308 -87787.451021  19111.127198 -50860.906435 -25773.458249   1.0  \n309 -87605.740949  19003.783758 -50756.629728 -25663.521447   1.0  \n\n[310 rows x 2594 columns]",
      "text/html": "<div>\n<style scoped>\n    .dataframe tbody tr th:only-of-type {\n        vertical-align: middle;\n    }\n\n    .dataframe tbody tr th {\n        vertical-align: top;\n    }\n\n    .dataframe thead th {\n        text-align: right;\n    }\n</style>\n<table border=\"1\" class=\"dataframe\">\n  <thead>\n    <tr style=\"text-align: right;\">\n      <th></th>\n      <th>0</th>\n      <th>1</th>\n      <th>2</th>\n      <th>3</th>\n      <th>4</th>\n      <th>5</th>\n      <th>6</th>\n      <th>7</th>\n      <th>8</th>\n      <th>9</th>\n      <th>...</th>\n      <th>2584</th>\n      <th>2585</th>\n      <th>2586</th>\n      <th>2587</th>\n      <th>2588</th>\n      <th>2589</th>\n      <th>2590</th>\n      <th>2591</th>\n      <th>2592</th>\n      <th>2593</th>\n    </tr>\n  </thead>\n  <tbody>\n    <tr>\n      <th>0</th>\n      <td>2.000000</td>\n      <td>94.000000</td>\n      <td>45.0</td>\n      <td>1.000000e+01</td>\n      <td>51.000000</td>\n      <td>10.000000</td>\n      <td>52.000000</td>\n      <td>2.0</td>\n      <td>469.600000</td>\n      <td>474.400000</td>\n      <td>...</td>\n      <td>-497.028525</td>\n      <td>757.312866</td>\n      <td>19.239042</td>\n      <td>884.313569</td>\n      <td>-741.925452</td>\n      <td>-5207.662999</td>\n      <td>-698.293902</td>\n      <td>-4292.352750</td>\n      <td>-545.280854</td>\n      <td>1.0</td>\n    </tr>\n    <tr>\n      <th>1</th>\n      <td>2.000000</td>\n      <td>93.000000</td>\n      <td>45.0</td>\n      <td>1.100000e+01</td>\n      <td>45.000000</td>\n      <td>10.000000</td>\n      <td>31.000000</td>\n      <td>2.0</td>\n      <td>506.600000</td>\n      <td>511.100000</td>\n      <td>...</td>\n      <td>422.812553</td>\n      <td>296.853356</td>\n      <td>493.819381</td>\n      <td>345.719720</td>\n      <td>-1272.311010</td>\n      <td>-2910.341973</td>\n      <td>520.431600</td>\n      <td>-1892.966778</td>\n      <td>471.991959</td>\n      <td>1.0</td>\n    </tr>\n    <tr>\n      <th>2</th>\n      <td>2.000000</td>\n      <td>95.000000</td>\n      <td>45.0</td>\n      <td>1.100000e+01</td>\n      <td>45.000000</td>\n      <td>10.000000</td>\n      <td>31.000000</td>\n      <td>2.0</td>\n      <td>506.600000</td>\n      <td>511.400000</td>\n      <td>...</td>\n      <td>426.274443</td>\n      <td>298.176123</td>\n      <td>495.009008</td>\n      <td>347.092716</td>\n      <td>-1277.168538</td>\n      <td>-2893.355664</td>\n      <td>522.553263</td>\n      <td>-1882.158354</td>\n      <td>477.717247</td>\n      <td>1.0</td>\n    </tr>\n    <tr>\n      <th>3</th>\n      <td>-99420.477882</td>\n      <td>-892.821468</td>\n      <td>45.0</td>\n      <td>-1.693792e+06</td>\n      <td>-215732.357731</td>\n      <td>43490.530858</td>\n      <td>-777850.069363</td>\n      <td>2.0</td>\n      <td>969640.431313</td>\n      <td>763128.393514</td>\n      <td>...</td>\n      <td>183.800000</td>\n      <td>467.000000</td>\n      <td>444.192308</td>\n      <td>423.000000</td>\n      <td>-4002.077115</td>\n      <td>-4169.040606</td>\n      <td>-6054.596588</td>\n      <td>2149.008876</td>\n      <td>-617.369717</td>\n      <td>1.0</td>\n    </tr>\n    <tr>\n      <th>4</th>\n      <td>-98449.500331</td>\n      <td>-5950.902850</td>\n      <td>45.0</td>\n      <td>-1.621617e+06</td>\n      <td>-206557.716488</td>\n      <td>29764.265078</td>\n      <td>-758514.948247</td>\n      <td>2.0</td>\n      <td>930586.040914</td>\n      <td>760474.959796</td>\n      <td>...</td>\n      <td>179.700000</td>\n      <td>465.000000</td>\n      <td>443.211539</td>\n      <td>423.000000</td>\n      <td>-4272.395352</td>\n      <td>-2244.801906</td>\n      <td>-5813.826310</td>\n      <td>2888.858492</td>\n      <td>132.058405</td>\n      <td>1.0</td>\n    </tr>\n    <tr>\n      <th>...</th>\n      <td>...</td>\n      <td>...</td>\n      <td>...</td>\n      <td>...</td>\n      <td>...</td>\n      <td>...</td>\n      <td>...</td>\n      <td>...</td>\n      <td>...</td>\n      <td>...</td>\n      <td>...</td>\n      <td>...</td>\n      <td>...</td>\n      <td>...</td>\n      <td>...</td>\n      <td>...</td>\n      <td>...</td>\n      <td>...</td>\n      <td>...</td>\n      <td>...</td>\n      <td>...</td>\n    </tr>\n    <tr>\n      <th>305</th>\n      <td>2.000000</td>\n      <td>91.000000</td>\n      <td>45.0</td>\n      <td>1.000000e+01</td>\n      <td>51.000000</td>\n      <td>10.000000</td>\n      <td>52.000000</td>\n      <td>2.0</td>\n      <td>502.500000</td>\n      <td>511.900000</td>\n      <td>...</td>\n      <td>-3260.578517</td>\n      <td>-2583.993992</td>\n      <td>-743.588754</td>\n      <td>475.942073</td>\n      <td>22048.633302</td>\n      <td>-87626.753127</td>\n      <td>19021.370599</td>\n      <td>-50799.669262</td>\n      <td>-25717.776012</td>\n      <td>1.0</td>\n    </tr>\n    <tr>\n      <th>306</th>\n      <td>2.000000</td>\n      <td>96.000000</td>\n      <td>45.0</td>\n      <td>1.100000e+01</td>\n      <td>45.000000</td>\n      <td>10.000000</td>\n      <td>31.000000</td>\n      <td>2.0</td>\n      <td>513.700000</td>\n      <td>518.900000</td>\n      <td>...</td>\n      <td>515.047566</td>\n      <td>139.049009</td>\n      <td>442.324601</td>\n      <td>421.187693</td>\n      <td>-2632.678274</td>\n      <td>1677.671778</td>\n      <td>-258.779833</td>\n      <td>931.009559</td>\n      <td>2085.485812</td>\n      <td>1.0</td>\n    </tr>\n    <tr>\n      <th>307</th>\n      <td>2.000000</td>\n      <td>91.000000</td>\n      <td>45.0</td>\n      <td>1.000000e+01</td>\n      <td>50.000000</td>\n      <td>10.000000</td>\n      <td>52.000000</td>\n      <td>2.0</td>\n      <td>502.800000</td>\n      <td>511.600000</td>\n      <td>...</td>\n      <td>-3245.155796</td>\n      <td>-2596.441114</td>\n      <td>-739.962846</td>\n      <td>465.147586</td>\n      <td>21970.115597</td>\n      <td>-87383.810306</td>\n      <td>18982.384032</td>\n      <td>-50641.208471</td>\n      <td>-25629.259298</td>\n      <td>1.0</td>\n    </tr>\n    <tr>\n      <th>308</th>\n      <td>2.000000</td>\n      <td>95.000000</td>\n      <td>45.0</td>\n      <td>1.000000e+01</td>\n      <td>51.000000</td>\n      <td>10.000000</td>\n      <td>52.000000</td>\n      <td>2.0</td>\n      <td>503.200000</td>\n      <td>512.600000</td>\n      <td>...</td>\n      <td>-3218.789570</td>\n      <td>-2584.637137</td>\n      <td>-718.674291</td>\n      <td>448.309267</td>\n      <td>22108.480967</td>\n      <td>-87787.451021</td>\n      <td>19111.127198</td>\n      <td>-50860.906435</td>\n      <td>-25773.458249</td>\n      <td>1.0</td>\n    </tr>\n    <tr>\n      <th>309</th>\n      <td>2.000000</td>\n      <td>87.000000</td>\n      <td>45.0</td>\n      <td>1.000000e+01</td>\n      <td>51.000000</td>\n      <td>10.000000</td>\n      <td>52.000000</td>\n      <td>2.0</td>\n      <td>503.300000</td>\n      <td>512.100000</td>\n      <td>...</td>\n      <td>-3282.398963</td>\n      <td>-2646.684438</td>\n      <td>-761.120149</td>\n      <td>469.247001</td>\n      <td>21995.570180</td>\n      <td>-87605.740949</td>\n      <td>19003.783758</td>\n      <td>-50756.629728</td>\n      <td>-25663.521447</td>\n      <td>1.0</td>\n    </tr>\n  </tbody>\n</table>\n<p>310 rows × 2594 columns</p>\n</div>"
     },
     "execution_count": 40,
     "metadata": {},
     "output_type": "execute_result"
    }
   ],
   "source": [
    "b"
   ],
   "metadata": {
    "collapsed": false
   }
  },
  {
   "cell_type": "code",
   "execution_count": null,
   "outputs": [],
   "source": [],
   "metadata": {
    "collapsed": false
   }
  },
  {
   "cell_type": "code",
   "execution_count": null,
   "outputs": [],
   "source": [
    "from sklearn.model_selection import GridSearchCV\n",
    "import lightgbm as lgb\n",
    "from sklearn.metrics import confusion_matrix\n",
    "from sklearn.metrics import accuracy_score\n",
    "from sklearn.model_selection import cross_validate\n",
    "from sklearn.model_selection import StratifiedKFold\n",
    "\n",
    "def data_modeling_A():\n",
    "    df = pd.read_csv(\"Dataset/train.csv\")\n",
    "\n",
    "    data_A = df[df[\"PRODUCT_CODE\"] == \"A_31\"]\n",
    "\n",
    "    A_y = data_A[\"Y_Class\"]\n",
    "    A_X = data_A.drop([\"Y_Class\", \"Y_Quality\"], axis=1).select_dtypes(exclude=['object'])\n",
    "\n",
    "    X_train, X_test, y_train, y_test = train_test_split(A_X, A_y, test_size=0.3, random_state=42)\n",
    "\n",
    "    # df = A_X.corr()\n",
    "    # print(np.isfinite(df))\n",
    "\n",
    "    #MICE 결측치 메꾸기\n",
    "    imp = IterativeImputer(estimator=lr, verbose=2, max_iter=30, tol=1e-10, imputation_order='roman')\n",
    "    imp.fit_transform(X_train)\n",
    "\n",
    "\n",
    "    model_A = lgb.LGBMClassifier(random_state=42)\n",
    "    model_A.fit(X_train, y_train)\n",
    "    prediction = model_A.predict(X_test)\n",
    "\n",
    "    print(confusion_matrix(prediction, y_test))\n",
    "    print(f\"A_정답률:{accuracy_score(prediction, y_test):.3f}\")\n",
    "\n",
    "    scores = cross_validate(model_A, X_train, y_train, cv=StratifiedKFold())\n",
    "    print(np.mean(scores['test_score']))\n",
    "\n",
    "    # n_splits매개변수는 몇(k)폴드 교차 검증 할지를 정한다.\n",
    "    splitter = StratifiedKFold(n_splits=10, shuffle=True, random_state=42)\n",
    "    scores = cross_validate(model_A, X_train, y_train, cv=splitter)\n",
    "    print(np.mean(scores['test_score']))\n",
    "\n",
    "    return model_A, A_X.columns"
   ],
   "metadata": {
    "collapsed": false
   }
  },
  {
   "cell_type": "code",
   "execution_count": null,
   "outputs": [],
   "source": [
    "def test_mice():\n",
    "    df = pd.read_csv(\"Dataset/test.csv\")\n",
    "    df_X = df.drop(['Y_Class', 'Y_Quality','PRODUCT_CODE','PRODUCT_ID','TIMESTAMP','LINE'], axis =1)\n",
    "    df_X =df_X.drop(wrong, axis=1)\n",
    "    df_y =test['Y_Class']\n"
   ],
   "metadata": {
    "collapsed": false
   }
  },
  {
   "cell_type": "code",
   "execution_count": null,
   "outputs": [],
   "source": [
    "def predict_testset():\n",
    "    df = pd.read_csv(\"Dataset/test.csv\")\n",
    "\n",
    "    data_A = data_modeling_A()\n",
    "    data_T = data_modeling_T()\n",
    "\n",
    "    # A_testset\n",
    "    df_A = df[df[\"PRODUCT_CODE\"] == \"A_31\"]\n",
    "\n",
    "    df_test_A = pd.DataFrame()\n",
    "    A_cols = data_A[1]\n",
    "\n",
    "    for c, col in enumerate(A_cols):\n",
    "        df_test_A[col] = df_A[col]\n",
    "\n",
    "    # T_testset\n",
    "    df_T = df[(df[\"PRODUCT_CODE\"] == \"T_31\") | (df[\"PRODUCT_CODE\"] == \"O_31\")]\n",
    "\n",
    "    df_test_T = pd.DataFrame()\n",
    "    T_cols = data_T[1]\n",
    "\n",
    "    for c, col in enumerate(T_cols):\n",
    "        df_test_T[col] = df_T[col]\n",
    "\n",
    "    pred_A = data_A[0].predict(df_test_A)\n",
    "    pred_T = data_T[0].predict(df_test_T)\n",
    "\n",
    "    # Code A, T 순서 원래대로 변경\n",
    "    A_index = df[df[\"PRODUCT_CODE\"] == \"A_31\"].index\n",
    "    T_index = df[(df[\"PRODUCT_CODE\"] == \"T_31\") | (df[\"PRODUCT_CODE\"] == \"O_31\")].index\n",
    "\n",
    "    A_add_df = pd.DataFrame()\n",
    "    A_add_df[\"index\"] = A_index\n",
    "    A_add_df[\"predict\"] = pred_A\n",
    "\n",
    "    T_add_df = pd.DataFrame()\n",
    "    T_add_df[\"index\"] = T_index\n",
    "    T_add_df[\"predict\"] = pred_T\n",
    "\n",
    "    predict_data = pd.concat([A_add_df, T_add_df])\n",
    "    predict_data = predict_data.sort_values(by=[\"index\"], ascending=[True])\n",
    "\n",
    "    # submit\n",
    "    output_dir = \"Result/\"\n",
    "    if not os.path.exists(output_dir):\n",
    "        os.makedirs(output_dir)\n",
    "\n",
    "    submit = pd.read_csv(\"Dataset/sample_submission.csv\")\n",
    "    submit[\"Y_Class\"] = predict_data[\"predict\"].values\n",
    "    submit.to_csv(os.path.join(output_dir, \"./cross_val_lgb_submission.csv\"), index=False)"
   ],
   "metadata": {
    "collapsed": false
   }
  }
 ],
 "metadata": {
  "kernelspec": {
   "display_name": "Python 3",
   "language": "python",
   "name": "python3"
  },
  "language_info": {
   "codemirror_mode": {
    "name": "ipython",
    "version": 2
   },
   "file_extension": ".py",
   "mimetype": "text/x-python",
   "name": "python",
   "nbconvert_exporter": "python",
   "pygments_lexer": "ipython2",
   "version": "2.7.6"
  }
 },
 "nbformat": 4,
 "nbformat_minor": 0
}
