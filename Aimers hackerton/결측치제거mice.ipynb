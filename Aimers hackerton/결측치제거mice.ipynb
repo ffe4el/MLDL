{
 "cells": [
  {
   "cell_type": "code",
   "execution_count": 22,
   "metadata": {
    "collapsed": true
   },
   "outputs": [],
   "source": [
    "import numpy as np\n",
    "import pandas as pd\n",
    "\n",
    "from sklearn.linear_model import LinearRegression\n",
    "from sklearn.model_selection import train_test_split\n",
    "\n",
    "from sklearn.experimental import enable_iterative_imputer\n",
    "from sklearn.impute import IterativeImputer\n",
    "\n",
    "data_path = '/Users/sola/Downloads/open/'\n",
    "train = pd.read_csv(data_path + 'train.csv')\n",
    "test = pd.read_csv(data_path + 'test.csv')\n",
    "submission = pd.read_csv(data_path + 'sample_submission.csv')"
   ]
  },
  {
   "cell_type": "code",
   "execution_count": 23,
   "outputs": [
    {
     "name": "stdout",
     "output_type": "stream",
     "text": [
      "['X_3', 'X_6', 'X_14', 'X_70', 'X_74', 'X_75', 'X_76', 'X_77', 'X_78', 'X_79', 'X_82', 'X_83', 'X_84', 'X_85', 'X_142', 'X_190', 'X_191', 'X_192', 'X_193', 'X_194', 'X_195', 'X_232', 'X_234', 'X_235', 'X_259', 'X_260', 'X_315', 'X_319', 'X_322', 'X_323', 'X_324', 'X_327', 'X_328', 'X_329', 'X_330', 'X_375', 'X_376', 'X_377', 'X_378', 'X_427', 'X_466', 'X_467', 'X_505', 'X_508', 'X_558', 'X_561', 'X_567', 'X_583', 'X_617', 'X_620', 'X_631', 'X_633', 'X_634', 'X_636', 'X_638', 'X_639', 'X_640', 'X_641', 'X_642', 'X_672', 'X_673', 'X_676', 'X_691', 'X_692', 'X_695', 'X_715', 'X_729', 'X_732', 'X_743', 'X_749', 'X_759', 'X_760', 'X_761', 'X_764', 'X_776', 'X_777', 'X_778', 'X_836', 'X_843', 'X_844', 'X_849', 'X_859', 'X_886', 'X_887', 'X_888', 'X_889', 'X_992', 'X_1020', 'X_1021', 'X_1022', 'X_1023', 'X_1024', 'X_1025', 'X_1070', 'X_1092', 'X_1119', 'X_1137', 'X_1146', 'X_1206', 'X_1216', 'X_1219', 'X_1248', 'X_1249', 'X_1250', 'X_1251', 'X_1252', 'X_1253', 'X_1255', 'X_1293', 'X_1298', 'X_1309', 'X_1311', 'X_1312', 'X_1314', 'X_1316', 'X_1317', 'X_1318', 'X_1319', 'X_1320', 'X_1361', 'X_1362', 'X_1363', 'X_1364', 'X_1367', 'X_1392', 'X_1393', 'X_1394', 'X_1395', 'X_1396', 'X_1399', 'X_1426', 'X_1457', 'X_1487', 'X_1502', 'X_1503', 'X_1504', 'X_1522', 'X_1531', 'X_1537', 'X_1571', 'X_1572', 'X_1573', 'X_1574', 'X_1575', 'X_1576', 'X_1577', 'X_1578', 'X_1579', 'X_1580', 'X_1581', 'X_1582', 'X_1644', 'X_1645', 'X_1688', 'X_1689', 'X_1692', 'X_1693', 'X_1702', 'X_1722', 'X_1723', 'X_1724', 'X_1754', 'X_1760', 'X_1766', 'X_1772', 'X_1778', 'X_1784', 'X_1790', 'X_1796', 'X_1802', 'X_1808', 'X_1828', 'X_1835', 'X_1836', 'X_1837', 'X_1838', 'X_1839', 'X_1840', 'X_1841', 'X_1842', 'X_1844', 'X_1845', 'X_1846', 'X_1847', 'X_1848', 'X_1851', 'X_1852', 'X_1869', 'X_1870', 'X_1871', 'X_1872', 'X_2052', 'X_2053', 'X_2054', 'X_2055', 'X_2420', 'X_2462', 'X_2733', 'X_2775']\n",
      "199\n"
     ]
    }
   ],
   "source": [
    "wrong = []\n",
    "for i in range(1,2876):\n",
    "    ch = 'X_'+str(i)\n",
    "    if train[ch].mean() == 0:\n",
    "        wrong.append(ch)\n",
    "\n",
    "print(wrong)\n",
    "print(len(wrong))"
   ],
   "metadata": {
    "collapsed": false
   }
  },
  {
   "cell_type": "code",
   "execution_count": 26,
   "outputs": [
    {
     "data": {
      "text/plain": "      X_1   X_2   X_4   X_5   X_7   X_8   X_9  X_10   X_11   X_12  ...  \\\n0     NaN   NaN   NaN   NaN   NaN   NaN   NaN   NaN    NaN    NaN  ...   \n1     NaN   NaN   NaN   NaN   NaN   NaN   NaN   NaN    NaN    NaN  ...   \n2     NaN   NaN   NaN   NaN   NaN   NaN   NaN   NaN    NaN    NaN  ...   \n3     NaN   NaN   NaN   NaN   NaN   NaN   NaN   NaN    NaN    NaN  ...   \n4     NaN   NaN   NaN   NaN   NaN   NaN   NaN   NaN    NaN    NaN  ...   \n..    ...   ...   ...   ...   ...   ...   ...   ...    ...    ...  ...   \n593   2.0  95.0  45.0  10.0  50.0  10.0  52.0   2.0  468.9  473.9  ...   \n594   NaN   NaN   NaN   NaN   NaN   NaN   NaN   NaN    NaN    NaN  ...   \n595   NaN   NaN   NaN   NaN   NaN   NaN   NaN   NaN    NaN    NaN  ...   \n596  40.0  94.0  45.0  11.0  45.0  10.0  31.0   2.0  505.8  510.9  ...   \n597  21.0  87.0  45.0  10.0  61.0  10.0  52.0   2.0  470.6  474.9  ...   \n\n     X_2866  X_2867  X_2868  X_2869  X_2870  X_2871  X_2872  X_2873  X_2874  \\\n0     39.34   40.89   32.56   34.09   77.77     NaN     NaN     NaN     NaN   \n1     38.89   42.82   43.92   35.34   72.55     NaN     NaN     NaN     NaN   \n2     39.19   36.65   42.47   36.53   78.35     NaN     NaN     NaN     NaN   \n3     37.74   39.17   52.17   30.58   71.78     NaN     NaN     NaN     NaN   \n4     38.70   41.89   46.93   33.09   76.97     NaN     NaN     NaN     NaN   \n..      ...     ...     ...     ...     ...     ...     ...     ...     ...   \n593     NaN     NaN     NaN     NaN     NaN     NaN     NaN     NaN     NaN   \n594   49.47   53.07   50.89   55.10   66.49     1.0     NaN     NaN     NaN   \n595     NaN     NaN     NaN     NaN     NaN     1.0     NaN     NaN     NaN   \n596     NaN     NaN     NaN     NaN     NaN     NaN     NaN     NaN     NaN   \n597     NaN     NaN     NaN     NaN     NaN     NaN     NaN     NaN     NaN   \n\n     X_2875  \n0       NaN  \n1       NaN  \n2       NaN  \n3       NaN  \n4       NaN  \n..      ...  \n593     NaN  \n594     NaN  \n595     NaN  \n596     NaN  \n597     NaN  \n\n[598 rows x 2676 columns]",
      "text/html": "<div>\n<style scoped>\n    .dataframe tbody tr th:only-of-type {\n        vertical-align: middle;\n    }\n\n    .dataframe tbody tr th {\n        vertical-align: top;\n    }\n\n    .dataframe thead th {\n        text-align: right;\n    }\n</style>\n<table border=\"1\" class=\"dataframe\">\n  <thead>\n    <tr style=\"text-align: right;\">\n      <th></th>\n      <th>X_1</th>\n      <th>X_2</th>\n      <th>X_4</th>\n      <th>X_5</th>\n      <th>X_7</th>\n      <th>X_8</th>\n      <th>X_9</th>\n      <th>X_10</th>\n      <th>X_11</th>\n      <th>X_12</th>\n      <th>...</th>\n      <th>X_2866</th>\n      <th>X_2867</th>\n      <th>X_2868</th>\n      <th>X_2869</th>\n      <th>X_2870</th>\n      <th>X_2871</th>\n      <th>X_2872</th>\n      <th>X_2873</th>\n      <th>X_2874</th>\n      <th>X_2875</th>\n    </tr>\n  </thead>\n  <tbody>\n    <tr>\n      <th>0</th>\n      <td>NaN</td>\n      <td>NaN</td>\n      <td>NaN</td>\n      <td>NaN</td>\n      <td>NaN</td>\n      <td>NaN</td>\n      <td>NaN</td>\n      <td>NaN</td>\n      <td>NaN</td>\n      <td>NaN</td>\n      <td>...</td>\n      <td>39.34</td>\n      <td>40.89</td>\n      <td>32.56</td>\n      <td>34.09</td>\n      <td>77.77</td>\n      <td>NaN</td>\n      <td>NaN</td>\n      <td>NaN</td>\n      <td>NaN</td>\n      <td>NaN</td>\n    </tr>\n    <tr>\n      <th>1</th>\n      <td>NaN</td>\n      <td>NaN</td>\n      <td>NaN</td>\n      <td>NaN</td>\n      <td>NaN</td>\n      <td>NaN</td>\n      <td>NaN</td>\n      <td>NaN</td>\n      <td>NaN</td>\n      <td>NaN</td>\n      <td>...</td>\n      <td>38.89</td>\n      <td>42.82</td>\n      <td>43.92</td>\n      <td>35.34</td>\n      <td>72.55</td>\n      <td>NaN</td>\n      <td>NaN</td>\n      <td>NaN</td>\n      <td>NaN</td>\n      <td>NaN</td>\n    </tr>\n    <tr>\n      <th>2</th>\n      <td>NaN</td>\n      <td>NaN</td>\n      <td>NaN</td>\n      <td>NaN</td>\n      <td>NaN</td>\n      <td>NaN</td>\n      <td>NaN</td>\n      <td>NaN</td>\n      <td>NaN</td>\n      <td>NaN</td>\n      <td>...</td>\n      <td>39.19</td>\n      <td>36.65</td>\n      <td>42.47</td>\n      <td>36.53</td>\n      <td>78.35</td>\n      <td>NaN</td>\n      <td>NaN</td>\n      <td>NaN</td>\n      <td>NaN</td>\n      <td>NaN</td>\n    </tr>\n    <tr>\n      <th>3</th>\n      <td>NaN</td>\n      <td>NaN</td>\n      <td>NaN</td>\n      <td>NaN</td>\n      <td>NaN</td>\n      <td>NaN</td>\n      <td>NaN</td>\n      <td>NaN</td>\n      <td>NaN</td>\n      <td>NaN</td>\n      <td>...</td>\n      <td>37.74</td>\n      <td>39.17</td>\n      <td>52.17</td>\n      <td>30.58</td>\n      <td>71.78</td>\n      <td>NaN</td>\n      <td>NaN</td>\n      <td>NaN</td>\n      <td>NaN</td>\n      <td>NaN</td>\n    </tr>\n    <tr>\n      <th>4</th>\n      <td>NaN</td>\n      <td>NaN</td>\n      <td>NaN</td>\n      <td>NaN</td>\n      <td>NaN</td>\n      <td>NaN</td>\n      <td>NaN</td>\n      <td>NaN</td>\n      <td>NaN</td>\n      <td>NaN</td>\n      <td>...</td>\n      <td>38.70</td>\n      <td>41.89</td>\n      <td>46.93</td>\n      <td>33.09</td>\n      <td>76.97</td>\n      <td>NaN</td>\n      <td>NaN</td>\n      <td>NaN</td>\n      <td>NaN</td>\n      <td>NaN</td>\n    </tr>\n    <tr>\n      <th>...</th>\n      <td>...</td>\n      <td>...</td>\n      <td>...</td>\n      <td>...</td>\n      <td>...</td>\n      <td>...</td>\n      <td>...</td>\n      <td>...</td>\n      <td>...</td>\n      <td>...</td>\n      <td>...</td>\n      <td>...</td>\n      <td>...</td>\n      <td>...</td>\n      <td>...</td>\n      <td>...</td>\n      <td>...</td>\n      <td>...</td>\n      <td>...</td>\n      <td>...</td>\n      <td>...</td>\n    </tr>\n    <tr>\n      <th>593</th>\n      <td>2.0</td>\n      <td>95.0</td>\n      <td>45.0</td>\n      <td>10.0</td>\n      <td>50.0</td>\n      <td>10.0</td>\n      <td>52.0</td>\n      <td>2.0</td>\n      <td>468.9</td>\n      <td>473.9</td>\n      <td>...</td>\n      <td>NaN</td>\n      <td>NaN</td>\n      <td>NaN</td>\n      <td>NaN</td>\n      <td>NaN</td>\n      <td>NaN</td>\n      <td>NaN</td>\n      <td>NaN</td>\n      <td>NaN</td>\n      <td>NaN</td>\n    </tr>\n    <tr>\n      <th>594</th>\n      <td>NaN</td>\n      <td>NaN</td>\n      <td>NaN</td>\n      <td>NaN</td>\n      <td>NaN</td>\n      <td>NaN</td>\n      <td>NaN</td>\n      <td>NaN</td>\n      <td>NaN</td>\n      <td>NaN</td>\n      <td>...</td>\n      <td>49.47</td>\n      <td>53.07</td>\n      <td>50.89</td>\n      <td>55.10</td>\n      <td>66.49</td>\n      <td>1.0</td>\n      <td>NaN</td>\n      <td>NaN</td>\n      <td>NaN</td>\n      <td>NaN</td>\n    </tr>\n    <tr>\n      <th>595</th>\n      <td>NaN</td>\n      <td>NaN</td>\n      <td>NaN</td>\n      <td>NaN</td>\n      <td>NaN</td>\n      <td>NaN</td>\n      <td>NaN</td>\n      <td>NaN</td>\n      <td>NaN</td>\n      <td>NaN</td>\n      <td>...</td>\n      <td>NaN</td>\n      <td>NaN</td>\n      <td>NaN</td>\n      <td>NaN</td>\n      <td>NaN</td>\n      <td>1.0</td>\n      <td>NaN</td>\n      <td>NaN</td>\n      <td>NaN</td>\n      <td>NaN</td>\n    </tr>\n    <tr>\n      <th>596</th>\n      <td>40.0</td>\n      <td>94.0</td>\n      <td>45.0</td>\n      <td>11.0</td>\n      <td>45.0</td>\n      <td>10.0</td>\n      <td>31.0</td>\n      <td>2.0</td>\n      <td>505.8</td>\n      <td>510.9</td>\n      <td>...</td>\n      <td>NaN</td>\n      <td>NaN</td>\n      <td>NaN</td>\n      <td>NaN</td>\n      <td>NaN</td>\n      <td>NaN</td>\n      <td>NaN</td>\n      <td>NaN</td>\n      <td>NaN</td>\n      <td>NaN</td>\n    </tr>\n    <tr>\n      <th>597</th>\n      <td>21.0</td>\n      <td>87.0</td>\n      <td>45.0</td>\n      <td>10.0</td>\n      <td>61.0</td>\n      <td>10.0</td>\n      <td>52.0</td>\n      <td>2.0</td>\n      <td>470.6</td>\n      <td>474.9</td>\n      <td>...</td>\n      <td>NaN</td>\n      <td>NaN</td>\n      <td>NaN</td>\n      <td>NaN</td>\n      <td>NaN</td>\n      <td>NaN</td>\n      <td>NaN</td>\n      <td>NaN</td>\n      <td>NaN</td>\n      <td>NaN</td>\n    </tr>\n  </tbody>\n</table>\n<p>598 rows × 2676 columns</p>\n</div>"
     },
     "execution_count": 26,
     "metadata": {},
     "output_type": "execute_result"
    }
   ],
   "source": [
    "X = train.drop(['Y_Class', 'Y_Quality','PRODUCT_CODE','PRODUCT_ID','TIMESTAMP','LINE'], axis =1)\n",
    "X = X.drop(wrong, axis=1)\n",
    "y = train['Y_Class']\n",
    "\n",
    "X"
   ],
   "metadata": {
    "collapsed": false
   }
  },
  {
   "cell_type": "code",
   "execution_count": 77,
   "outputs": [
    {
     "data": {
      "text/plain": "   X_1  X_2  X_4  X_5  X_7  X_8  X_9  X_10  X_11  X_12  ...  X_2866  X_2867  \\\n0  NaN  NaN  NaN  NaN  NaN  NaN  NaN   NaN   NaN   NaN  ...   39.34   40.89   \n1  NaN  NaN  NaN  NaN  NaN  NaN  NaN   NaN   NaN   NaN  ...   38.89   42.82   \n2  NaN  NaN  NaN  NaN  NaN  NaN  NaN   NaN   NaN   NaN  ...   39.19   36.65   \n3  NaN  NaN  NaN  NaN  NaN  NaN  NaN   NaN   NaN   NaN  ...   37.74   39.17   \n4  NaN  NaN  NaN  NaN  NaN  NaN  NaN   NaN   NaN   NaN  ...   38.70   41.89   \n\n   X_2868  X_2869  X_2870  X_2871  X_2872  X_2873  X_2874  X_2875  \n0   32.56   34.09   77.77     NaN     NaN     NaN     NaN     NaN  \n1   43.92   35.34   72.55     NaN     NaN     NaN     NaN     NaN  \n2   42.47   36.53   78.35     NaN     NaN     NaN     NaN     NaN  \n3   52.17   30.58   71.78     NaN     NaN     NaN     NaN     NaN  \n4   46.93   33.09   76.97     NaN     NaN     NaN     NaN     NaN  \n\n[5 rows x 2676 columns]",
      "text/html": "<div>\n<style scoped>\n    .dataframe tbody tr th:only-of-type {\n        vertical-align: middle;\n    }\n\n    .dataframe tbody tr th {\n        vertical-align: top;\n    }\n\n    .dataframe thead th {\n        text-align: right;\n    }\n</style>\n<table border=\"1\" class=\"dataframe\">\n  <thead>\n    <tr style=\"text-align: right;\">\n      <th></th>\n      <th>X_1</th>\n      <th>X_2</th>\n      <th>X_4</th>\n      <th>X_5</th>\n      <th>X_7</th>\n      <th>X_8</th>\n      <th>X_9</th>\n      <th>X_10</th>\n      <th>X_11</th>\n      <th>X_12</th>\n      <th>...</th>\n      <th>X_2866</th>\n      <th>X_2867</th>\n      <th>X_2868</th>\n      <th>X_2869</th>\n      <th>X_2870</th>\n      <th>X_2871</th>\n      <th>X_2872</th>\n      <th>X_2873</th>\n      <th>X_2874</th>\n      <th>X_2875</th>\n    </tr>\n  </thead>\n  <tbody>\n    <tr>\n      <th>0</th>\n      <td>NaN</td>\n      <td>NaN</td>\n      <td>NaN</td>\n      <td>NaN</td>\n      <td>NaN</td>\n      <td>NaN</td>\n      <td>NaN</td>\n      <td>NaN</td>\n      <td>NaN</td>\n      <td>NaN</td>\n      <td>...</td>\n      <td>39.34</td>\n      <td>40.89</td>\n      <td>32.56</td>\n      <td>34.09</td>\n      <td>77.77</td>\n      <td>NaN</td>\n      <td>NaN</td>\n      <td>NaN</td>\n      <td>NaN</td>\n      <td>NaN</td>\n    </tr>\n    <tr>\n      <th>1</th>\n      <td>NaN</td>\n      <td>NaN</td>\n      <td>NaN</td>\n      <td>NaN</td>\n      <td>NaN</td>\n      <td>NaN</td>\n      <td>NaN</td>\n      <td>NaN</td>\n      <td>NaN</td>\n      <td>NaN</td>\n      <td>...</td>\n      <td>38.89</td>\n      <td>42.82</td>\n      <td>43.92</td>\n      <td>35.34</td>\n      <td>72.55</td>\n      <td>NaN</td>\n      <td>NaN</td>\n      <td>NaN</td>\n      <td>NaN</td>\n      <td>NaN</td>\n    </tr>\n    <tr>\n      <th>2</th>\n      <td>NaN</td>\n      <td>NaN</td>\n      <td>NaN</td>\n      <td>NaN</td>\n      <td>NaN</td>\n      <td>NaN</td>\n      <td>NaN</td>\n      <td>NaN</td>\n      <td>NaN</td>\n      <td>NaN</td>\n      <td>...</td>\n      <td>39.19</td>\n      <td>36.65</td>\n      <td>42.47</td>\n      <td>36.53</td>\n      <td>78.35</td>\n      <td>NaN</td>\n      <td>NaN</td>\n      <td>NaN</td>\n      <td>NaN</td>\n      <td>NaN</td>\n    </tr>\n    <tr>\n      <th>3</th>\n      <td>NaN</td>\n      <td>NaN</td>\n      <td>NaN</td>\n      <td>NaN</td>\n      <td>NaN</td>\n      <td>NaN</td>\n      <td>NaN</td>\n      <td>NaN</td>\n      <td>NaN</td>\n      <td>NaN</td>\n      <td>...</td>\n      <td>37.74</td>\n      <td>39.17</td>\n      <td>52.17</td>\n      <td>30.58</td>\n      <td>71.78</td>\n      <td>NaN</td>\n      <td>NaN</td>\n      <td>NaN</td>\n      <td>NaN</td>\n      <td>NaN</td>\n    </tr>\n    <tr>\n      <th>4</th>\n      <td>NaN</td>\n      <td>NaN</td>\n      <td>NaN</td>\n      <td>NaN</td>\n      <td>NaN</td>\n      <td>NaN</td>\n      <td>NaN</td>\n      <td>NaN</td>\n      <td>NaN</td>\n      <td>NaN</td>\n      <td>...</td>\n      <td>38.70</td>\n      <td>41.89</td>\n      <td>46.93</td>\n      <td>33.09</td>\n      <td>76.97</td>\n      <td>NaN</td>\n      <td>NaN</td>\n      <td>NaN</td>\n      <td>NaN</td>\n      <td>NaN</td>\n    </tr>\n  </tbody>\n</table>\n<p>5 rows × 2676 columns</p>\n</div>"
     },
     "execution_count": 77,
     "metadata": {},
     "output_type": "execute_result"
    }
   ],
   "source": [
    "X.head()"
   ],
   "metadata": {
    "collapsed": false
   }
  },
  {
   "cell_type": "code",
   "execution_count": null,
   "outputs": [],
   "source": [],
   "metadata": {
    "collapsed": false
   }
  },
  {
   "cell_type": "code",
   "execution_count": 27,
   "outputs": [
    {
     "data": {
      "text/plain": "Index(['X_1', 'X_2', 'X_4', 'X_5', 'X_7', 'X_8', 'X_9', 'X_10', 'X_11', 'X_12',\n       ...\n       'X_2866', 'X_2867', 'X_2868', 'X_2869', 'X_2870', 'X_2871', 'X_2872',\n       'X_2873', 'X_2874', 'X_2875'],\n      dtype='object', length=2676)"
     },
     "execution_count": 27,
     "metadata": {},
     "output_type": "execute_result"
    }
   ],
   "source": [
    "a = X.columns\n",
    "a\n",
    "# for i in range(2676):\n",
    "#     X[f\"X_{i}\"]"
   ],
   "metadata": {
    "collapsed": false
   }
  },
  {
   "cell_type": "code",
   "execution_count": 28,
   "outputs": [
    {
     "data": {
      "text/plain": "             X_1       X_2  X_4       X_5       X_7       X_8       X_9  X_10  \\\nX_1     1.000000 -0.009092  0.0  0.079607 -0.024264 -0.018011 -0.052855   0.0   \nX_2    -0.009092  1.000000  0.0  0.569530 -0.597949 -0.195017 -0.701972   0.0   \nX_4     0.000000  0.000000  0.0  0.000000  0.000000  0.000000  0.000000   0.0   \nX_5     0.079607  0.569530  0.0  1.000000 -0.699841 -0.181906 -0.801582   0.0   \nX_7    -0.024264 -0.597949  0.0 -0.699841  1.000000  0.324154  0.873075   0.0   \n...          ...       ...  ...       ...       ...       ...       ...   ...   \nX_2871  0.000000  0.000000  0.0  0.000000  0.000000  0.000000  0.000000   0.0   \nX_2872  0.000000  0.000000  0.0  0.000000  0.000000  0.000000  0.000000   0.0   \nX_2873  0.000000  0.000000  0.0  0.000000  0.000000  0.000000  0.000000   0.0   \nX_2874  0.000000  0.000000  0.0  0.000000  0.000000  0.000000  0.000000   0.0   \nX_2875  0.000000  0.000000  0.0  0.000000  0.000000  0.000000  0.000000   0.0   \n\n            X_11      X_12  ...  X_2866  X_2867  X_2868  X_2869  X_2870  \\\nX_1    -0.020493 -0.026990  ...     0.0     0.0     0.0     0.0     0.0   \nX_2     0.333930  0.312657  ...     0.0     0.0     0.0     0.0     0.0   \nX_4     0.000000  0.000000  ...     0.0     0.0     0.0     0.0     0.0   \nX_5     0.347762  0.316936  ...     0.0     0.0     0.0     0.0     0.0   \nX_7    -0.468651 -0.444337  ...     0.0     0.0     0.0     0.0     0.0   \n...          ...       ...  ...     ...     ...     ...     ...     ...   \nX_2871  0.000000  0.000000  ...     0.0     0.0     0.0     0.0     0.0   \nX_2872  0.000000  0.000000  ...     0.0     0.0     0.0     0.0     0.0   \nX_2873  0.000000  0.000000  ...     0.0     0.0     0.0     0.0     0.0   \nX_2874  0.000000  0.000000  ...     0.0     0.0     0.0     0.0     0.0   \nX_2875  0.000000  0.000000  ...     0.0     0.0     0.0     0.0     0.0   \n\n        X_2871  X_2872  X_2873  X_2874  X_2875  \nX_1        0.0     0.0     0.0     0.0     0.0  \nX_2        0.0     0.0     0.0     0.0     0.0  \nX_4        0.0     0.0     0.0     0.0     0.0  \nX_5        0.0     0.0     0.0     0.0     0.0  \nX_7        0.0     0.0     0.0     0.0     0.0  \n...        ...     ...     ...     ...     ...  \nX_2871     0.0     0.0     0.0     0.0     0.0  \nX_2872     0.0     0.0     0.0     0.0     0.0  \nX_2873     0.0     0.0     0.0     0.0     0.0  \nX_2874     0.0     0.0     0.0     0.0     0.0  \nX_2875     0.0     0.0     0.0     0.0     0.0  \n\n[2676 rows x 2676 columns]",
      "text/html": "<div>\n<style scoped>\n    .dataframe tbody tr th:only-of-type {\n        vertical-align: middle;\n    }\n\n    .dataframe tbody tr th {\n        vertical-align: top;\n    }\n\n    .dataframe thead th {\n        text-align: right;\n    }\n</style>\n<table border=\"1\" class=\"dataframe\">\n  <thead>\n    <tr style=\"text-align: right;\">\n      <th></th>\n      <th>X_1</th>\n      <th>X_2</th>\n      <th>X_4</th>\n      <th>X_5</th>\n      <th>X_7</th>\n      <th>X_8</th>\n      <th>X_9</th>\n      <th>X_10</th>\n      <th>X_11</th>\n      <th>X_12</th>\n      <th>...</th>\n      <th>X_2866</th>\n      <th>X_2867</th>\n      <th>X_2868</th>\n      <th>X_2869</th>\n      <th>X_2870</th>\n      <th>X_2871</th>\n      <th>X_2872</th>\n      <th>X_2873</th>\n      <th>X_2874</th>\n      <th>X_2875</th>\n    </tr>\n  </thead>\n  <tbody>\n    <tr>\n      <th>X_1</th>\n      <td>1.000000</td>\n      <td>-0.009092</td>\n      <td>0.0</td>\n      <td>0.079607</td>\n      <td>-0.024264</td>\n      <td>-0.018011</td>\n      <td>-0.052855</td>\n      <td>0.0</td>\n      <td>-0.020493</td>\n      <td>-0.026990</td>\n      <td>...</td>\n      <td>0.0</td>\n      <td>0.0</td>\n      <td>0.0</td>\n      <td>0.0</td>\n      <td>0.0</td>\n      <td>0.0</td>\n      <td>0.0</td>\n      <td>0.0</td>\n      <td>0.0</td>\n      <td>0.0</td>\n    </tr>\n    <tr>\n      <th>X_2</th>\n      <td>-0.009092</td>\n      <td>1.000000</td>\n      <td>0.0</td>\n      <td>0.569530</td>\n      <td>-0.597949</td>\n      <td>-0.195017</td>\n      <td>-0.701972</td>\n      <td>0.0</td>\n      <td>0.333930</td>\n      <td>0.312657</td>\n      <td>...</td>\n      <td>0.0</td>\n      <td>0.0</td>\n      <td>0.0</td>\n      <td>0.0</td>\n      <td>0.0</td>\n      <td>0.0</td>\n      <td>0.0</td>\n      <td>0.0</td>\n      <td>0.0</td>\n      <td>0.0</td>\n    </tr>\n    <tr>\n      <th>X_4</th>\n      <td>0.000000</td>\n      <td>0.000000</td>\n      <td>0.0</td>\n      <td>0.000000</td>\n      <td>0.000000</td>\n      <td>0.000000</td>\n      <td>0.000000</td>\n      <td>0.0</td>\n      <td>0.000000</td>\n      <td>0.000000</td>\n      <td>...</td>\n      <td>0.0</td>\n      <td>0.0</td>\n      <td>0.0</td>\n      <td>0.0</td>\n      <td>0.0</td>\n      <td>0.0</td>\n      <td>0.0</td>\n      <td>0.0</td>\n      <td>0.0</td>\n      <td>0.0</td>\n    </tr>\n    <tr>\n      <th>X_5</th>\n      <td>0.079607</td>\n      <td>0.569530</td>\n      <td>0.0</td>\n      <td>1.000000</td>\n      <td>-0.699841</td>\n      <td>-0.181906</td>\n      <td>-0.801582</td>\n      <td>0.0</td>\n      <td>0.347762</td>\n      <td>0.316936</td>\n      <td>...</td>\n      <td>0.0</td>\n      <td>0.0</td>\n      <td>0.0</td>\n      <td>0.0</td>\n      <td>0.0</td>\n      <td>0.0</td>\n      <td>0.0</td>\n      <td>0.0</td>\n      <td>0.0</td>\n      <td>0.0</td>\n    </tr>\n    <tr>\n      <th>X_7</th>\n      <td>-0.024264</td>\n      <td>-0.597949</td>\n      <td>0.0</td>\n      <td>-0.699841</td>\n      <td>1.000000</td>\n      <td>0.324154</td>\n      <td>0.873075</td>\n      <td>0.0</td>\n      <td>-0.468651</td>\n      <td>-0.444337</td>\n      <td>...</td>\n      <td>0.0</td>\n      <td>0.0</td>\n      <td>0.0</td>\n      <td>0.0</td>\n      <td>0.0</td>\n      <td>0.0</td>\n      <td>0.0</td>\n      <td>0.0</td>\n      <td>0.0</td>\n      <td>0.0</td>\n    </tr>\n    <tr>\n      <th>...</th>\n      <td>...</td>\n      <td>...</td>\n      <td>...</td>\n      <td>...</td>\n      <td>...</td>\n      <td>...</td>\n      <td>...</td>\n      <td>...</td>\n      <td>...</td>\n      <td>...</td>\n      <td>...</td>\n      <td>...</td>\n      <td>...</td>\n      <td>...</td>\n      <td>...</td>\n      <td>...</td>\n      <td>...</td>\n      <td>...</td>\n      <td>...</td>\n      <td>...</td>\n      <td>...</td>\n    </tr>\n    <tr>\n      <th>X_2871</th>\n      <td>0.000000</td>\n      <td>0.000000</td>\n      <td>0.0</td>\n      <td>0.000000</td>\n      <td>0.000000</td>\n      <td>0.000000</td>\n      <td>0.000000</td>\n      <td>0.0</td>\n      <td>0.000000</td>\n      <td>0.000000</td>\n      <td>...</td>\n      <td>0.0</td>\n      <td>0.0</td>\n      <td>0.0</td>\n      <td>0.0</td>\n      <td>0.0</td>\n      <td>0.0</td>\n      <td>0.0</td>\n      <td>0.0</td>\n      <td>0.0</td>\n      <td>0.0</td>\n    </tr>\n    <tr>\n      <th>X_2872</th>\n      <td>0.000000</td>\n      <td>0.000000</td>\n      <td>0.0</td>\n      <td>0.000000</td>\n      <td>0.000000</td>\n      <td>0.000000</td>\n      <td>0.000000</td>\n      <td>0.0</td>\n      <td>0.000000</td>\n      <td>0.000000</td>\n      <td>...</td>\n      <td>0.0</td>\n      <td>0.0</td>\n      <td>0.0</td>\n      <td>0.0</td>\n      <td>0.0</td>\n      <td>0.0</td>\n      <td>0.0</td>\n      <td>0.0</td>\n      <td>0.0</td>\n      <td>0.0</td>\n    </tr>\n    <tr>\n      <th>X_2873</th>\n      <td>0.000000</td>\n      <td>0.000000</td>\n      <td>0.0</td>\n      <td>0.000000</td>\n      <td>0.000000</td>\n      <td>0.000000</td>\n      <td>0.000000</td>\n      <td>0.0</td>\n      <td>0.000000</td>\n      <td>0.000000</td>\n      <td>...</td>\n      <td>0.0</td>\n      <td>0.0</td>\n      <td>0.0</td>\n      <td>0.0</td>\n      <td>0.0</td>\n      <td>0.0</td>\n      <td>0.0</td>\n      <td>0.0</td>\n      <td>0.0</td>\n      <td>0.0</td>\n    </tr>\n    <tr>\n      <th>X_2874</th>\n      <td>0.000000</td>\n      <td>0.000000</td>\n      <td>0.0</td>\n      <td>0.000000</td>\n      <td>0.000000</td>\n      <td>0.000000</td>\n      <td>0.000000</td>\n      <td>0.0</td>\n      <td>0.000000</td>\n      <td>0.000000</td>\n      <td>...</td>\n      <td>0.0</td>\n      <td>0.0</td>\n      <td>0.0</td>\n      <td>0.0</td>\n      <td>0.0</td>\n      <td>0.0</td>\n      <td>0.0</td>\n      <td>0.0</td>\n      <td>0.0</td>\n      <td>0.0</td>\n    </tr>\n    <tr>\n      <th>X_2875</th>\n      <td>0.000000</td>\n      <td>0.000000</td>\n      <td>0.0</td>\n      <td>0.000000</td>\n      <td>0.000000</td>\n      <td>0.000000</td>\n      <td>0.000000</td>\n      <td>0.0</td>\n      <td>0.000000</td>\n      <td>0.000000</td>\n      <td>...</td>\n      <td>0.0</td>\n      <td>0.0</td>\n      <td>0.0</td>\n      <td>0.0</td>\n      <td>0.0</td>\n      <td>0.0</td>\n      <td>0.0</td>\n      <td>0.0</td>\n      <td>0.0</td>\n      <td>0.0</td>\n    </tr>\n  </tbody>\n</table>\n<p>2676 rows × 2676 columns</p>\n</div>"
     },
     "execution_count": 28,
     "metadata": {},
     "output_type": "execute_result"
    }
   ],
   "source": [
    "X.corr().fillna(0)"
   ],
   "metadata": {
    "collapsed": false
   }
  },
  {
   "cell_type": "code",
   "execution_count": 69,
   "outputs": [
    {
     "data": {
      "text/plain": "['X_1',\n 'X_2',\n 'X_4',\n 'X_5',\n 'X_7',\n 'X_8',\n 'X_9',\n 'X_10',\n 'X_11',\n 'X_12',\n 'X_13',\n 'X_15',\n 'X_16',\n 'X_17',\n 'X_18',\n 'X_19',\n 'X_20',\n 'X_21',\n 'X_22',\n 'X_23',\n 'X_24',\n 'X_25',\n 'X_26',\n 'X_27',\n 'X_28',\n 'X_29',\n 'X_30',\n 'X_31',\n 'X_32',\n 'X_33',\n 'X_34',\n 'X_35',\n 'X_36',\n 'X_37',\n 'X_38',\n 'X_39',\n 'X_40',\n 'X_41',\n 'X_42',\n 'X_43',\n 'X_44',\n 'X_45',\n 'X_46',\n 'X_47',\n 'X_48',\n 'X_49',\n 'X_50',\n 'X_51',\n 'X_52',\n 'X_53',\n 'X_54',\n 'X_55',\n 'X_56',\n 'X_57',\n 'X_58',\n 'X_59',\n 'X_60',\n 'X_61',\n 'X_62',\n 'X_63',\n 'X_64',\n 'X_65',\n 'X_66',\n 'X_67',\n 'X_68',\n 'X_69',\n 'X_71',\n 'X_72',\n 'X_73',\n 'X_80',\n 'X_81',\n 'X_86',\n 'X_87',\n 'X_88',\n 'X_89',\n 'X_90',\n 'X_91',\n 'X_92',\n 'X_93',\n 'X_94',\n 'X_95',\n 'X_96',\n 'X_97',\n 'X_98',\n 'X_99',\n 'X_100',\n 'X_101',\n 'X_102',\n 'X_103',\n 'X_104',\n 'X_105',\n 'X_106',\n 'X_107',\n 'X_108',\n 'X_109',\n 'X_110',\n 'X_111',\n 'X_112',\n 'X_113',\n 'X_114',\n 'X_115',\n 'X_116',\n 'X_117',\n 'X_118',\n 'X_119',\n 'X_120',\n 'X_121',\n 'X_122',\n 'X_123',\n 'X_124',\n 'X_125',\n 'X_126',\n 'X_127',\n 'X_128',\n 'X_129',\n 'X_130',\n 'X_131',\n 'X_132',\n 'X_133',\n 'X_134',\n 'X_135',\n 'X_136',\n 'X_137',\n 'X_138',\n 'X_139',\n 'X_140',\n 'X_141',\n 'X_143',\n 'X_144',\n 'X_145',\n 'X_146',\n 'X_147',\n 'X_148',\n 'X_149',\n 'X_150',\n 'X_151',\n 'X_152',\n 'X_153',\n 'X_154',\n 'X_155',\n 'X_156',\n 'X_157',\n 'X_158',\n 'X_159',\n 'X_160',\n 'X_161',\n 'X_162',\n 'X_163',\n 'X_164',\n 'X_165',\n 'X_166',\n 'X_167',\n 'X_168',\n 'X_169',\n 'X_170',\n 'X_171',\n 'X_172',\n 'X_173',\n 'X_174',\n 'X_175',\n 'X_176',\n 'X_177',\n 'X_178',\n 'X_179',\n 'X_180',\n 'X_181',\n 'X_182',\n 'X_183',\n 'X_184',\n 'X_185',\n 'X_186',\n 'X_187',\n 'X_188',\n 'X_189',\n 'X_196',\n 'X_197',\n 'X_198',\n 'X_199',\n 'X_200',\n 'X_201',\n 'X_202',\n 'X_203',\n 'X_204',\n 'X_205',\n 'X_206',\n 'X_207',\n 'X_208',\n 'X_209',\n 'X_210',\n 'X_211',\n 'X_212',\n 'X_213',\n 'X_214',\n 'X_215',\n 'X_216',\n 'X_217',\n 'X_218',\n 'X_219',\n 'X_220',\n 'X_221',\n 'X_222',\n 'X_223',\n 'X_224',\n 'X_225',\n 'X_226',\n 'X_227',\n 'X_228',\n 'X_229',\n 'X_230',\n 'X_231',\n 'X_233',\n 'X_236',\n 'X_237',\n 'X_238',\n 'X_239',\n 'X_240',\n 'X_241',\n 'X_242',\n 'X_243',\n 'X_244',\n 'X_245',\n 'X_246',\n 'X_247',\n 'X_248',\n 'X_249',\n 'X_250',\n 'X_251',\n 'X_252',\n 'X_253',\n 'X_254',\n 'X_255',\n 'X_256',\n 'X_257',\n 'X_258',\n 'X_261',\n 'X_262',\n 'X_263',\n 'X_264',\n 'X_265',\n 'X_266',\n 'X_267',\n 'X_268',\n 'X_269',\n 'X_270',\n 'X_271',\n 'X_272',\n 'X_273',\n 'X_274',\n 'X_275',\n 'X_276',\n 'X_277',\n 'X_278',\n 'X_279',\n 'X_280',\n 'X_281',\n 'X_282',\n 'X_283',\n 'X_284',\n 'X_285',\n 'X_286',\n 'X_287',\n 'X_288',\n 'X_289',\n 'X_290',\n 'X_291',\n 'X_292',\n 'X_293',\n 'X_294',\n 'X_295',\n 'X_296',\n 'X_297',\n 'X_298',\n 'X_299',\n 'X_300',\n 'X_301',\n 'X_302',\n 'X_303',\n 'X_304',\n 'X_305',\n 'X_306',\n 'X_307',\n 'X_308',\n 'X_309',\n 'X_310',\n 'X_311',\n 'X_312',\n 'X_313',\n 'X_314',\n 'X_316',\n 'X_317',\n 'X_318',\n 'X_320',\n 'X_321',\n 'X_325',\n 'X_326',\n 'X_331',\n 'X_332',\n 'X_333',\n 'X_334',\n 'X_335',\n 'X_336',\n 'X_337',\n 'X_338',\n 'X_339',\n 'X_340',\n 'X_341',\n 'X_342',\n 'X_343',\n 'X_344',\n 'X_345',\n 'X_346',\n 'X_347',\n 'X_348',\n 'X_349',\n 'X_350',\n 'X_351',\n 'X_352',\n 'X_353',\n 'X_354',\n 'X_355',\n 'X_356',\n 'X_357',\n 'X_358',\n 'X_359',\n 'X_360',\n 'X_361',\n 'X_362',\n 'X_363',\n 'X_364',\n 'X_365',\n 'X_366',\n 'X_367',\n 'X_368',\n 'X_369',\n 'X_370',\n 'X_371',\n 'X_372',\n 'X_373',\n 'X_374',\n 'X_379',\n 'X_380',\n 'X_381',\n 'X_382',\n 'X_383',\n 'X_384',\n 'X_385',\n 'X_386',\n 'X_387',\n 'X_388',\n 'X_389',\n 'X_390',\n 'X_391',\n 'X_392',\n 'X_393',\n 'X_394',\n 'X_395',\n 'X_396',\n 'X_397',\n 'X_398',\n 'X_399',\n 'X_400',\n 'X_401',\n 'X_402',\n 'X_403',\n 'X_404',\n 'X_405',\n 'X_406',\n 'X_407',\n 'X_408',\n 'X_409',\n 'X_410',\n 'X_411',\n 'X_412',\n 'X_413',\n 'X_414',\n 'X_415',\n 'X_416',\n 'X_417',\n 'X_418',\n 'X_419',\n 'X_420',\n 'X_421',\n 'X_422',\n 'X_423',\n 'X_424',\n 'X_425',\n 'X_426',\n 'X_428',\n 'X_429',\n 'X_430',\n 'X_431',\n 'X_432',\n 'X_433',\n 'X_434',\n 'X_435',\n 'X_436',\n 'X_437',\n 'X_438',\n 'X_439',\n 'X_440',\n 'X_441',\n 'X_442',\n 'X_443',\n 'X_444',\n 'X_445',\n 'X_446',\n 'X_447',\n 'X_448',\n 'X_449',\n 'X_450',\n 'X_451',\n 'X_452',\n 'X_453',\n 'X_454',\n 'X_455',\n 'X_456',\n 'X_457',\n 'X_458',\n 'X_459',\n 'X_460',\n 'X_461',\n 'X_462',\n 'X_463',\n 'X_464',\n 'X_465',\n 'X_468',\n 'X_469',\n 'X_470',\n 'X_471',\n 'X_472',\n 'X_473',\n 'X_474',\n 'X_475',\n 'X_476',\n 'X_477',\n 'X_478',\n 'X_479',\n 'X_480',\n 'X_481',\n 'X_482',\n 'X_483',\n 'X_484',\n 'X_485',\n 'X_486',\n 'X_487',\n 'X_488',\n 'X_489',\n 'X_490',\n 'X_491',\n 'X_492',\n 'X_493',\n 'X_494',\n 'X_495',\n 'X_496',\n 'X_497',\n 'X_498',\n 'X_499',\n 'X_500',\n 'X_501',\n 'X_502',\n 'X_503',\n 'X_504',\n 'X_506',\n 'X_507',\n 'X_509',\n 'X_510',\n 'X_511',\n 'X_512',\n 'X_513',\n 'X_514',\n 'X_515',\n 'X_516',\n 'X_517',\n 'X_518',\n 'X_519',\n 'X_520',\n 'X_521',\n 'X_522',\n 'X_523',\n 'X_524',\n 'X_525',\n 'X_526',\n 'X_527',\n 'X_528',\n 'X_529',\n 'X_530',\n 'X_531',\n 'X_532',\n 'X_533',\n 'X_534',\n 'X_535',\n 'X_536',\n 'X_537',\n 'X_538',\n 'X_539',\n 'X_540',\n 'X_541',\n 'X_542',\n 'X_543',\n 'X_544',\n 'X_545',\n 'X_546',\n 'X_547',\n 'X_548',\n 'X_549',\n 'X_550',\n 'X_551',\n 'X_552',\n 'X_553',\n 'X_554',\n 'X_555',\n 'X_556',\n 'X_557',\n 'X_559',\n 'X_560',\n 'X_562',\n 'X_563',\n 'X_564',\n 'X_565',\n 'X_566',\n 'X_568',\n 'X_569',\n 'X_570',\n 'X_571',\n 'X_572',\n 'X_573',\n 'X_574',\n 'X_575',\n 'X_576',\n 'X_577',\n 'X_578',\n 'X_579',\n 'X_580',\n 'X_581',\n 'X_582',\n 'X_584',\n 'X_585',\n 'X_586',\n 'X_587',\n 'X_588',\n 'X_589',\n 'X_590',\n 'X_591',\n 'X_592',\n 'X_593',\n 'X_594',\n 'X_595',\n 'X_596',\n 'X_597',\n 'X_598',\n 'X_599',\n 'X_600',\n 'X_601',\n 'X_602',\n 'X_603',\n 'X_604',\n 'X_605',\n 'X_606',\n 'X_607',\n 'X_608',\n 'X_609',\n 'X_610',\n 'X_611',\n 'X_612',\n 'X_613',\n 'X_614',\n 'X_615',\n 'X_616',\n 'X_618',\n 'X_619',\n 'X_621',\n 'X_622',\n 'X_623',\n 'X_624',\n 'X_625',\n 'X_626',\n 'X_627',\n 'X_628',\n 'X_629',\n 'X_630',\n 'X_632',\n 'X_635',\n 'X_637',\n 'X_643',\n 'X_644',\n 'X_645',\n 'X_646',\n 'X_647',\n 'X_648',\n 'X_649',\n 'X_650',\n 'X_651',\n 'X_652',\n 'X_653',\n 'X_654',\n 'X_655',\n 'X_656',\n 'X_657',\n 'X_658',\n 'X_659',\n 'X_660',\n 'X_661',\n 'X_662',\n 'X_663',\n 'X_664',\n 'X_665',\n 'X_666',\n 'X_667',\n 'X_668',\n 'X_669',\n 'X_670',\n 'X_671',\n 'X_674',\n 'X_675',\n 'X_677',\n 'X_678',\n 'X_679',\n 'X_680',\n 'X_681',\n 'X_682',\n 'X_683',\n 'X_684',\n 'X_685',\n 'X_686',\n 'X_687',\n 'X_688',\n 'X_689',\n 'X_690',\n 'X_693',\n 'X_694',\n 'X_696',\n 'X_697',\n 'X_698',\n 'X_699',\n 'X_700',\n 'X_701',\n 'X_702',\n 'X_703',\n 'X_704',\n 'X_705',\n 'X_706',\n 'X_707',\n 'X_708',\n 'X_709',\n 'X_710',\n 'X_711',\n 'X_712',\n 'X_713',\n 'X_714',\n 'X_716',\n 'X_717',\n 'X_718',\n 'X_719',\n 'X_720',\n 'X_721',\n 'X_722',\n 'X_723',\n 'X_724',\n 'X_725',\n 'X_726',\n 'X_727',\n 'X_728',\n 'X_730',\n 'X_731',\n 'X_733',\n 'X_734',\n 'X_735',\n 'X_736',\n 'X_737',\n 'X_738',\n 'X_739',\n 'X_740',\n 'X_741',\n 'X_742',\n 'X_744',\n 'X_745',\n 'X_746',\n 'X_747',\n 'X_748',\n 'X_750',\n 'X_751',\n 'X_752',\n 'X_753',\n 'X_754',\n 'X_755',\n 'X_756',\n 'X_757',\n 'X_758',\n 'X_762',\n 'X_763',\n 'X_765',\n 'X_766',\n 'X_767',\n 'X_768',\n 'X_769',\n 'X_770',\n 'X_771',\n 'X_772',\n 'X_773',\n 'X_774',\n 'X_775',\n 'X_779',\n 'X_780',\n 'X_781',\n 'X_782',\n 'X_783',\n 'X_784',\n 'X_785',\n 'X_786',\n 'X_787',\n 'X_788',\n 'X_789',\n 'X_790',\n 'X_791',\n 'X_792',\n 'X_793',\n 'X_794',\n 'X_795',\n 'X_796',\n 'X_797',\n 'X_798',\n 'X_799',\n 'X_800',\n 'X_801',\n 'X_802',\n 'X_803',\n 'X_804',\n 'X_805',\n 'X_806',\n 'X_807',\n 'X_808',\n 'X_809',\n 'X_810',\n 'X_811',\n 'X_812',\n 'X_813',\n 'X_814',\n 'X_815',\n 'X_816',\n 'X_817',\n 'X_818',\n 'X_819',\n 'X_820',\n 'X_821',\n 'X_822',\n 'X_823',\n 'X_824',\n 'X_825',\n 'X_826',\n 'X_827',\n 'X_828',\n 'X_829',\n 'X_830',\n 'X_831',\n 'X_832',\n 'X_833',\n 'X_834',\n 'X_835',\n 'X_837',\n 'X_838',\n 'X_839',\n 'X_840',\n 'X_841',\n 'X_842',\n 'X_845',\n 'X_846',\n 'X_847',\n 'X_848',\n 'X_850',\n 'X_851',\n 'X_852',\n 'X_853',\n 'X_854',\n 'X_855',\n 'X_856',\n 'X_857',\n 'X_858',\n 'X_860',\n 'X_861',\n 'X_862',\n 'X_863',\n 'X_864',\n 'X_865',\n 'X_866',\n 'X_867',\n 'X_868',\n 'X_869',\n 'X_870',\n 'X_871',\n 'X_872',\n 'X_873',\n 'X_874',\n 'X_875',\n 'X_876',\n 'X_877',\n 'X_878',\n 'X_879',\n 'X_880',\n 'X_881',\n 'X_882',\n 'X_883',\n 'X_884',\n 'X_885',\n 'X_890',\n 'X_891',\n 'X_892',\n 'X_893',\n 'X_894',\n 'X_895',\n 'X_896',\n 'X_897',\n 'X_898',\n 'X_899',\n 'X_900',\n 'X_901',\n 'X_902',\n 'X_903',\n 'X_904',\n 'X_905',\n 'X_906',\n 'X_907',\n 'X_908',\n 'X_909',\n 'X_910',\n 'X_911',\n 'X_912',\n 'X_913',\n 'X_914',\n 'X_915',\n 'X_916',\n 'X_917',\n 'X_918',\n 'X_919',\n 'X_920',\n 'X_921',\n 'X_922',\n 'X_923',\n 'X_924',\n 'X_925',\n 'X_926',\n 'X_927',\n 'X_928',\n 'X_929',\n 'X_930',\n 'X_931',\n 'X_932',\n 'X_933',\n 'X_934',\n 'X_935',\n 'X_936',\n 'X_937',\n 'X_938',\n 'X_939',\n 'X_940',\n 'X_941',\n 'X_942',\n 'X_943',\n 'X_944',\n 'X_945',\n 'X_946',\n 'X_947',\n 'X_948',\n 'X_949',\n 'X_950',\n 'X_951',\n 'X_952',\n 'X_953',\n 'X_954',\n 'X_955',\n 'X_956',\n 'X_957',\n 'X_958',\n 'X_959',\n 'X_960',\n 'X_961',\n 'X_962',\n 'X_963',\n 'X_964',\n 'X_965',\n 'X_966',\n 'X_967',\n 'X_968',\n 'X_969',\n 'X_970',\n 'X_971',\n 'X_972',\n 'X_973',\n 'X_974',\n 'X_975',\n 'X_976',\n 'X_977',\n 'X_978',\n 'X_979',\n 'X_980',\n 'X_981',\n 'X_982',\n 'X_983',\n 'X_984',\n 'X_985',\n 'X_986',\n 'X_987',\n 'X_988',\n 'X_989',\n 'X_990',\n 'X_991',\n 'X_993',\n 'X_994',\n 'X_995',\n 'X_996',\n 'X_997',\n 'X_998',\n 'X_999',\n 'X_1000',\n 'X_1001',\n 'X_1002',\n 'X_1003',\n 'X_1004',\n 'X_1005',\n 'X_1006',\n 'X_1007',\n 'X_1008',\n 'X_1009',\n 'X_1010',\n 'X_1011',\n 'X_1012',\n 'X_1013',\n 'X_1014',\n 'X_1015',\n 'X_1016',\n 'X_1017',\n 'X_1018',\n 'X_1019',\n 'X_1026',\n 'X_1027',\n 'X_1028',\n 'X_1029',\n 'X_1030',\n 'X_1031',\n 'X_1032',\n 'X_1033',\n 'X_1034',\n 'X_1035',\n 'X_1036',\n 'X_1037',\n 'X_1038',\n 'X_1039',\n 'X_1040',\n 'X_1041',\n 'X_1042',\n 'X_1043',\n 'X_1044',\n 'X_1045',\n 'X_1046',\n 'X_1047',\n 'X_1048',\n 'X_1049',\n 'X_1050',\n 'X_1051',\n 'X_1052',\n 'X_1053',\n 'X_1054',\n 'X_1055',\n 'X_1056',\n 'X_1057',\n 'X_1058',\n 'X_1059',\n 'X_1060',\n 'X_1061',\n 'X_1062',\n 'X_1063',\n 'X_1064',\n 'X_1065',\n 'X_1066',\n 'X_1067',\n 'X_1068',\n 'X_1069',\n 'X_1071',\n 'X_1072',\n 'X_1073',\n 'X_1074',\n 'X_1075',\n 'X_1076',\n 'X_1077',\n 'X_1078',\n 'X_1079',\n 'X_1080',\n 'X_1081',\n 'X_1082',\n 'X_1083',\n 'X_1084',\n 'X_1085',\n 'X_1086',\n 'X_1087',\n 'X_1088',\n 'X_1089',\n 'X_1090',\n 'X_1091',\n 'X_1093',\n 'X_1094',\n 'X_1095',\n ...]"
     },
     "execution_count": 69,
     "metadata": {},
     "output_type": "execute_result"
    }
   ],
   "source": [
    "col= []\n",
    "for i in X.columns:\n",
    "    col.append(i)\n",
    "col"
   ],
   "metadata": {
    "collapsed": false
   }
  },
  {
   "cell_type": "code",
   "execution_count": 29,
   "outputs": [],
   "source": [
    "lr = LinearRegression()\n",
    "\n",
    "imp = IterativeImputer(estimator=lr, verbose=2, max_iter=30, tol=1e-10, imputation_order='roman')"
   ],
   "metadata": {
    "collapsed": false
   }
  },
  {
   "cell_type": "code",
   "execution_count": 56,
   "outputs": [
    {
     "name": "stdout",
     "output_type": "stream",
     "text": [
      "[IterativeImputer] Completing matrix with shape (598, 2594)\n",
      "[IterativeImputer] Ending imputation round 1/30, elapsed time 369.00\n",
      "[IterativeImputer] Change: 50154869.839598164, scaled tolerance: 2020.0 \n",
      "[IterativeImputer] Ending imputation round 2/30, elapsed time 730.88\n",
      "[IterativeImputer] Change: 369176665.6970472, scaled tolerance: 2020.0 \n",
      "[IterativeImputer] Ending imputation round 3/30, elapsed time 1082.87\n",
      "[IterativeImputer] Change: 219184260.15070945, scaled tolerance: 2020.0 \n",
      "[IterativeImputer] Ending imputation round 4/30, elapsed time 1522.10\n",
      "[IterativeImputer] Change: 55401449.72869054, scaled tolerance: 2020.0 \n",
      "[IterativeImputer] Ending imputation round 5/30, elapsed time 1985.47\n",
      "[IterativeImputer] Change: 35236474.993735425, scaled tolerance: 2020.0 \n",
      "[IterativeImputer] Ending imputation round 6/30, elapsed time 2358.66\n",
      "[IterativeImputer] Change: 29990612.721520185, scaled tolerance: 2020.0 \n",
      "[IterativeImputer] Ending imputation round 7/30, elapsed time 2708.47\n",
      "[IterativeImputer] Change: 21284504.0269625, scaled tolerance: 2020.0 \n",
      "[IterativeImputer] Ending imputation round 8/30, elapsed time 3052.64\n",
      "[IterativeImputer] Change: 8980910.160516318, scaled tolerance: 2020.0 \n",
      "[IterativeImputer] Ending imputation round 9/30, elapsed time 3449.06\n",
      "[IterativeImputer] Change: 4803492.5735802315, scaled tolerance: 2020.0 \n",
      "[IterativeImputer] Ending imputation round 10/30, elapsed time 3820.56\n",
      "[IterativeImputer] Change: 3382588.7368684597, scaled tolerance: 2020.0 \n",
      "[IterativeImputer] Ending imputation round 11/30, elapsed time 4189.84\n",
      "[IterativeImputer] Change: 2596145.506555839, scaled tolerance: 2020.0 \n",
      "[IterativeImputer] Ending imputation round 12/30, elapsed time 4601.67\n",
      "[IterativeImputer] Change: 2347990.589771767, scaled tolerance: 2020.0 \n",
      "[IterativeImputer] Ending imputation round 13/30, elapsed time 5114.61\n",
      "[IterativeImputer] Change: 2008534.782232643, scaled tolerance: 2020.0 \n",
      "[IterativeImputer] Ending imputation round 14/30, elapsed time 5640.37\n",
      "[IterativeImputer] Change: 1712829.7935903901, scaled tolerance: 2020.0 \n",
      "[IterativeImputer] Ending imputation round 15/30, elapsed time 6159.18\n",
      "[IterativeImputer] Change: 1666362.9097026903, scaled tolerance: 2020.0 \n",
      "[IterativeImputer] Ending imputation round 16/30, elapsed time 6650.18\n",
      "[IterativeImputer] Change: 1659607.7375128702, scaled tolerance: 2020.0 \n",
      "[IterativeImputer] Ending imputation round 17/30, elapsed time 11632.56\n",
      "[IterativeImputer] Change: 1512851.4220790593, scaled tolerance: 2020.0 \n",
      "[IterativeImputer] Ending imputation round 18/30, elapsed time 12005.63\n",
      "[IterativeImputer] Change: 1390597.7014052942, scaled tolerance: 2020.0 \n",
      "[IterativeImputer] Ending imputation round 19/30, elapsed time 12379.33\n",
      "[IterativeImputer] Change: 1723096.0048888577, scaled tolerance: 2020.0 \n",
      "[IterativeImputer] Ending imputation round 20/30, elapsed time 12806.46\n",
      "[IterativeImputer] Change: 1755900.1669469457, scaled tolerance: 2020.0 \n",
      "[IterativeImputer] Ending imputation round 21/30, elapsed time 13323.30\n",
      "[IterativeImputer] Change: 1894091.1862003177, scaled tolerance: 2020.0 \n",
      "[IterativeImputer] Ending imputation round 22/30, elapsed time 13813.98\n",
      "[IterativeImputer] Change: 1585882.973203454, scaled tolerance: 2020.0 \n",
      "[IterativeImputer] Ending imputation round 23/30, elapsed time 14341.79\n",
      "[IterativeImputer] Change: 2015178.9316886822, scaled tolerance: 2020.0 \n",
      "[IterativeImputer] Ending imputation round 24/30, elapsed time 14873.77\n",
      "[IterativeImputer] Change: 1697290.3528884768, scaled tolerance: 2020.0 \n",
      "[IterativeImputer] Ending imputation round 25/30, elapsed time 18221.02\n",
      "[IterativeImputer] Change: 1835202.7939725518, scaled tolerance: 2020.0 \n",
      "[IterativeImputer] Ending imputation round 26/30, elapsed time 18644.68\n",
      "[IterativeImputer] Change: 1697064.5152647796, scaled tolerance: 2020.0 \n",
      "[IterativeImputer] Ending imputation round 27/30, elapsed time 19974.95\n",
      "[IterativeImputer] Change: 1673332.2101933118, scaled tolerance: 2020.0 \n",
      "[IterativeImputer] Ending imputation round 28/30, elapsed time 20236.62\n",
      "[IterativeImputer] Change: 1863391.5328210704, scaled tolerance: 2020.0 \n",
      "[IterativeImputer] Ending imputation round 29/30, elapsed time 20463.42\n",
      "[IterativeImputer] Change: 1862142.3179065736, scaled tolerance: 2020.0 \n",
      "[IterativeImputer] Ending imputation round 30/30, elapsed time 20660.57\n",
      "[IterativeImputer] Change: 1592977.8415056625, scaled tolerance: 2020.0 \n"
     ]
    },
    {
     "name": "stderr",
     "output_type": "stream",
     "text": [
      "/Users/sola/opt/anaconda3/lib/python3.9/site-packages/sklearn/impute/_iterative.py:699: ConvergenceWarning: [IterativeImputer] Early stopping criterion not reached.\n",
      "  warnings.warn(\n"
     ]
    },
    {
     "name": "stdout",
     "output_type": "stream",
     "text": [
      "[IterativeImputer] Completing matrix with shape (598, 2594)\n",
      "[IterativeImputer] Ending imputation round 1/30, elapsed time 21.16\n",
      "[IterativeImputer] Ending imputation round 2/30, elapsed time 42.22\n",
      "[IterativeImputer] Ending imputation round 3/30, elapsed time 63.18\n",
      "[IterativeImputer] Ending imputation round 4/30, elapsed time 81.66\n",
      "[IterativeImputer] Ending imputation round 5/30, elapsed time 96.06\n",
      "[IterativeImputer] Ending imputation round 6/30, elapsed time 110.51\n",
      "[IterativeImputer] Ending imputation round 7/30, elapsed time 124.75\n",
      "[IterativeImputer] Ending imputation round 8/30, elapsed time 138.96\n",
      "[IterativeImputer] Ending imputation round 9/30, elapsed time 153.21\n",
      "[IterativeImputer] Ending imputation round 10/30, elapsed time 168.86\n",
      "[IterativeImputer] Ending imputation round 11/30, elapsed time 183.16\n",
      "[IterativeImputer] Ending imputation round 12/30, elapsed time 197.89\n",
      "[IterativeImputer] Ending imputation round 13/30, elapsed time 212.21\n",
      "[IterativeImputer] Ending imputation round 14/30, elapsed time 226.50\n",
      "[IterativeImputer] Ending imputation round 15/30, elapsed time 240.85\n",
      "[IterativeImputer] Ending imputation round 16/30, elapsed time 255.27\n",
      "[IterativeImputer] Ending imputation round 17/30, elapsed time 269.59\n",
      "[IterativeImputer] Ending imputation round 18/30, elapsed time 283.97\n",
      "[IterativeImputer] Ending imputation round 19/30, elapsed time 298.28\n",
      "[IterativeImputer] Ending imputation round 20/30, elapsed time 312.68\n",
      "[IterativeImputer] Ending imputation round 21/30, elapsed time 327.13\n",
      "[IterativeImputer] Ending imputation round 22/30, elapsed time 341.71\n",
      "[IterativeImputer] Ending imputation round 23/30, elapsed time 356.34\n",
      "[IterativeImputer] Ending imputation round 24/30, elapsed time 371.09\n",
      "[IterativeImputer] Ending imputation round 25/30, elapsed time 386.19\n",
      "[IterativeImputer] Ending imputation round 26/30, elapsed time 400.98\n",
      "[IterativeImputer] Ending imputation round 27/30, elapsed time 415.81\n",
      "[IterativeImputer] Ending imputation round 28/30, elapsed time 430.59\n",
      "[IterativeImputer] Ending imputation round 29/30, elapsed time 445.76\n",
      "[IterativeImputer] Ending imputation round 30/30, elapsed time 461.06\n"
     ]
    },
    {
     "data": {
      "text/plain": "              0              1     2             3              4     \\\n0   -101073.885924 -126459.506774  45.0  2.610786e+06  144409.799522   \n1    -93982.537361 -136146.735470  45.0  2.698840e+06  153855.969885   \n2   -145008.448216 -149771.506906  45.0  2.457683e+06  137745.594429   \n3    -88953.306065 -130501.391118  45.0  2.677776e+06  152163.825720   \n4   -101423.370846 -124494.248939  45.0  2.579189e+06  143512.594737   \n..             ...            ...   ...           ...            ...   \n593       2.000000      95.000000  45.0  1.000000e+01      50.000000   \n594 -175361.586022  -96350.582898  45.0  1.330724e+06   91088.163707   \n595 -176024.130610  -95854.390635  45.0  1.315332e+06   90445.656683   \n596      40.000000      94.000000  45.0  1.100000e+01      45.000000   \n597      21.000000      87.000000  45.0  1.000000e+01      61.000000   \n\n             5              6     7              8              9     ...  \\\n0    23441.527801 -352273.519410   2.0 -380503.566795  566815.852286  ...   \n1    15147.783422 -340366.305727   2.0 -404786.816950  563415.422995  ...   \n2     5537.871533 -367238.138100   2.0 -260434.022363  590357.092616  ...   \n3    13995.788494 -340803.252972   2.0 -420887.352740  560507.504425  ...   \n4    20077.344738 -346210.082216   2.0 -371722.410734  560553.883361  ...   \n..            ...            ...   ...            ...            ...  ...   \n593     10.000000      52.000000   2.0     468.900000     473.900000  ...   \n594 -59343.652894 -256184.393563   2.0  155050.627908  454919.673288  ...   \n595 -60364.375617 -255237.787934   2.0  160805.053756  453558.881834  ...   \n596     10.000000      31.000000   2.0     505.800000     510.900000  ...   \n597     10.000000      52.000000   2.0     470.600000     474.900000  ...   \n\n           2584        2585        2586        2587         2588         2589  \\\n0    189.000000  383.000000  368.296296  353.000000    39.340000    40.890000   \n1    185.600000  383.000000  367.735849  353.000000    38.890000    42.820000   \n2    165.500000  383.000000  367.320755  353.000000    39.190000    36.650000   \n3    165.800000  384.000000  369.188679  353.000000    37.740000    39.170000   \n4    182.600000  383.000000  367.351852  352.000000    38.700000    41.890000   \n..          ...         ...         ...         ...          ...          ...   \n593 -549.787585  722.299153   -9.847816  906.740543  -783.640675 -5182.549468   \n594  168.700000  384.000000  369.811321  353.000000    49.470000    53.070000   \n595  156.600000  383.000000  367.018868  352.000000    39.793987    55.448454   \n596  416.660270  292.645668  495.253216  347.757727 -1262.992749 -2954.755497   \n597 -313.871086  959.117896  158.300264  831.746872  -192.181440 -6405.249957   \n\n           2590         2591         2592  2593  \n0     32.560000    34.090000    77.770000   1.0  \n1     43.920000    35.340000    72.550000   1.0  \n2     42.470000    36.530000    78.350000   1.0  \n3     52.170000    30.580000    71.780000   1.0  \n4     46.930000    33.090000    76.970000   1.0  \n..          ...          ...          ...   ...  \n593 -758.130997 -4292.407945  -511.225707   1.0  \n594   50.890000    55.100000    66.490000   1.0  \n595   57.959019    47.647600    65.456766   1.0  \n596  523.707209 -1919.832184   459.204029   1.0  \n597 -212.121627 -4990.214682 -1101.685260   1.0  \n\n[598 rows x 2594 columns]",
      "text/html": "<div>\n<style scoped>\n    .dataframe tbody tr th:only-of-type {\n        vertical-align: middle;\n    }\n\n    .dataframe tbody tr th {\n        vertical-align: top;\n    }\n\n    .dataframe thead th {\n        text-align: right;\n    }\n</style>\n<table border=\"1\" class=\"dataframe\">\n  <thead>\n    <tr style=\"text-align: right;\">\n      <th></th>\n      <th>0</th>\n      <th>1</th>\n      <th>2</th>\n      <th>3</th>\n      <th>4</th>\n      <th>5</th>\n      <th>6</th>\n      <th>7</th>\n      <th>8</th>\n      <th>9</th>\n      <th>...</th>\n      <th>2584</th>\n      <th>2585</th>\n      <th>2586</th>\n      <th>2587</th>\n      <th>2588</th>\n      <th>2589</th>\n      <th>2590</th>\n      <th>2591</th>\n      <th>2592</th>\n      <th>2593</th>\n    </tr>\n  </thead>\n  <tbody>\n    <tr>\n      <th>0</th>\n      <td>-101073.885924</td>\n      <td>-126459.506774</td>\n      <td>45.0</td>\n      <td>2.610786e+06</td>\n      <td>144409.799522</td>\n      <td>23441.527801</td>\n      <td>-352273.519410</td>\n      <td>2.0</td>\n      <td>-380503.566795</td>\n      <td>566815.852286</td>\n      <td>...</td>\n      <td>189.000000</td>\n      <td>383.000000</td>\n      <td>368.296296</td>\n      <td>353.000000</td>\n      <td>39.340000</td>\n      <td>40.890000</td>\n      <td>32.560000</td>\n      <td>34.090000</td>\n      <td>77.770000</td>\n      <td>1.0</td>\n    </tr>\n    <tr>\n      <th>1</th>\n      <td>-93982.537361</td>\n      <td>-136146.735470</td>\n      <td>45.0</td>\n      <td>2.698840e+06</td>\n      <td>153855.969885</td>\n      <td>15147.783422</td>\n      <td>-340366.305727</td>\n      <td>2.0</td>\n      <td>-404786.816950</td>\n      <td>563415.422995</td>\n      <td>...</td>\n      <td>185.600000</td>\n      <td>383.000000</td>\n      <td>367.735849</td>\n      <td>353.000000</td>\n      <td>38.890000</td>\n      <td>42.820000</td>\n      <td>43.920000</td>\n      <td>35.340000</td>\n      <td>72.550000</td>\n      <td>1.0</td>\n    </tr>\n    <tr>\n      <th>2</th>\n      <td>-145008.448216</td>\n      <td>-149771.506906</td>\n      <td>45.0</td>\n      <td>2.457683e+06</td>\n      <td>137745.594429</td>\n      <td>5537.871533</td>\n      <td>-367238.138100</td>\n      <td>2.0</td>\n      <td>-260434.022363</td>\n      <td>590357.092616</td>\n      <td>...</td>\n      <td>165.500000</td>\n      <td>383.000000</td>\n      <td>367.320755</td>\n      <td>353.000000</td>\n      <td>39.190000</td>\n      <td>36.650000</td>\n      <td>42.470000</td>\n      <td>36.530000</td>\n      <td>78.350000</td>\n      <td>1.0</td>\n    </tr>\n    <tr>\n      <th>3</th>\n      <td>-88953.306065</td>\n      <td>-130501.391118</td>\n      <td>45.0</td>\n      <td>2.677776e+06</td>\n      <td>152163.825720</td>\n      <td>13995.788494</td>\n      <td>-340803.252972</td>\n      <td>2.0</td>\n      <td>-420887.352740</td>\n      <td>560507.504425</td>\n      <td>...</td>\n      <td>165.800000</td>\n      <td>384.000000</td>\n      <td>369.188679</td>\n      <td>353.000000</td>\n      <td>37.740000</td>\n      <td>39.170000</td>\n      <td>52.170000</td>\n      <td>30.580000</td>\n      <td>71.780000</td>\n      <td>1.0</td>\n    </tr>\n    <tr>\n      <th>4</th>\n      <td>-101423.370846</td>\n      <td>-124494.248939</td>\n      <td>45.0</td>\n      <td>2.579189e+06</td>\n      <td>143512.594737</td>\n      <td>20077.344738</td>\n      <td>-346210.082216</td>\n      <td>2.0</td>\n      <td>-371722.410734</td>\n      <td>560553.883361</td>\n      <td>...</td>\n      <td>182.600000</td>\n      <td>383.000000</td>\n      <td>367.351852</td>\n      <td>352.000000</td>\n      <td>38.700000</td>\n      <td>41.890000</td>\n      <td>46.930000</td>\n      <td>33.090000</td>\n      <td>76.970000</td>\n      <td>1.0</td>\n    </tr>\n    <tr>\n      <th>...</th>\n      <td>...</td>\n      <td>...</td>\n      <td>...</td>\n      <td>...</td>\n      <td>...</td>\n      <td>...</td>\n      <td>...</td>\n      <td>...</td>\n      <td>...</td>\n      <td>...</td>\n      <td>...</td>\n      <td>...</td>\n      <td>...</td>\n      <td>...</td>\n      <td>...</td>\n      <td>...</td>\n      <td>...</td>\n      <td>...</td>\n      <td>...</td>\n      <td>...</td>\n      <td>...</td>\n    </tr>\n    <tr>\n      <th>593</th>\n      <td>2.000000</td>\n      <td>95.000000</td>\n      <td>45.0</td>\n      <td>1.000000e+01</td>\n      <td>50.000000</td>\n      <td>10.000000</td>\n      <td>52.000000</td>\n      <td>2.0</td>\n      <td>468.900000</td>\n      <td>473.900000</td>\n      <td>...</td>\n      <td>-549.787585</td>\n      <td>722.299153</td>\n      <td>-9.847816</td>\n      <td>906.740543</td>\n      <td>-783.640675</td>\n      <td>-5182.549468</td>\n      <td>-758.130997</td>\n      <td>-4292.407945</td>\n      <td>-511.225707</td>\n      <td>1.0</td>\n    </tr>\n    <tr>\n      <th>594</th>\n      <td>-175361.586022</td>\n      <td>-96350.582898</td>\n      <td>45.0</td>\n      <td>1.330724e+06</td>\n      <td>91088.163707</td>\n      <td>-59343.652894</td>\n      <td>-256184.393563</td>\n      <td>2.0</td>\n      <td>155050.627908</td>\n      <td>454919.673288</td>\n      <td>...</td>\n      <td>168.700000</td>\n      <td>384.000000</td>\n      <td>369.811321</td>\n      <td>353.000000</td>\n      <td>49.470000</td>\n      <td>53.070000</td>\n      <td>50.890000</td>\n      <td>55.100000</td>\n      <td>66.490000</td>\n      <td>1.0</td>\n    </tr>\n    <tr>\n      <th>595</th>\n      <td>-176024.130610</td>\n      <td>-95854.390635</td>\n      <td>45.0</td>\n      <td>1.315332e+06</td>\n      <td>90445.656683</td>\n      <td>-60364.375617</td>\n      <td>-255237.787934</td>\n      <td>2.0</td>\n      <td>160805.053756</td>\n      <td>453558.881834</td>\n      <td>...</td>\n      <td>156.600000</td>\n      <td>383.000000</td>\n      <td>367.018868</td>\n      <td>352.000000</td>\n      <td>39.793987</td>\n      <td>55.448454</td>\n      <td>57.959019</td>\n      <td>47.647600</td>\n      <td>65.456766</td>\n      <td>1.0</td>\n    </tr>\n    <tr>\n      <th>596</th>\n      <td>40.000000</td>\n      <td>94.000000</td>\n      <td>45.0</td>\n      <td>1.100000e+01</td>\n      <td>45.000000</td>\n      <td>10.000000</td>\n      <td>31.000000</td>\n      <td>2.0</td>\n      <td>505.800000</td>\n      <td>510.900000</td>\n      <td>...</td>\n      <td>416.660270</td>\n      <td>292.645668</td>\n      <td>495.253216</td>\n      <td>347.757727</td>\n      <td>-1262.992749</td>\n      <td>-2954.755497</td>\n      <td>523.707209</td>\n      <td>-1919.832184</td>\n      <td>459.204029</td>\n      <td>1.0</td>\n    </tr>\n    <tr>\n      <th>597</th>\n      <td>21.000000</td>\n      <td>87.000000</td>\n      <td>45.0</td>\n      <td>1.000000e+01</td>\n      <td>61.000000</td>\n      <td>10.000000</td>\n      <td>52.000000</td>\n      <td>2.0</td>\n      <td>470.600000</td>\n      <td>474.900000</td>\n      <td>...</td>\n      <td>-313.871086</td>\n      <td>959.117896</td>\n      <td>158.300264</td>\n      <td>831.746872</td>\n      <td>-192.181440</td>\n      <td>-6405.249957</td>\n      <td>-212.121627</td>\n      <td>-4990.214682</td>\n      <td>-1101.685260</td>\n      <td>1.0</td>\n    </tr>\n  </tbody>\n</table>\n<p>598 rows × 2594 columns</p>\n</div>"
     },
     "execution_count": 56,
     "metadata": {},
     "output_type": "execute_result"
    }
   ],
   "source": [
    "imp.fit(X)\n",
    "\n",
    "c = imp.transform(X)\n",
    "d = pd.DataFrame(c)\n",
    "d"
   ],
   "metadata": {
    "collapsed": false
   }
  },
  {
   "cell_type": "code",
   "execution_count": 61,
   "outputs": [
    {
     "data": {
      "text/plain": "              0              1     2             3              4     \\\n0   -101073.885924 -126459.506774  45.0  2.610786e+06  144409.799522   \n1    -93982.537361 -136146.735470  45.0  2.698840e+06  153855.969885   \n2   -145008.448216 -149771.506906  45.0  2.457683e+06  137745.594429   \n3    -88953.306065 -130501.391118  45.0  2.677776e+06  152163.825720   \n4   -101423.370846 -124494.248939  45.0  2.579189e+06  143512.594737   \n..             ...            ...   ...           ...            ...   \n593       2.000000      95.000000  45.0  1.000000e+01      50.000000   \n594 -175361.586022  -96350.582898  45.0  1.330724e+06   91088.163707   \n595 -176024.130610  -95854.390635  45.0  1.315332e+06   90445.656683   \n596      40.000000      94.000000  45.0  1.100000e+01      45.000000   \n597      21.000000      87.000000  45.0  1.000000e+01      61.000000   \n\n             5              6     7              8              9     ...  \\\n0    23441.527801 -352273.519410   2.0 -380503.566795  566815.852286  ...   \n1    15147.783422 -340366.305727   2.0 -404786.816950  563415.422995  ...   \n2     5537.871533 -367238.138100   2.0 -260434.022363  590357.092616  ...   \n3    13995.788494 -340803.252972   2.0 -420887.352740  560507.504425  ...   \n4    20077.344738 -346210.082216   2.0 -371722.410734  560553.883361  ...   \n..            ...            ...   ...            ...            ...  ...   \n593     10.000000      52.000000   2.0     468.900000     473.900000  ...   \n594 -59343.652894 -256184.393563   2.0  155050.627908  454919.673288  ...   \n595 -60364.375617 -255237.787934   2.0  160805.053756  453558.881834  ...   \n596     10.000000      31.000000   2.0     505.800000     510.900000  ...   \n597     10.000000      52.000000   2.0     470.600000     474.900000  ...   \n\n           2584        2585        2586        2587         2588         2589  \\\n0    189.000000  383.000000  368.296296  353.000000    39.340000    40.890000   \n1    185.600000  383.000000  367.735849  353.000000    38.890000    42.820000   \n2    165.500000  383.000000  367.320755  353.000000    39.190000    36.650000   \n3    165.800000  384.000000  369.188679  353.000000    37.740000    39.170000   \n4    182.600000  383.000000  367.351852  352.000000    38.700000    41.890000   \n..          ...         ...         ...         ...          ...          ...   \n593 -549.787585  722.299153   -9.847816  906.740543  -783.640675 -5182.549468   \n594  168.700000  384.000000  369.811321  353.000000    49.470000    53.070000   \n595  156.600000  383.000000  367.018868  352.000000    39.793987    55.448454   \n596  416.660270  292.645668  495.253216  347.757727 -1262.992749 -2954.755497   \n597 -313.871086  959.117896  158.300264  831.746872  -192.181440 -6405.249957   \n\n           2590         2591         2592  2593  \n0     32.560000    34.090000    77.770000   1.0  \n1     43.920000    35.340000    72.550000   1.0  \n2     42.470000    36.530000    78.350000   1.0  \n3     52.170000    30.580000    71.780000   1.0  \n4     46.930000    33.090000    76.970000   1.0  \n..          ...          ...          ...   ...  \n593 -758.130997 -4292.407945  -511.225707   1.0  \n594   50.890000    55.100000    66.490000   1.0  \n595   57.959019    47.647600    65.456766   1.0  \n596  523.707209 -1919.832184   459.204029   1.0  \n597 -212.121627 -4990.214682 -1101.685260   1.0  \n\n[598 rows x 2594 columns]",
      "text/html": "<div>\n<style scoped>\n    .dataframe tbody tr th:only-of-type {\n        vertical-align: middle;\n    }\n\n    .dataframe tbody tr th {\n        vertical-align: top;\n    }\n\n    .dataframe thead th {\n        text-align: right;\n    }\n</style>\n<table border=\"1\" class=\"dataframe\">\n  <thead>\n    <tr style=\"text-align: right;\">\n      <th></th>\n      <th>0</th>\n      <th>1</th>\n      <th>2</th>\n      <th>3</th>\n      <th>4</th>\n      <th>5</th>\n      <th>6</th>\n      <th>7</th>\n      <th>8</th>\n      <th>9</th>\n      <th>...</th>\n      <th>2584</th>\n      <th>2585</th>\n      <th>2586</th>\n      <th>2587</th>\n      <th>2588</th>\n      <th>2589</th>\n      <th>2590</th>\n      <th>2591</th>\n      <th>2592</th>\n      <th>2593</th>\n    </tr>\n  </thead>\n  <tbody>\n    <tr>\n      <th>0</th>\n      <td>-101073.885924</td>\n      <td>-126459.506774</td>\n      <td>45.0</td>\n      <td>2.610786e+06</td>\n      <td>144409.799522</td>\n      <td>23441.527801</td>\n      <td>-352273.519410</td>\n      <td>2.0</td>\n      <td>-380503.566795</td>\n      <td>566815.852286</td>\n      <td>...</td>\n      <td>189.000000</td>\n      <td>383.000000</td>\n      <td>368.296296</td>\n      <td>353.000000</td>\n      <td>39.340000</td>\n      <td>40.890000</td>\n      <td>32.560000</td>\n      <td>34.090000</td>\n      <td>77.770000</td>\n      <td>1.0</td>\n    </tr>\n    <tr>\n      <th>1</th>\n      <td>-93982.537361</td>\n      <td>-136146.735470</td>\n      <td>45.0</td>\n      <td>2.698840e+06</td>\n      <td>153855.969885</td>\n      <td>15147.783422</td>\n      <td>-340366.305727</td>\n      <td>2.0</td>\n      <td>-404786.816950</td>\n      <td>563415.422995</td>\n      <td>...</td>\n      <td>185.600000</td>\n      <td>383.000000</td>\n      <td>367.735849</td>\n      <td>353.000000</td>\n      <td>38.890000</td>\n      <td>42.820000</td>\n      <td>43.920000</td>\n      <td>35.340000</td>\n      <td>72.550000</td>\n      <td>1.0</td>\n    </tr>\n    <tr>\n      <th>2</th>\n      <td>-145008.448216</td>\n      <td>-149771.506906</td>\n      <td>45.0</td>\n      <td>2.457683e+06</td>\n      <td>137745.594429</td>\n      <td>5537.871533</td>\n      <td>-367238.138100</td>\n      <td>2.0</td>\n      <td>-260434.022363</td>\n      <td>590357.092616</td>\n      <td>...</td>\n      <td>165.500000</td>\n      <td>383.000000</td>\n      <td>367.320755</td>\n      <td>353.000000</td>\n      <td>39.190000</td>\n      <td>36.650000</td>\n      <td>42.470000</td>\n      <td>36.530000</td>\n      <td>78.350000</td>\n      <td>1.0</td>\n    </tr>\n    <tr>\n      <th>3</th>\n      <td>-88953.306065</td>\n      <td>-130501.391118</td>\n      <td>45.0</td>\n      <td>2.677776e+06</td>\n      <td>152163.825720</td>\n      <td>13995.788494</td>\n      <td>-340803.252972</td>\n      <td>2.0</td>\n      <td>-420887.352740</td>\n      <td>560507.504425</td>\n      <td>...</td>\n      <td>165.800000</td>\n      <td>384.000000</td>\n      <td>369.188679</td>\n      <td>353.000000</td>\n      <td>37.740000</td>\n      <td>39.170000</td>\n      <td>52.170000</td>\n      <td>30.580000</td>\n      <td>71.780000</td>\n      <td>1.0</td>\n    </tr>\n    <tr>\n      <th>4</th>\n      <td>-101423.370846</td>\n      <td>-124494.248939</td>\n      <td>45.0</td>\n      <td>2.579189e+06</td>\n      <td>143512.594737</td>\n      <td>20077.344738</td>\n      <td>-346210.082216</td>\n      <td>2.0</td>\n      <td>-371722.410734</td>\n      <td>560553.883361</td>\n      <td>...</td>\n      <td>182.600000</td>\n      <td>383.000000</td>\n      <td>367.351852</td>\n      <td>352.000000</td>\n      <td>38.700000</td>\n      <td>41.890000</td>\n      <td>46.930000</td>\n      <td>33.090000</td>\n      <td>76.970000</td>\n      <td>1.0</td>\n    </tr>\n    <tr>\n      <th>...</th>\n      <td>...</td>\n      <td>...</td>\n      <td>...</td>\n      <td>...</td>\n      <td>...</td>\n      <td>...</td>\n      <td>...</td>\n      <td>...</td>\n      <td>...</td>\n      <td>...</td>\n      <td>...</td>\n      <td>...</td>\n      <td>...</td>\n      <td>...</td>\n      <td>...</td>\n      <td>...</td>\n      <td>...</td>\n      <td>...</td>\n      <td>...</td>\n      <td>...</td>\n      <td>...</td>\n    </tr>\n    <tr>\n      <th>593</th>\n      <td>2.000000</td>\n      <td>95.000000</td>\n      <td>45.0</td>\n      <td>1.000000e+01</td>\n      <td>50.000000</td>\n      <td>10.000000</td>\n      <td>52.000000</td>\n      <td>2.0</td>\n      <td>468.900000</td>\n      <td>473.900000</td>\n      <td>...</td>\n      <td>-549.787585</td>\n      <td>722.299153</td>\n      <td>-9.847816</td>\n      <td>906.740543</td>\n      <td>-783.640675</td>\n      <td>-5182.549468</td>\n      <td>-758.130997</td>\n      <td>-4292.407945</td>\n      <td>-511.225707</td>\n      <td>1.0</td>\n    </tr>\n    <tr>\n      <th>594</th>\n      <td>-175361.586022</td>\n      <td>-96350.582898</td>\n      <td>45.0</td>\n      <td>1.330724e+06</td>\n      <td>91088.163707</td>\n      <td>-59343.652894</td>\n      <td>-256184.393563</td>\n      <td>2.0</td>\n      <td>155050.627908</td>\n      <td>454919.673288</td>\n      <td>...</td>\n      <td>168.700000</td>\n      <td>384.000000</td>\n      <td>369.811321</td>\n      <td>353.000000</td>\n      <td>49.470000</td>\n      <td>53.070000</td>\n      <td>50.890000</td>\n      <td>55.100000</td>\n      <td>66.490000</td>\n      <td>1.0</td>\n    </tr>\n    <tr>\n      <th>595</th>\n      <td>-176024.130610</td>\n      <td>-95854.390635</td>\n      <td>45.0</td>\n      <td>1.315332e+06</td>\n      <td>90445.656683</td>\n      <td>-60364.375617</td>\n      <td>-255237.787934</td>\n      <td>2.0</td>\n      <td>160805.053756</td>\n      <td>453558.881834</td>\n      <td>...</td>\n      <td>156.600000</td>\n      <td>383.000000</td>\n      <td>367.018868</td>\n      <td>352.000000</td>\n      <td>39.793987</td>\n      <td>55.448454</td>\n      <td>57.959019</td>\n      <td>47.647600</td>\n      <td>65.456766</td>\n      <td>1.0</td>\n    </tr>\n    <tr>\n      <th>596</th>\n      <td>40.000000</td>\n      <td>94.000000</td>\n      <td>45.0</td>\n      <td>1.100000e+01</td>\n      <td>45.000000</td>\n      <td>10.000000</td>\n      <td>31.000000</td>\n      <td>2.0</td>\n      <td>505.800000</td>\n      <td>510.900000</td>\n      <td>...</td>\n      <td>416.660270</td>\n      <td>292.645668</td>\n      <td>495.253216</td>\n      <td>347.757727</td>\n      <td>-1262.992749</td>\n      <td>-2954.755497</td>\n      <td>523.707209</td>\n      <td>-1919.832184</td>\n      <td>459.204029</td>\n      <td>1.0</td>\n    </tr>\n    <tr>\n      <th>597</th>\n      <td>21.000000</td>\n      <td>87.000000</td>\n      <td>45.0</td>\n      <td>1.000000e+01</td>\n      <td>61.000000</td>\n      <td>10.000000</td>\n      <td>52.000000</td>\n      <td>2.0</td>\n      <td>470.600000</td>\n      <td>474.900000</td>\n      <td>...</td>\n      <td>-313.871086</td>\n      <td>959.117896</td>\n      <td>158.300264</td>\n      <td>831.746872</td>\n      <td>-192.181440</td>\n      <td>-6405.249957</td>\n      <td>-212.121627</td>\n      <td>-4990.214682</td>\n      <td>-1101.685260</td>\n      <td>1.0</td>\n    </tr>\n  </tbody>\n</table>\n<p>598 rows × 2594 columns</p>\n</div>"
     },
     "execution_count": 61,
     "metadata": {},
     "output_type": "execute_result"
    }
   ],
   "source": [
    "d"
   ],
   "metadata": {
    "collapsed": false
   }
  },
  {
   "cell_type": "code",
   "execution_count": 70,
   "outputs": [
    {
     "ename": "ValueError",
     "evalue": "Length mismatch: Expected axis has 2594 elements, new values have 2676 elements",
     "output_type": "error",
     "traceback": [
      "\u001B[0;31m---------------------------------------------------------------------------\u001B[0m",
      "\u001B[0;31mValueError\u001B[0m                                Traceback (most recent call last)",
      "\u001B[0;32m/var/folders/js/792bsrvx24lcg4nrdgy7k5br0000gn/T/ipykernel_30643/3725502150.py\u001B[0m in \u001B[0;36m<module>\u001B[0;34m\u001B[0m\n\u001B[1;32m      1\u001B[0m \u001B[0;31m# 컬럼명 넣어주기\u001B[0m\u001B[0;34m\u001B[0m\u001B[0;34m\u001B[0m\u001B[0m\n\u001B[0;32m----> 2\u001B[0;31m \u001B[0md\u001B[0m\u001B[0;34m.\u001B[0m\u001B[0mcolumns\u001B[0m\u001B[0;34m=\u001B[0m\u001B[0mcol\u001B[0m\u001B[0;34m\u001B[0m\u001B[0;34m\u001B[0m\u001B[0m\n\u001B[0m\u001B[1;32m      3\u001B[0m \u001B[0md\u001B[0m\u001B[0;34m\u001B[0m\u001B[0;34m\u001B[0m\u001B[0m\n",
      "\u001B[0;32m~/opt/anaconda3/lib/python3.9/site-packages/pandas/core/generic.py\u001B[0m in \u001B[0;36m__setattr__\u001B[0;34m(self, name, value)\u001B[0m\n\u001B[1;32m   5586\u001B[0m         \u001B[0;32mtry\u001B[0m\u001B[0;34m:\u001B[0m\u001B[0;34m\u001B[0m\u001B[0;34m\u001B[0m\u001B[0m\n\u001B[1;32m   5587\u001B[0m             \u001B[0mobject\u001B[0m\u001B[0;34m.\u001B[0m\u001B[0m__getattribute__\u001B[0m\u001B[0;34m(\u001B[0m\u001B[0mself\u001B[0m\u001B[0;34m,\u001B[0m \u001B[0mname\u001B[0m\u001B[0;34m)\u001B[0m\u001B[0;34m\u001B[0m\u001B[0;34m\u001B[0m\u001B[0m\n\u001B[0;32m-> 5588\u001B[0;31m             \u001B[0;32mreturn\u001B[0m \u001B[0mobject\u001B[0m\u001B[0;34m.\u001B[0m\u001B[0m__setattr__\u001B[0m\u001B[0;34m(\u001B[0m\u001B[0mself\u001B[0m\u001B[0;34m,\u001B[0m \u001B[0mname\u001B[0m\u001B[0;34m,\u001B[0m \u001B[0mvalue\u001B[0m\u001B[0;34m)\u001B[0m\u001B[0;34m\u001B[0m\u001B[0;34m\u001B[0m\u001B[0m\n\u001B[0m\u001B[1;32m   5589\u001B[0m         \u001B[0;32mexcept\u001B[0m \u001B[0mAttributeError\u001B[0m\u001B[0;34m:\u001B[0m\u001B[0;34m\u001B[0m\u001B[0;34m\u001B[0m\u001B[0m\n\u001B[1;32m   5590\u001B[0m             \u001B[0;32mpass\u001B[0m\u001B[0;34m\u001B[0m\u001B[0;34m\u001B[0m\u001B[0m\n",
      "\u001B[0;32m~/opt/anaconda3/lib/python3.9/site-packages/pandas/_libs/properties.pyx\u001B[0m in \u001B[0;36mpandas._libs.properties.AxisProperty.__set__\u001B[0;34m()\u001B[0m\n",
      "\u001B[0;32m~/opt/anaconda3/lib/python3.9/site-packages/pandas/core/generic.py\u001B[0m in \u001B[0;36m_set_axis\u001B[0;34m(self, axis, labels)\u001B[0m\n\u001B[1;32m    767\u001B[0m     \u001B[0;32mdef\u001B[0m \u001B[0m_set_axis\u001B[0m\u001B[0;34m(\u001B[0m\u001B[0mself\u001B[0m\u001B[0;34m,\u001B[0m \u001B[0maxis\u001B[0m\u001B[0;34m:\u001B[0m \u001B[0mint\u001B[0m\u001B[0;34m,\u001B[0m \u001B[0mlabels\u001B[0m\u001B[0;34m:\u001B[0m \u001B[0mIndex\u001B[0m\u001B[0;34m)\u001B[0m \u001B[0;34m->\u001B[0m \u001B[0;32mNone\u001B[0m\u001B[0;34m:\u001B[0m\u001B[0;34m\u001B[0m\u001B[0;34m\u001B[0m\u001B[0m\n\u001B[1;32m    768\u001B[0m         \u001B[0mlabels\u001B[0m \u001B[0;34m=\u001B[0m \u001B[0mensure_index\u001B[0m\u001B[0;34m(\u001B[0m\u001B[0mlabels\u001B[0m\u001B[0;34m)\u001B[0m\u001B[0;34m\u001B[0m\u001B[0;34m\u001B[0m\u001B[0m\n\u001B[0;32m--> 769\u001B[0;31m         \u001B[0mself\u001B[0m\u001B[0;34m.\u001B[0m\u001B[0m_mgr\u001B[0m\u001B[0;34m.\u001B[0m\u001B[0mset_axis\u001B[0m\u001B[0;34m(\u001B[0m\u001B[0maxis\u001B[0m\u001B[0;34m,\u001B[0m \u001B[0mlabels\u001B[0m\u001B[0;34m)\u001B[0m\u001B[0;34m\u001B[0m\u001B[0;34m\u001B[0m\u001B[0m\n\u001B[0m\u001B[1;32m    770\u001B[0m         \u001B[0mself\u001B[0m\u001B[0;34m.\u001B[0m\u001B[0m_clear_item_cache\u001B[0m\u001B[0;34m(\u001B[0m\u001B[0;34m)\u001B[0m\u001B[0;34m\u001B[0m\u001B[0;34m\u001B[0m\u001B[0m\n\u001B[1;32m    771\u001B[0m \u001B[0;34m\u001B[0m\u001B[0m\n",
      "\u001B[0;32m~/opt/anaconda3/lib/python3.9/site-packages/pandas/core/internals/managers.py\u001B[0m in \u001B[0;36mset_axis\u001B[0;34m(self, axis, new_labels)\u001B[0m\n\u001B[1;32m    212\u001B[0m     \u001B[0;32mdef\u001B[0m \u001B[0mset_axis\u001B[0m\u001B[0;34m(\u001B[0m\u001B[0mself\u001B[0m\u001B[0;34m,\u001B[0m \u001B[0maxis\u001B[0m\u001B[0;34m:\u001B[0m \u001B[0mint\u001B[0m\u001B[0;34m,\u001B[0m \u001B[0mnew_labels\u001B[0m\u001B[0;34m:\u001B[0m \u001B[0mIndex\u001B[0m\u001B[0;34m)\u001B[0m \u001B[0;34m->\u001B[0m \u001B[0;32mNone\u001B[0m\u001B[0;34m:\u001B[0m\u001B[0;34m\u001B[0m\u001B[0;34m\u001B[0m\u001B[0m\n\u001B[1;32m    213\u001B[0m         \u001B[0;31m# Caller is responsible for ensuring we have an Index object.\u001B[0m\u001B[0;34m\u001B[0m\u001B[0;34m\u001B[0m\u001B[0m\n\u001B[0;32m--> 214\u001B[0;31m         \u001B[0mself\u001B[0m\u001B[0;34m.\u001B[0m\u001B[0m_validate_set_axis\u001B[0m\u001B[0;34m(\u001B[0m\u001B[0maxis\u001B[0m\u001B[0;34m,\u001B[0m \u001B[0mnew_labels\u001B[0m\u001B[0;34m)\u001B[0m\u001B[0;34m\u001B[0m\u001B[0;34m\u001B[0m\u001B[0m\n\u001B[0m\u001B[1;32m    215\u001B[0m         \u001B[0mself\u001B[0m\u001B[0;34m.\u001B[0m\u001B[0maxes\u001B[0m\u001B[0;34m[\u001B[0m\u001B[0maxis\u001B[0m\u001B[0;34m]\u001B[0m \u001B[0;34m=\u001B[0m \u001B[0mnew_labels\u001B[0m\u001B[0;34m\u001B[0m\u001B[0;34m\u001B[0m\u001B[0m\n\u001B[1;32m    216\u001B[0m \u001B[0;34m\u001B[0m\u001B[0m\n",
      "\u001B[0;32m~/opt/anaconda3/lib/python3.9/site-packages/pandas/core/internals/base.py\u001B[0m in \u001B[0;36m_validate_set_axis\u001B[0;34m(self, axis, new_labels)\u001B[0m\n\u001B[1;32m     67\u001B[0m \u001B[0;34m\u001B[0m\u001B[0m\n\u001B[1;32m     68\u001B[0m         \u001B[0;32melif\u001B[0m \u001B[0mnew_len\u001B[0m \u001B[0;34m!=\u001B[0m \u001B[0mold_len\u001B[0m\u001B[0;34m:\u001B[0m\u001B[0;34m\u001B[0m\u001B[0;34m\u001B[0m\u001B[0m\n\u001B[0;32m---> 69\u001B[0;31m             raise ValueError(\n\u001B[0m\u001B[1;32m     70\u001B[0m                 \u001B[0;34mf\"Length mismatch: Expected axis has {old_len} elements, new \"\u001B[0m\u001B[0;34m\u001B[0m\u001B[0;34m\u001B[0m\u001B[0m\n\u001B[1;32m     71\u001B[0m                 \u001B[0;34mf\"values have {new_len} elements\"\u001B[0m\u001B[0;34m\u001B[0m\u001B[0;34m\u001B[0m\u001B[0m\n",
      "\u001B[0;31mValueError\u001B[0m: Length mismatch: Expected axis has 2594 elements, new values have 2676 elements"
     ]
    }
   ],
   "source": [
    "# 컬럼명 넣어주기\n",
    "d.columns=col\n",
    "d"
   ],
   "metadata": {
    "collapsed": false
   }
  },
  {
   "cell_type": "code",
   "execution_count": 72,
   "outputs": [],
   "source": [
    "d.to_csv('/Users/sola/Downloads/open/mice.csv')"
   ],
   "metadata": {
    "collapsed": false
   }
  },
  {
   "cell_type": "code",
   "execution_count": 57,
   "outputs": [],
   "source": [
    "pd.set_option('display.max_seq_items', None)"
   ],
   "metadata": {
    "collapsed": false
   }
  },
  {
   "cell_type": "code",
   "execution_count": 60,
   "outputs": [
    {
     "name": "stdout",
     "output_type": "stream",
     "text": [
      "[IterativeImputer] Completing matrix with shape (310, 2594)\n",
      "[IterativeImputer] Ending imputation round 1/30, elapsed time 4.34\n",
      "[IterativeImputer] Ending imputation round 2/30, elapsed time 8.42\n",
      "[IterativeImputer] Ending imputation round 3/30, elapsed time 12.54\n",
      "[IterativeImputer] Ending imputation round 4/30, elapsed time 16.70\n",
      "[IterativeImputer] Ending imputation round 5/30, elapsed time 20.79\n",
      "[IterativeImputer] Ending imputation round 6/30, elapsed time 24.88\n",
      "[IterativeImputer] Ending imputation round 7/30, elapsed time 28.96\n",
      "[IterativeImputer] Ending imputation round 8/30, elapsed time 33.29\n",
      "[IterativeImputer] Ending imputation round 9/30, elapsed time 37.42\n",
      "[IterativeImputer] Ending imputation round 10/30, elapsed time 41.51\n",
      "[IterativeImputer] Ending imputation round 11/30, elapsed time 45.70\n",
      "[IterativeImputer] Ending imputation round 12/30, elapsed time 49.87\n",
      "[IterativeImputer] Ending imputation round 13/30, elapsed time 54.10\n",
      "[IterativeImputer] Ending imputation round 14/30, elapsed time 58.31\n",
      "[IterativeImputer] Ending imputation round 15/30, elapsed time 62.84\n",
      "[IterativeImputer] Ending imputation round 16/30, elapsed time 67.08\n",
      "[IterativeImputer] Ending imputation round 17/30, elapsed time 71.38\n",
      "[IterativeImputer] Ending imputation round 18/30, elapsed time 75.63\n",
      "[IterativeImputer] Ending imputation round 19/30, elapsed time 79.75\n",
      "[IterativeImputer] Ending imputation round 20/30, elapsed time 83.94\n",
      "[IterativeImputer] Ending imputation round 21/30, elapsed time 88.24\n",
      "[IterativeImputer] Ending imputation round 22/30, elapsed time 92.44\n",
      "[IterativeImputer] Ending imputation round 23/30, elapsed time 96.62\n",
      "[IterativeImputer] Ending imputation round 24/30, elapsed time 100.77\n",
      "[IterativeImputer] Ending imputation round 25/30, elapsed time 104.98\n",
      "[IterativeImputer] Ending imputation round 26/30, elapsed time 109.21\n",
      "[IterativeImputer] Ending imputation round 27/30, elapsed time 113.33\n",
      "[IterativeImputer] Ending imputation round 28/30, elapsed time 117.51\n",
      "[IterativeImputer] Ending imputation round 29/30, elapsed time 121.71\n",
      "[IterativeImputer] Ending imputation round 30/30, elapsed time 125.96\n"
     ]
    },
    {
     "data": {
      "text/plain": "             0            1     2             3              4     \\\n0        2.000000    94.000000  45.0  1.000000e+01      51.000000   \n1        2.000000    93.000000  45.0  1.100000e+01      45.000000   \n2        2.000000    95.000000  45.0  1.100000e+01      45.000000   \n3   -99420.477882  -892.821468  45.0 -1.693792e+06 -215732.357731   \n4   -98449.500331 -5950.902850  45.0 -1.621617e+06 -206557.716488   \n..            ...          ...   ...           ...            ...   \n305      2.000000    91.000000  45.0  1.000000e+01      51.000000   \n306      2.000000    96.000000  45.0  1.100000e+01      45.000000   \n307      2.000000    91.000000  45.0  1.000000e+01      50.000000   \n308      2.000000    95.000000  45.0  1.000000e+01      51.000000   \n309      2.000000    87.000000  45.0  1.000000e+01      51.000000   \n\n             5              6     7              8              9     ...  \\\n0       10.000000      52.000000   2.0     469.600000     474.400000  ...   \n1       10.000000      31.000000   2.0     506.600000     511.100000  ...   \n2       10.000000      31.000000   2.0     506.600000     511.400000  ...   \n3    43490.530858 -777850.069363   2.0  969640.431313  763128.393514  ...   \n4    29764.265078 -758514.948247   2.0  930586.040914  760474.959796  ...   \n..            ...            ...   ...            ...            ...  ...   \n305     10.000000      52.000000   2.0     502.500000     511.900000  ...   \n306     10.000000      31.000000   2.0     513.700000     518.900000  ...   \n307     10.000000      52.000000   2.0     502.800000     511.600000  ...   \n308     10.000000      52.000000   2.0     503.200000     512.600000  ...   \n309     10.000000      52.000000   2.0     503.300000     512.100000  ...   \n\n            2584         2585        2586        2587          2588  \\\n0    -497.028525   757.312866   19.239042  884.313569   -741.925452   \n1     422.812553   296.853356  493.819381  345.719720  -1272.311010   \n2     426.274443   298.176123  495.009008  347.092716  -1277.168538   \n3     183.800000   467.000000  444.192308  423.000000  -4002.077115   \n4     179.700000   465.000000  443.211539  423.000000  -4272.395352   \n..           ...          ...         ...         ...           ...   \n305 -3260.578517 -2583.993992 -743.588754  475.942073  22048.633302   \n306   515.047566   139.049009  442.324601  421.187693  -2632.678274   \n307 -3245.155796 -2596.441114 -739.962846  465.147586  21970.115597   \n308 -3218.789570 -2584.637137 -718.674291  448.309267  22108.480967   \n309 -3282.398963 -2646.684438 -761.120149  469.247001  21995.570180   \n\n             2589          2590          2591          2592  2593  \n0    -5207.662999   -698.293902  -4292.352750   -545.280854   1.0  \n1    -2910.341973    520.431600  -1892.966778    471.991959   1.0  \n2    -2893.355664    522.553263  -1882.158354    477.717247   1.0  \n3    -4169.040606  -6054.596588   2149.008876   -617.369717   1.0  \n4    -2244.801906  -5813.826310   2888.858492    132.058405   1.0  \n..            ...           ...           ...           ...   ...  \n305 -87626.753127  19021.370599 -50799.669262 -25717.776012   1.0  \n306   1677.671778   -258.779833    931.009559   2085.485812   1.0  \n307 -87383.810306  18982.384032 -50641.208471 -25629.259298   1.0  \n308 -87787.451021  19111.127198 -50860.906435 -25773.458249   1.0  \n309 -87605.740949  19003.783758 -50756.629728 -25663.521447   1.0  \n\n[310 rows x 2594 columns]",
      "text/html": "<div>\n<style scoped>\n    .dataframe tbody tr th:only-of-type {\n        vertical-align: middle;\n    }\n\n    .dataframe tbody tr th {\n        vertical-align: top;\n    }\n\n    .dataframe thead th {\n        text-align: right;\n    }\n</style>\n<table border=\"1\" class=\"dataframe\">\n  <thead>\n    <tr style=\"text-align: right;\">\n      <th></th>\n      <th>0</th>\n      <th>1</th>\n      <th>2</th>\n      <th>3</th>\n      <th>4</th>\n      <th>5</th>\n      <th>6</th>\n      <th>7</th>\n      <th>8</th>\n      <th>9</th>\n      <th>...</th>\n      <th>2584</th>\n      <th>2585</th>\n      <th>2586</th>\n      <th>2587</th>\n      <th>2588</th>\n      <th>2589</th>\n      <th>2590</th>\n      <th>2591</th>\n      <th>2592</th>\n      <th>2593</th>\n    </tr>\n  </thead>\n  <tbody>\n    <tr>\n      <th>0</th>\n      <td>2.000000</td>\n      <td>94.000000</td>\n      <td>45.0</td>\n      <td>1.000000e+01</td>\n      <td>51.000000</td>\n      <td>10.000000</td>\n      <td>52.000000</td>\n      <td>2.0</td>\n      <td>469.600000</td>\n      <td>474.400000</td>\n      <td>...</td>\n      <td>-497.028525</td>\n      <td>757.312866</td>\n      <td>19.239042</td>\n      <td>884.313569</td>\n      <td>-741.925452</td>\n      <td>-5207.662999</td>\n      <td>-698.293902</td>\n      <td>-4292.352750</td>\n      <td>-545.280854</td>\n      <td>1.0</td>\n    </tr>\n    <tr>\n      <th>1</th>\n      <td>2.000000</td>\n      <td>93.000000</td>\n      <td>45.0</td>\n      <td>1.100000e+01</td>\n      <td>45.000000</td>\n      <td>10.000000</td>\n      <td>31.000000</td>\n      <td>2.0</td>\n      <td>506.600000</td>\n      <td>511.100000</td>\n      <td>...</td>\n      <td>422.812553</td>\n      <td>296.853356</td>\n      <td>493.819381</td>\n      <td>345.719720</td>\n      <td>-1272.311010</td>\n      <td>-2910.341973</td>\n      <td>520.431600</td>\n      <td>-1892.966778</td>\n      <td>471.991959</td>\n      <td>1.0</td>\n    </tr>\n    <tr>\n      <th>2</th>\n      <td>2.000000</td>\n      <td>95.000000</td>\n      <td>45.0</td>\n      <td>1.100000e+01</td>\n      <td>45.000000</td>\n      <td>10.000000</td>\n      <td>31.000000</td>\n      <td>2.0</td>\n      <td>506.600000</td>\n      <td>511.400000</td>\n      <td>...</td>\n      <td>426.274443</td>\n      <td>298.176123</td>\n      <td>495.009008</td>\n      <td>347.092716</td>\n      <td>-1277.168538</td>\n      <td>-2893.355664</td>\n      <td>522.553263</td>\n      <td>-1882.158354</td>\n      <td>477.717247</td>\n      <td>1.0</td>\n    </tr>\n    <tr>\n      <th>3</th>\n      <td>-99420.477882</td>\n      <td>-892.821468</td>\n      <td>45.0</td>\n      <td>-1.693792e+06</td>\n      <td>-215732.357731</td>\n      <td>43490.530858</td>\n      <td>-777850.069363</td>\n      <td>2.0</td>\n      <td>969640.431313</td>\n      <td>763128.393514</td>\n      <td>...</td>\n      <td>183.800000</td>\n      <td>467.000000</td>\n      <td>444.192308</td>\n      <td>423.000000</td>\n      <td>-4002.077115</td>\n      <td>-4169.040606</td>\n      <td>-6054.596588</td>\n      <td>2149.008876</td>\n      <td>-617.369717</td>\n      <td>1.0</td>\n    </tr>\n    <tr>\n      <th>4</th>\n      <td>-98449.500331</td>\n      <td>-5950.902850</td>\n      <td>45.0</td>\n      <td>-1.621617e+06</td>\n      <td>-206557.716488</td>\n      <td>29764.265078</td>\n      <td>-758514.948247</td>\n      <td>2.0</td>\n      <td>930586.040914</td>\n      <td>760474.959796</td>\n      <td>...</td>\n      <td>179.700000</td>\n      <td>465.000000</td>\n      <td>443.211539</td>\n      <td>423.000000</td>\n      <td>-4272.395352</td>\n      <td>-2244.801906</td>\n      <td>-5813.826310</td>\n      <td>2888.858492</td>\n      <td>132.058405</td>\n      <td>1.0</td>\n    </tr>\n    <tr>\n      <th>...</th>\n      <td>...</td>\n      <td>...</td>\n      <td>...</td>\n      <td>...</td>\n      <td>...</td>\n      <td>...</td>\n      <td>...</td>\n      <td>...</td>\n      <td>...</td>\n      <td>...</td>\n      <td>...</td>\n      <td>...</td>\n      <td>...</td>\n      <td>...</td>\n      <td>...</td>\n      <td>...</td>\n      <td>...</td>\n      <td>...</td>\n      <td>...</td>\n      <td>...</td>\n      <td>...</td>\n    </tr>\n    <tr>\n      <th>305</th>\n      <td>2.000000</td>\n      <td>91.000000</td>\n      <td>45.0</td>\n      <td>1.000000e+01</td>\n      <td>51.000000</td>\n      <td>10.000000</td>\n      <td>52.000000</td>\n      <td>2.0</td>\n      <td>502.500000</td>\n      <td>511.900000</td>\n      <td>...</td>\n      <td>-3260.578517</td>\n      <td>-2583.993992</td>\n      <td>-743.588754</td>\n      <td>475.942073</td>\n      <td>22048.633302</td>\n      <td>-87626.753127</td>\n      <td>19021.370599</td>\n      <td>-50799.669262</td>\n      <td>-25717.776012</td>\n      <td>1.0</td>\n    </tr>\n    <tr>\n      <th>306</th>\n      <td>2.000000</td>\n      <td>96.000000</td>\n      <td>45.0</td>\n      <td>1.100000e+01</td>\n      <td>45.000000</td>\n      <td>10.000000</td>\n      <td>31.000000</td>\n      <td>2.0</td>\n      <td>513.700000</td>\n      <td>518.900000</td>\n      <td>...</td>\n      <td>515.047566</td>\n      <td>139.049009</td>\n      <td>442.324601</td>\n      <td>421.187693</td>\n      <td>-2632.678274</td>\n      <td>1677.671778</td>\n      <td>-258.779833</td>\n      <td>931.009559</td>\n      <td>2085.485812</td>\n      <td>1.0</td>\n    </tr>\n    <tr>\n      <th>307</th>\n      <td>2.000000</td>\n      <td>91.000000</td>\n      <td>45.0</td>\n      <td>1.000000e+01</td>\n      <td>50.000000</td>\n      <td>10.000000</td>\n      <td>52.000000</td>\n      <td>2.0</td>\n      <td>502.800000</td>\n      <td>511.600000</td>\n      <td>...</td>\n      <td>-3245.155796</td>\n      <td>-2596.441114</td>\n      <td>-739.962846</td>\n      <td>465.147586</td>\n      <td>21970.115597</td>\n      <td>-87383.810306</td>\n      <td>18982.384032</td>\n      <td>-50641.208471</td>\n      <td>-25629.259298</td>\n      <td>1.0</td>\n    </tr>\n    <tr>\n      <th>308</th>\n      <td>2.000000</td>\n      <td>95.000000</td>\n      <td>45.0</td>\n      <td>1.000000e+01</td>\n      <td>51.000000</td>\n      <td>10.000000</td>\n      <td>52.000000</td>\n      <td>2.0</td>\n      <td>503.200000</td>\n      <td>512.600000</td>\n      <td>...</td>\n      <td>-3218.789570</td>\n      <td>-2584.637137</td>\n      <td>-718.674291</td>\n      <td>448.309267</td>\n      <td>22108.480967</td>\n      <td>-87787.451021</td>\n      <td>19111.127198</td>\n      <td>-50860.906435</td>\n      <td>-25773.458249</td>\n      <td>1.0</td>\n    </tr>\n    <tr>\n      <th>309</th>\n      <td>2.000000</td>\n      <td>87.000000</td>\n      <td>45.0</td>\n      <td>1.000000e+01</td>\n      <td>51.000000</td>\n      <td>10.000000</td>\n      <td>52.000000</td>\n      <td>2.0</td>\n      <td>503.300000</td>\n      <td>512.100000</td>\n      <td>...</td>\n      <td>-3282.398963</td>\n      <td>-2646.684438</td>\n      <td>-761.120149</td>\n      <td>469.247001</td>\n      <td>21995.570180</td>\n      <td>-87605.740949</td>\n      <td>19003.783758</td>\n      <td>-50756.629728</td>\n      <td>-25663.521447</td>\n      <td>1.0</td>\n    </tr>\n  </tbody>\n</table>\n<p>310 rows × 2594 columns</p>\n</div>"
     },
     "execution_count": 60,
     "metadata": {},
     "output_type": "execute_result"
    }
   ],
   "source": [
    "df = pd.read_csv(\"Dataset/test.csv\")\n",
    "df_X = df.drop(['PRODUCT_CODE','PRODUCT_ID','TIMESTAMP','LINE'], axis =1)\n",
    "df_X =df_X.drop(wrong, axis=1)\n",
    "\n",
    "\n",
    "a = imp.transform(df_X)\n",
    "b= pd.DataFrame(a)\n",
    "b"
   ],
   "metadata": {
    "collapsed": false
   }
  },
  {
   "cell_type": "code",
   "execution_count": 40,
   "outputs": [
    {
     "data": {
      "text/plain": "             0            1     2             3              4     \\\n0        2.000000    94.000000  45.0  1.000000e+01      51.000000   \n1        2.000000    93.000000  45.0  1.100000e+01      45.000000   \n2        2.000000    95.000000  45.0  1.100000e+01      45.000000   \n3   -99420.477882  -892.821468  45.0 -1.693792e+06 -215732.357731   \n4   -98449.500331 -5950.902850  45.0 -1.621617e+06 -206557.716488   \n..            ...          ...   ...           ...            ...   \n305      2.000000    91.000000  45.0  1.000000e+01      51.000000   \n306      2.000000    96.000000  45.0  1.100000e+01      45.000000   \n307      2.000000    91.000000  45.0  1.000000e+01      50.000000   \n308      2.000000    95.000000  45.0  1.000000e+01      51.000000   \n309      2.000000    87.000000  45.0  1.000000e+01      51.000000   \n\n             5              6     7              8              9     ...  \\\n0       10.000000      52.000000   2.0     469.600000     474.400000  ...   \n1       10.000000      31.000000   2.0     506.600000     511.100000  ...   \n2       10.000000      31.000000   2.0     506.600000     511.400000  ...   \n3    43490.530858 -777850.069363   2.0  969640.431313  763128.393514  ...   \n4    29764.265078 -758514.948247   2.0  930586.040914  760474.959796  ...   \n..            ...            ...   ...            ...            ...  ...   \n305     10.000000      52.000000   2.0     502.500000     511.900000  ...   \n306     10.000000      31.000000   2.0     513.700000     518.900000  ...   \n307     10.000000      52.000000   2.0     502.800000     511.600000  ...   \n308     10.000000      52.000000   2.0     503.200000     512.600000  ...   \n309     10.000000      52.000000   2.0     503.300000     512.100000  ...   \n\n            2584         2585        2586        2587          2588  \\\n0    -497.028525   757.312866   19.239042  884.313569   -741.925452   \n1     422.812553   296.853356  493.819381  345.719720  -1272.311010   \n2     426.274443   298.176123  495.009008  347.092716  -1277.168538   \n3     183.800000   467.000000  444.192308  423.000000  -4002.077115   \n4     179.700000   465.000000  443.211539  423.000000  -4272.395352   \n..           ...          ...         ...         ...           ...   \n305 -3260.578517 -2583.993992 -743.588754  475.942073  22048.633302   \n306   515.047566   139.049009  442.324601  421.187693  -2632.678274   \n307 -3245.155796 -2596.441114 -739.962846  465.147586  21970.115597   \n308 -3218.789570 -2584.637137 -718.674291  448.309267  22108.480967   \n309 -3282.398963 -2646.684438 -761.120149  469.247001  21995.570180   \n\n             2589          2590          2591          2592  2593  \n0    -5207.662999   -698.293902  -4292.352750   -545.280854   1.0  \n1    -2910.341973    520.431600  -1892.966778    471.991959   1.0  \n2    -2893.355664    522.553263  -1882.158354    477.717247   1.0  \n3    -4169.040606  -6054.596588   2149.008876   -617.369717   1.0  \n4    -2244.801906  -5813.826310   2888.858492    132.058405   1.0  \n..            ...           ...           ...           ...   ...  \n305 -87626.753127  19021.370599 -50799.669262 -25717.776012   1.0  \n306   1677.671778   -258.779833    931.009559   2085.485812   1.0  \n307 -87383.810306  18982.384032 -50641.208471 -25629.259298   1.0  \n308 -87787.451021  19111.127198 -50860.906435 -25773.458249   1.0  \n309 -87605.740949  19003.783758 -50756.629728 -25663.521447   1.0  \n\n[310 rows x 2594 columns]",
      "text/html": "<div>\n<style scoped>\n    .dataframe tbody tr th:only-of-type {\n        vertical-align: middle;\n    }\n\n    .dataframe tbody tr th {\n        vertical-align: top;\n    }\n\n    .dataframe thead th {\n        text-align: right;\n    }\n</style>\n<table border=\"1\" class=\"dataframe\">\n  <thead>\n    <tr style=\"text-align: right;\">\n      <th></th>\n      <th>0</th>\n      <th>1</th>\n      <th>2</th>\n      <th>3</th>\n      <th>4</th>\n      <th>5</th>\n      <th>6</th>\n      <th>7</th>\n      <th>8</th>\n      <th>9</th>\n      <th>...</th>\n      <th>2584</th>\n      <th>2585</th>\n      <th>2586</th>\n      <th>2587</th>\n      <th>2588</th>\n      <th>2589</th>\n      <th>2590</th>\n      <th>2591</th>\n      <th>2592</th>\n      <th>2593</th>\n    </tr>\n  </thead>\n  <tbody>\n    <tr>\n      <th>0</th>\n      <td>2.000000</td>\n      <td>94.000000</td>\n      <td>45.0</td>\n      <td>1.000000e+01</td>\n      <td>51.000000</td>\n      <td>10.000000</td>\n      <td>52.000000</td>\n      <td>2.0</td>\n      <td>469.600000</td>\n      <td>474.400000</td>\n      <td>...</td>\n      <td>-497.028525</td>\n      <td>757.312866</td>\n      <td>19.239042</td>\n      <td>884.313569</td>\n      <td>-741.925452</td>\n      <td>-5207.662999</td>\n      <td>-698.293902</td>\n      <td>-4292.352750</td>\n      <td>-545.280854</td>\n      <td>1.0</td>\n    </tr>\n    <tr>\n      <th>1</th>\n      <td>2.000000</td>\n      <td>93.000000</td>\n      <td>45.0</td>\n      <td>1.100000e+01</td>\n      <td>45.000000</td>\n      <td>10.000000</td>\n      <td>31.000000</td>\n      <td>2.0</td>\n      <td>506.600000</td>\n      <td>511.100000</td>\n      <td>...</td>\n      <td>422.812553</td>\n      <td>296.853356</td>\n      <td>493.819381</td>\n      <td>345.719720</td>\n      <td>-1272.311010</td>\n      <td>-2910.341973</td>\n      <td>520.431600</td>\n      <td>-1892.966778</td>\n      <td>471.991959</td>\n      <td>1.0</td>\n    </tr>\n    <tr>\n      <th>2</th>\n      <td>2.000000</td>\n      <td>95.000000</td>\n      <td>45.0</td>\n      <td>1.100000e+01</td>\n      <td>45.000000</td>\n      <td>10.000000</td>\n      <td>31.000000</td>\n      <td>2.0</td>\n      <td>506.600000</td>\n      <td>511.400000</td>\n      <td>...</td>\n      <td>426.274443</td>\n      <td>298.176123</td>\n      <td>495.009008</td>\n      <td>347.092716</td>\n      <td>-1277.168538</td>\n      <td>-2893.355664</td>\n      <td>522.553263</td>\n      <td>-1882.158354</td>\n      <td>477.717247</td>\n      <td>1.0</td>\n    </tr>\n    <tr>\n      <th>3</th>\n      <td>-99420.477882</td>\n      <td>-892.821468</td>\n      <td>45.0</td>\n      <td>-1.693792e+06</td>\n      <td>-215732.357731</td>\n      <td>43490.530858</td>\n      <td>-777850.069363</td>\n      <td>2.0</td>\n      <td>969640.431313</td>\n      <td>763128.393514</td>\n      <td>...</td>\n      <td>183.800000</td>\n      <td>467.000000</td>\n      <td>444.192308</td>\n      <td>423.000000</td>\n      <td>-4002.077115</td>\n      <td>-4169.040606</td>\n      <td>-6054.596588</td>\n      <td>2149.008876</td>\n      <td>-617.369717</td>\n      <td>1.0</td>\n    </tr>\n    <tr>\n      <th>4</th>\n      <td>-98449.500331</td>\n      <td>-5950.902850</td>\n      <td>45.0</td>\n      <td>-1.621617e+06</td>\n      <td>-206557.716488</td>\n      <td>29764.265078</td>\n      <td>-758514.948247</td>\n      <td>2.0</td>\n      <td>930586.040914</td>\n      <td>760474.959796</td>\n      <td>...</td>\n      <td>179.700000</td>\n      <td>465.000000</td>\n      <td>443.211539</td>\n      <td>423.000000</td>\n      <td>-4272.395352</td>\n      <td>-2244.801906</td>\n      <td>-5813.826310</td>\n      <td>2888.858492</td>\n      <td>132.058405</td>\n      <td>1.0</td>\n    </tr>\n    <tr>\n      <th>...</th>\n      <td>...</td>\n      <td>...</td>\n      <td>...</td>\n      <td>...</td>\n      <td>...</td>\n      <td>...</td>\n      <td>...</td>\n      <td>...</td>\n      <td>...</td>\n      <td>...</td>\n      <td>...</td>\n      <td>...</td>\n      <td>...</td>\n      <td>...</td>\n      <td>...</td>\n      <td>...</td>\n      <td>...</td>\n      <td>...</td>\n      <td>...</td>\n      <td>...</td>\n      <td>...</td>\n    </tr>\n    <tr>\n      <th>305</th>\n      <td>2.000000</td>\n      <td>91.000000</td>\n      <td>45.0</td>\n      <td>1.000000e+01</td>\n      <td>51.000000</td>\n      <td>10.000000</td>\n      <td>52.000000</td>\n      <td>2.0</td>\n      <td>502.500000</td>\n      <td>511.900000</td>\n      <td>...</td>\n      <td>-3260.578517</td>\n      <td>-2583.993992</td>\n      <td>-743.588754</td>\n      <td>475.942073</td>\n      <td>22048.633302</td>\n      <td>-87626.753127</td>\n      <td>19021.370599</td>\n      <td>-50799.669262</td>\n      <td>-25717.776012</td>\n      <td>1.0</td>\n    </tr>\n    <tr>\n      <th>306</th>\n      <td>2.000000</td>\n      <td>96.000000</td>\n      <td>45.0</td>\n      <td>1.100000e+01</td>\n      <td>45.000000</td>\n      <td>10.000000</td>\n      <td>31.000000</td>\n      <td>2.0</td>\n      <td>513.700000</td>\n      <td>518.900000</td>\n      <td>...</td>\n      <td>515.047566</td>\n      <td>139.049009</td>\n      <td>442.324601</td>\n      <td>421.187693</td>\n      <td>-2632.678274</td>\n      <td>1677.671778</td>\n      <td>-258.779833</td>\n      <td>931.009559</td>\n      <td>2085.485812</td>\n      <td>1.0</td>\n    </tr>\n    <tr>\n      <th>307</th>\n      <td>2.000000</td>\n      <td>91.000000</td>\n      <td>45.0</td>\n      <td>1.000000e+01</td>\n      <td>50.000000</td>\n      <td>10.000000</td>\n      <td>52.000000</td>\n      <td>2.0</td>\n      <td>502.800000</td>\n      <td>511.600000</td>\n      <td>...</td>\n      <td>-3245.155796</td>\n      <td>-2596.441114</td>\n      <td>-739.962846</td>\n      <td>465.147586</td>\n      <td>21970.115597</td>\n      <td>-87383.810306</td>\n      <td>18982.384032</td>\n      <td>-50641.208471</td>\n      <td>-25629.259298</td>\n      <td>1.0</td>\n    </tr>\n    <tr>\n      <th>308</th>\n      <td>2.000000</td>\n      <td>95.000000</td>\n      <td>45.0</td>\n      <td>1.000000e+01</td>\n      <td>51.000000</td>\n      <td>10.000000</td>\n      <td>52.000000</td>\n      <td>2.0</td>\n      <td>503.200000</td>\n      <td>512.600000</td>\n      <td>...</td>\n      <td>-3218.789570</td>\n      <td>-2584.637137</td>\n      <td>-718.674291</td>\n      <td>448.309267</td>\n      <td>22108.480967</td>\n      <td>-87787.451021</td>\n      <td>19111.127198</td>\n      <td>-50860.906435</td>\n      <td>-25773.458249</td>\n      <td>1.0</td>\n    </tr>\n    <tr>\n      <th>309</th>\n      <td>2.000000</td>\n      <td>87.000000</td>\n      <td>45.0</td>\n      <td>1.000000e+01</td>\n      <td>51.000000</td>\n      <td>10.000000</td>\n      <td>52.000000</td>\n      <td>2.0</td>\n      <td>503.300000</td>\n      <td>512.100000</td>\n      <td>...</td>\n      <td>-3282.398963</td>\n      <td>-2646.684438</td>\n      <td>-761.120149</td>\n      <td>469.247001</td>\n      <td>21995.570180</td>\n      <td>-87605.740949</td>\n      <td>19003.783758</td>\n      <td>-50756.629728</td>\n      <td>-25663.521447</td>\n      <td>1.0</td>\n    </tr>\n  </tbody>\n</table>\n<p>310 rows × 2594 columns</p>\n</div>"
     },
     "execution_count": 40,
     "metadata": {},
     "output_type": "execute_result"
    }
   ],
   "source": [
    "b"
   ],
   "metadata": {
    "collapsed": false
   }
  },
  {
   "cell_type": "code",
   "execution_count": 90,
   "outputs": [
    {
     "data": {
      "text/plain": "     X_1   X_2   X_4   X_5   X_7   X_8   X_9  X_10   X_11   X_12  ...  X_2866  \\\n0    2.0  94.0  45.0  10.0  51.0  10.0  52.0   2.0  469.6  474.4  ...     NaN   \n1    2.0  93.0  45.0  11.0  45.0  10.0  31.0   2.0  506.6  511.1  ...     NaN   \n2    2.0  95.0  45.0  11.0  45.0  10.0  31.0   2.0  506.6  511.4  ...     NaN   \n3    NaN   NaN   NaN   NaN   NaN   NaN   NaN   NaN    NaN    NaN  ...     NaN   \n4    NaN   NaN   NaN   NaN   NaN   NaN   NaN   NaN    NaN    NaN  ...     NaN   \n..   ...   ...   ...   ...   ...   ...   ...   ...    ...    ...  ...     ...   \n305  2.0  91.0  45.0  10.0  51.0  10.0  52.0   2.0  502.5  511.9  ...     NaN   \n306  2.0  96.0  45.0  11.0  45.0  10.0  31.0   2.0  513.7  518.9  ...     NaN   \n307  2.0  91.0  45.0  10.0  50.0  10.0  52.0   2.0  502.8  511.6  ...     NaN   \n308  2.0  95.0  45.0  10.0  51.0  10.0  52.0   2.0  503.2  512.6  ...     NaN   \n309  2.0  87.0  45.0  10.0  51.0  10.0  52.0   2.0  503.3  512.1  ...     NaN   \n\n     X_2867  X_2868  X_2869  X_2870  X_2871  X_2872  X_2873  X_2874  X_2875  \n0       NaN     NaN     NaN     NaN     NaN     NaN     NaN     NaN     NaN  \n1       NaN     NaN     NaN     NaN     NaN     NaN     NaN     NaN     NaN  \n2       NaN     NaN     NaN     NaN     NaN     NaN     NaN     NaN     NaN  \n3       NaN     NaN     NaN     NaN     NaN     NaN     NaN     NaN     NaN  \n4       NaN     NaN     NaN     NaN     NaN     NaN     NaN     NaN     NaN  \n..      ...     ...     ...     ...     ...     ...     ...     ...     ...  \n305     NaN     NaN     NaN     NaN     NaN     NaN     NaN     NaN     NaN  \n306     NaN     NaN     NaN     NaN     NaN     NaN     NaN     NaN     NaN  \n307     NaN     NaN     NaN     NaN     NaN     NaN     NaN     NaN     NaN  \n308     NaN     NaN     NaN     NaN     NaN     NaN     NaN     NaN     NaN  \n309     NaN     NaN     NaN     NaN     NaN     NaN     NaN     NaN     NaN  \n\n[310 rows x 2676 columns]",
      "text/html": "<div>\n<style scoped>\n    .dataframe tbody tr th:only-of-type {\n        vertical-align: middle;\n    }\n\n    .dataframe tbody tr th {\n        vertical-align: top;\n    }\n\n    .dataframe thead th {\n        text-align: right;\n    }\n</style>\n<table border=\"1\" class=\"dataframe\">\n  <thead>\n    <tr style=\"text-align: right;\">\n      <th></th>\n      <th>X_1</th>\n      <th>X_2</th>\n      <th>X_4</th>\n      <th>X_5</th>\n      <th>X_7</th>\n      <th>X_8</th>\n      <th>X_9</th>\n      <th>X_10</th>\n      <th>X_11</th>\n      <th>X_12</th>\n      <th>...</th>\n      <th>X_2866</th>\n      <th>X_2867</th>\n      <th>X_2868</th>\n      <th>X_2869</th>\n      <th>X_2870</th>\n      <th>X_2871</th>\n      <th>X_2872</th>\n      <th>X_2873</th>\n      <th>X_2874</th>\n      <th>X_2875</th>\n    </tr>\n  </thead>\n  <tbody>\n    <tr>\n      <th>0</th>\n      <td>2.0</td>\n      <td>94.0</td>\n      <td>45.0</td>\n      <td>10.0</td>\n      <td>51.0</td>\n      <td>10.0</td>\n      <td>52.0</td>\n      <td>2.0</td>\n      <td>469.6</td>\n      <td>474.4</td>\n      <td>...</td>\n      <td>NaN</td>\n      <td>NaN</td>\n      <td>NaN</td>\n      <td>NaN</td>\n      <td>NaN</td>\n      <td>NaN</td>\n      <td>NaN</td>\n      <td>NaN</td>\n      <td>NaN</td>\n      <td>NaN</td>\n    </tr>\n    <tr>\n      <th>1</th>\n      <td>2.0</td>\n      <td>93.0</td>\n      <td>45.0</td>\n      <td>11.0</td>\n      <td>45.0</td>\n      <td>10.0</td>\n      <td>31.0</td>\n      <td>2.0</td>\n      <td>506.6</td>\n      <td>511.1</td>\n      <td>...</td>\n      <td>NaN</td>\n      <td>NaN</td>\n      <td>NaN</td>\n      <td>NaN</td>\n      <td>NaN</td>\n      <td>NaN</td>\n      <td>NaN</td>\n      <td>NaN</td>\n      <td>NaN</td>\n      <td>NaN</td>\n    </tr>\n    <tr>\n      <th>2</th>\n      <td>2.0</td>\n      <td>95.0</td>\n      <td>45.0</td>\n      <td>11.0</td>\n      <td>45.0</td>\n      <td>10.0</td>\n      <td>31.0</td>\n      <td>2.0</td>\n      <td>506.6</td>\n      <td>511.4</td>\n      <td>...</td>\n      <td>NaN</td>\n      <td>NaN</td>\n      <td>NaN</td>\n      <td>NaN</td>\n      <td>NaN</td>\n      <td>NaN</td>\n      <td>NaN</td>\n      <td>NaN</td>\n      <td>NaN</td>\n      <td>NaN</td>\n    </tr>\n    <tr>\n      <th>3</th>\n      <td>NaN</td>\n      <td>NaN</td>\n      <td>NaN</td>\n      <td>NaN</td>\n      <td>NaN</td>\n      <td>NaN</td>\n      <td>NaN</td>\n      <td>NaN</td>\n      <td>NaN</td>\n      <td>NaN</td>\n      <td>...</td>\n      <td>NaN</td>\n      <td>NaN</td>\n      <td>NaN</td>\n      <td>NaN</td>\n      <td>NaN</td>\n      <td>NaN</td>\n      <td>NaN</td>\n      <td>NaN</td>\n      <td>NaN</td>\n      <td>NaN</td>\n    </tr>\n    <tr>\n      <th>4</th>\n      <td>NaN</td>\n      <td>NaN</td>\n      <td>NaN</td>\n      <td>NaN</td>\n      <td>NaN</td>\n      <td>NaN</td>\n      <td>NaN</td>\n      <td>NaN</td>\n      <td>NaN</td>\n      <td>NaN</td>\n      <td>...</td>\n      <td>NaN</td>\n      <td>NaN</td>\n      <td>NaN</td>\n      <td>NaN</td>\n      <td>NaN</td>\n      <td>NaN</td>\n      <td>NaN</td>\n      <td>NaN</td>\n      <td>NaN</td>\n      <td>NaN</td>\n    </tr>\n    <tr>\n      <th>...</th>\n      <td>...</td>\n      <td>...</td>\n      <td>...</td>\n      <td>...</td>\n      <td>...</td>\n      <td>...</td>\n      <td>...</td>\n      <td>...</td>\n      <td>...</td>\n      <td>...</td>\n      <td>...</td>\n      <td>...</td>\n      <td>...</td>\n      <td>...</td>\n      <td>...</td>\n      <td>...</td>\n      <td>...</td>\n      <td>...</td>\n      <td>...</td>\n      <td>...</td>\n      <td>...</td>\n    </tr>\n    <tr>\n      <th>305</th>\n      <td>2.0</td>\n      <td>91.0</td>\n      <td>45.0</td>\n      <td>10.0</td>\n      <td>51.0</td>\n      <td>10.0</td>\n      <td>52.0</td>\n      <td>2.0</td>\n      <td>502.5</td>\n      <td>511.9</td>\n      <td>...</td>\n      <td>NaN</td>\n      <td>NaN</td>\n      <td>NaN</td>\n      <td>NaN</td>\n      <td>NaN</td>\n      <td>NaN</td>\n      <td>NaN</td>\n      <td>NaN</td>\n      <td>NaN</td>\n      <td>NaN</td>\n    </tr>\n    <tr>\n      <th>306</th>\n      <td>2.0</td>\n      <td>96.0</td>\n      <td>45.0</td>\n      <td>11.0</td>\n      <td>45.0</td>\n      <td>10.0</td>\n      <td>31.0</td>\n      <td>2.0</td>\n      <td>513.7</td>\n      <td>518.9</td>\n      <td>...</td>\n      <td>NaN</td>\n      <td>NaN</td>\n      <td>NaN</td>\n      <td>NaN</td>\n      <td>NaN</td>\n      <td>NaN</td>\n      <td>NaN</td>\n      <td>NaN</td>\n      <td>NaN</td>\n      <td>NaN</td>\n    </tr>\n    <tr>\n      <th>307</th>\n      <td>2.0</td>\n      <td>91.0</td>\n      <td>45.0</td>\n      <td>10.0</td>\n      <td>50.0</td>\n      <td>10.0</td>\n      <td>52.0</td>\n      <td>2.0</td>\n      <td>502.8</td>\n      <td>511.6</td>\n      <td>...</td>\n      <td>NaN</td>\n      <td>NaN</td>\n      <td>NaN</td>\n      <td>NaN</td>\n      <td>NaN</td>\n      <td>NaN</td>\n      <td>NaN</td>\n      <td>NaN</td>\n      <td>NaN</td>\n      <td>NaN</td>\n    </tr>\n    <tr>\n      <th>308</th>\n      <td>2.0</td>\n      <td>95.0</td>\n      <td>45.0</td>\n      <td>10.0</td>\n      <td>51.0</td>\n      <td>10.0</td>\n      <td>52.0</td>\n      <td>2.0</td>\n      <td>503.2</td>\n      <td>512.6</td>\n      <td>...</td>\n      <td>NaN</td>\n      <td>NaN</td>\n      <td>NaN</td>\n      <td>NaN</td>\n      <td>NaN</td>\n      <td>NaN</td>\n      <td>NaN</td>\n      <td>NaN</td>\n      <td>NaN</td>\n      <td>NaN</td>\n    </tr>\n    <tr>\n      <th>309</th>\n      <td>2.0</td>\n      <td>87.0</td>\n      <td>45.0</td>\n      <td>10.0</td>\n      <td>51.0</td>\n      <td>10.0</td>\n      <td>52.0</td>\n      <td>2.0</td>\n      <td>503.3</td>\n      <td>512.1</td>\n      <td>...</td>\n      <td>NaN</td>\n      <td>NaN</td>\n      <td>NaN</td>\n      <td>NaN</td>\n      <td>NaN</td>\n      <td>NaN</td>\n      <td>NaN</td>\n      <td>NaN</td>\n      <td>NaN</td>\n      <td>NaN</td>\n    </tr>\n  </tbody>\n</table>\n<p>310 rows × 2676 columns</p>\n</div>"
     },
     "execution_count": 90,
     "metadata": {},
     "output_type": "execute_result"
    }
   ],
   "source": [
    "df_X"
   ],
   "metadata": {
    "collapsed": false
   }
  },
  {
   "cell_type": "code",
   "execution_count": 73,
   "outputs": [],
   "source": [
    "b.to_csv('/Users/sola/Downloads/open/mice_test.csv')"
   ],
   "metadata": {
    "collapsed": false
   }
  },
  {
   "cell_type": "code",
   "execution_count": 76,
   "outputs": [
    {
     "data": {
      "text/plain": "     Unnamed: 0             0            1     2             3              4  \\\n0             0      2.000000    94.000000  45.0  1.000000e+01      51.000000   \n1             1      2.000000    93.000000  45.0  1.100000e+01      45.000000   \n2             2      2.000000    95.000000  45.0  1.100000e+01      45.000000   \n3             3 -99420.477882  -892.821468  45.0 -1.693792e+06 -215732.357731   \n4             4 -98449.500331 -5950.902850  45.0 -1.621617e+06 -206557.716488   \n..          ...           ...          ...   ...           ...            ...   \n305         305      2.000000    91.000000  45.0  1.000000e+01      51.000000   \n306         306      2.000000    96.000000  45.0  1.100000e+01      45.000000   \n307         307      2.000000    91.000000  45.0  1.000000e+01      50.000000   \n308         308      2.000000    95.000000  45.0  1.000000e+01      51.000000   \n309         309      2.000000    87.000000  45.0  1.000000e+01      51.000000   \n\n                5              6    7              8  ...         2584  \\\n0       10.000000      52.000000  2.0     469.600000  ...  -497.028525   \n1       10.000000      31.000000  2.0     506.600000  ...   422.812553   \n2       10.000000      31.000000  2.0     506.600000  ...   426.274443   \n3    43490.530858 -777850.069363  2.0  969640.431313  ...   183.800000   \n4    29764.265078 -758514.948247  2.0  930586.040914  ...   179.700000   \n..            ...            ...  ...            ...  ...          ...   \n305     10.000000      52.000000  2.0     502.500000  ... -3260.578517   \n306     10.000000      31.000000  2.0     513.700000  ...   515.047566   \n307     10.000000      52.000000  2.0     502.800000  ... -3245.155796   \n308     10.000000      52.000000  2.0     503.200000  ... -3218.789570   \n309     10.000000      52.000000  2.0     503.300000  ... -3282.398963   \n\n            2585        2586        2587          2588          2589  \\\n0     757.312866   19.239042  884.313569   -741.925452  -5207.662999   \n1     296.853356  493.819381  345.719720  -1272.311010  -2910.341973   \n2     298.176123  495.009008  347.092716  -1277.168538  -2893.355664   \n3     467.000000  444.192308  423.000000  -4002.077115  -4169.040606   \n4     465.000000  443.211539  423.000000  -4272.395352  -2244.801906   \n..           ...         ...         ...           ...           ...   \n305 -2583.993992 -743.588754  475.942073  22048.633302 -87626.753127   \n306   139.049009  442.324601  421.187693  -2632.678274   1677.671778   \n307 -2596.441114 -739.962846  465.147586  21970.115597 -87383.810306   \n308 -2584.637137 -718.674291  448.309267  22108.480967 -87787.451021   \n309 -2646.684438 -761.120149  469.247001  21995.570180 -87605.740949   \n\n             2590          2591          2592  2593  \n0     -698.293902  -4292.352750   -545.280854   1.0  \n1      520.431600  -1892.966778    471.991959   1.0  \n2      522.553263  -1882.158354    477.717247   1.0  \n3    -6054.596588   2149.008876   -617.369717   1.0  \n4    -5813.826310   2888.858492    132.058405   1.0  \n..            ...           ...           ...   ...  \n305  19021.370599 -50799.669262 -25717.776012   1.0  \n306   -258.779833    931.009559   2085.485812   1.0  \n307  18982.384032 -50641.208471 -25629.259298   1.0  \n308  19111.127198 -50860.906435 -25773.458249   1.0  \n309  19003.783758 -50756.629728 -25663.521447   1.0  \n\n[310 rows x 2595 columns]",
      "text/html": "<div>\n<style scoped>\n    .dataframe tbody tr th:only-of-type {\n        vertical-align: middle;\n    }\n\n    .dataframe tbody tr th {\n        vertical-align: top;\n    }\n\n    .dataframe thead th {\n        text-align: right;\n    }\n</style>\n<table border=\"1\" class=\"dataframe\">\n  <thead>\n    <tr style=\"text-align: right;\">\n      <th></th>\n      <th>Unnamed: 0</th>\n      <th>0</th>\n      <th>1</th>\n      <th>2</th>\n      <th>3</th>\n      <th>4</th>\n      <th>5</th>\n      <th>6</th>\n      <th>7</th>\n      <th>8</th>\n      <th>...</th>\n      <th>2584</th>\n      <th>2585</th>\n      <th>2586</th>\n      <th>2587</th>\n      <th>2588</th>\n      <th>2589</th>\n      <th>2590</th>\n      <th>2591</th>\n      <th>2592</th>\n      <th>2593</th>\n    </tr>\n  </thead>\n  <tbody>\n    <tr>\n      <th>0</th>\n      <td>0</td>\n      <td>2.000000</td>\n      <td>94.000000</td>\n      <td>45.0</td>\n      <td>1.000000e+01</td>\n      <td>51.000000</td>\n      <td>10.000000</td>\n      <td>52.000000</td>\n      <td>2.0</td>\n      <td>469.600000</td>\n      <td>...</td>\n      <td>-497.028525</td>\n      <td>757.312866</td>\n      <td>19.239042</td>\n      <td>884.313569</td>\n      <td>-741.925452</td>\n      <td>-5207.662999</td>\n      <td>-698.293902</td>\n      <td>-4292.352750</td>\n      <td>-545.280854</td>\n      <td>1.0</td>\n    </tr>\n    <tr>\n      <th>1</th>\n      <td>1</td>\n      <td>2.000000</td>\n      <td>93.000000</td>\n      <td>45.0</td>\n      <td>1.100000e+01</td>\n      <td>45.000000</td>\n      <td>10.000000</td>\n      <td>31.000000</td>\n      <td>2.0</td>\n      <td>506.600000</td>\n      <td>...</td>\n      <td>422.812553</td>\n      <td>296.853356</td>\n      <td>493.819381</td>\n      <td>345.719720</td>\n      <td>-1272.311010</td>\n      <td>-2910.341973</td>\n      <td>520.431600</td>\n      <td>-1892.966778</td>\n      <td>471.991959</td>\n      <td>1.0</td>\n    </tr>\n    <tr>\n      <th>2</th>\n      <td>2</td>\n      <td>2.000000</td>\n      <td>95.000000</td>\n      <td>45.0</td>\n      <td>1.100000e+01</td>\n      <td>45.000000</td>\n      <td>10.000000</td>\n      <td>31.000000</td>\n      <td>2.0</td>\n      <td>506.600000</td>\n      <td>...</td>\n      <td>426.274443</td>\n      <td>298.176123</td>\n      <td>495.009008</td>\n      <td>347.092716</td>\n      <td>-1277.168538</td>\n      <td>-2893.355664</td>\n      <td>522.553263</td>\n      <td>-1882.158354</td>\n      <td>477.717247</td>\n      <td>1.0</td>\n    </tr>\n    <tr>\n      <th>3</th>\n      <td>3</td>\n      <td>-99420.477882</td>\n      <td>-892.821468</td>\n      <td>45.0</td>\n      <td>-1.693792e+06</td>\n      <td>-215732.357731</td>\n      <td>43490.530858</td>\n      <td>-777850.069363</td>\n      <td>2.0</td>\n      <td>969640.431313</td>\n      <td>...</td>\n      <td>183.800000</td>\n      <td>467.000000</td>\n      <td>444.192308</td>\n      <td>423.000000</td>\n      <td>-4002.077115</td>\n      <td>-4169.040606</td>\n      <td>-6054.596588</td>\n      <td>2149.008876</td>\n      <td>-617.369717</td>\n      <td>1.0</td>\n    </tr>\n    <tr>\n      <th>4</th>\n      <td>4</td>\n      <td>-98449.500331</td>\n      <td>-5950.902850</td>\n      <td>45.0</td>\n      <td>-1.621617e+06</td>\n      <td>-206557.716488</td>\n      <td>29764.265078</td>\n      <td>-758514.948247</td>\n      <td>2.0</td>\n      <td>930586.040914</td>\n      <td>...</td>\n      <td>179.700000</td>\n      <td>465.000000</td>\n      <td>443.211539</td>\n      <td>423.000000</td>\n      <td>-4272.395352</td>\n      <td>-2244.801906</td>\n      <td>-5813.826310</td>\n      <td>2888.858492</td>\n      <td>132.058405</td>\n      <td>1.0</td>\n    </tr>\n    <tr>\n      <th>...</th>\n      <td>...</td>\n      <td>...</td>\n      <td>...</td>\n      <td>...</td>\n      <td>...</td>\n      <td>...</td>\n      <td>...</td>\n      <td>...</td>\n      <td>...</td>\n      <td>...</td>\n      <td>...</td>\n      <td>...</td>\n      <td>...</td>\n      <td>...</td>\n      <td>...</td>\n      <td>...</td>\n      <td>...</td>\n      <td>...</td>\n      <td>...</td>\n      <td>...</td>\n      <td>...</td>\n    </tr>\n    <tr>\n      <th>305</th>\n      <td>305</td>\n      <td>2.000000</td>\n      <td>91.000000</td>\n      <td>45.0</td>\n      <td>1.000000e+01</td>\n      <td>51.000000</td>\n      <td>10.000000</td>\n      <td>52.000000</td>\n      <td>2.0</td>\n      <td>502.500000</td>\n      <td>...</td>\n      <td>-3260.578517</td>\n      <td>-2583.993992</td>\n      <td>-743.588754</td>\n      <td>475.942073</td>\n      <td>22048.633302</td>\n      <td>-87626.753127</td>\n      <td>19021.370599</td>\n      <td>-50799.669262</td>\n      <td>-25717.776012</td>\n      <td>1.0</td>\n    </tr>\n    <tr>\n      <th>306</th>\n      <td>306</td>\n      <td>2.000000</td>\n      <td>96.000000</td>\n      <td>45.0</td>\n      <td>1.100000e+01</td>\n      <td>45.000000</td>\n      <td>10.000000</td>\n      <td>31.000000</td>\n      <td>2.0</td>\n      <td>513.700000</td>\n      <td>...</td>\n      <td>515.047566</td>\n      <td>139.049009</td>\n      <td>442.324601</td>\n      <td>421.187693</td>\n      <td>-2632.678274</td>\n      <td>1677.671778</td>\n      <td>-258.779833</td>\n      <td>931.009559</td>\n      <td>2085.485812</td>\n      <td>1.0</td>\n    </tr>\n    <tr>\n      <th>307</th>\n      <td>307</td>\n      <td>2.000000</td>\n      <td>91.000000</td>\n      <td>45.0</td>\n      <td>1.000000e+01</td>\n      <td>50.000000</td>\n      <td>10.000000</td>\n      <td>52.000000</td>\n      <td>2.0</td>\n      <td>502.800000</td>\n      <td>...</td>\n      <td>-3245.155796</td>\n      <td>-2596.441114</td>\n      <td>-739.962846</td>\n      <td>465.147586</td>\n      <td>21970.115597</td>\n      <td>-87383.810306</td>\n      <td>18982.384032</td>\n      <td>-50641.208471</td>\n      <td>-25629.259298</td>\n      <td>1.0</td>\n    </tr>\n    <tr>\n      <th>308</th>\n      <td>308</td>\n      <td>2.000000</td>\n      <td>95.000000</td>\n      <td>45.0</td>\n      <td>1.000000e+01</td>\n      <td>51.000000</td>\n      <td>10.000000</td>\n      <td>52.000000</td>\n      <td>2.0</td>\n      <td>503.200000</td>\n      <td>...</td>\n      <td>-3218.789570</td>\n      <td>-2584.637137</td>\n      <td>-718.674291</td>\n      <td>448.309267</td>\n      <td>22108.480967</td>\n      <td>-87787.451021</td>\n      <td>19111.127198</td>\n      <td>-50860.906435</td>\n      <td>-25773.458249</td>\n      <td>1.0</td>\n    </tr>\n    <tr>\n      <th>309</th>\n      <td>309</td>\n      <td>2.000000</td>\n      <td>87.000000</td>\n      <td>45.0</td>\n      <td>1.000000e+01</td>\n      <td>51.000000</td>\n      <td>10.000000</td>\n      <td>52.000000</td>\n      <td>2.0</td>\n      <td>503.300000</td>\n      <td>...</td>\n      <td>-3282.398963</td>\n      <td>-2646.684438</td>\n      <td>-761.120149</td>\n      <td>469.247001</td>\n      <td>21995.570180</td>\n      <td>-87605.740949</td>\n      <td>19003.783758</td>\n      <td>-50756.629728</td>\n      <td>-25663.521447</td>\n      <td>1.0</td>\n    </tr>\n  </tbody>\n</table>\n<p>310 rows × 2595 columns</p>\n</div>"
     },
     "execution_count": 76,
     "metadata": {},
     "output_type": "execute_result"
    }
   ],
   "source": [
    "# bb = pd.read_csv(\"/Users/sola/Downloads/open/mice_test.csv\")\n",
    "# bb"
   ],
   "metadata": {
    "collapsed": false
   }
  },
  {
   "cell_type": "code",
   "execution_count": 82,
   "outputs": [
    {
     "data": {
      "text/plain": "              0              1     2             3              4     \\\n0   -101073.885924 -126459.506774  45.0  2.610786e+06  144409.799522   \n1    -93982.537361 -136146.735470  45.0  2.698840e+06  153855.969885   \n2   -145008.448216 -149771.506906  45.0  2.457683e+06  137745.594429   \n3    -88953.306065 -130501.391118  45.0  2.677776e+06  152163.825720   \n4   -101423.370846 -124494.248939  45.0  2.579189e+06  143512.594737   \n..             ...            ...   ...           ...            ...   \n593       2.000000      95.000000  45.0  1.000000e+01      50.000000   \n594 -175361.586022  -96350.582898  45.0  1.330724e+06   91088.163707   \n595 -176024.130610  -95854.390635  45.0  1.315332e+06   90445.656683   \n596      40.000000      94.000000  45.0  1.100000e+01      45.000000   \n597      21.000000      87.000000  45.0  1.000000e+01      61.000000   \n\n             5              6     7              8              9     ...  \\\n0    23441.527801 -352273.519410   2.0 -380503.566795  566815.852286  ...   \n1    15147.783422 -340366.305727   2.0 -404786.816950  563415.422995  ...   \n2     5537.871533 -367238.138100   2.0 -260434.022363  590357.092616  ...   \n3    13995.788494 -340803.252972   2.0 -420887.352740  560507.504425  ...   \n4    20077.344738 -346210.082216   2.0 -371722.410734  560553.883361  ...   \n..            ...            ...   ...            ...            ...  ...   \n593     10.000000      52.000000   2.0     468.900000     473.900000  ...   \n594 -59343.652894 -256184.393563   2.0  155050.627908  454919.673288  ...   \n595 -60364.375617 -255237.787934   2.0  160805.053756  453558.881834  ...   \n596     10.000000      31.000000   2.0     505.800000     510.900000  ...   \n597     10.000000      52.000000   2.0     470.600000     474.900000  ...   \n\n           2584        2585        2586        2587         2588         2589  \\\n0    189.000000  383.000000  368.296296  353.000000    39.340000    40.890000   \n1    185.600000  383.000000  367.735849  353.000000    38.890000    42.820000   \n2    165.500000  383.000000  367.320755  353.000000    39.190000    36.650000   \n3    165.800000  384.000000  369.188679  353.000000    37.740000    39.170000   \n4    182.600000  383.000000  367.351852  352.000000    38.700000    41.890000   \n..          ...         ...         ...         ...          ...          ...   \n593 -549.787585  722.299153   -9.847816  906.740543  -783.640675 -5182.549468   \n594  168.700000  384.000000  369.811321  353.000000    49.470000    53.070000   \n595  156.600000  383.000000  367.018868  352.000000    39.793987    55.448454   \n596  416.660270  292.645668  495.253216  347.757727 -1262.992749 -2954.755497   \n597 -313.871086  959.117896  158.300264  831.746872  -192.181440 -6405.249957   \n\n           2590         2591         2592  2593  \n0     32.560000    34.090000    77.770000   1.0  \n1     43.920000    35.340000    72.550000   1.0  \n2     42.470000    36.530000    78.350000   1.0  \n3     52.170000    30.580000    71.780000   1.0  \n4     46.930000    33.090000    76.970000   1.0  \n..          ...          ...          ...   ...  \n593 -758.130997 -4292.407945  -511.225707   1.0  \n594   50.890000    55.100000    66.490000   1.0  \n595   57.959019    47.647600    65.456766   1.0  \n596  523.707209 -1919.832184   459.204029   1.0  \n597 -212.121627 -4990.214682 -1101.685260   1.0  \n\n[598 rows x 2594 columns]",
      "text/html": "<div>\n<style scoped>\n    .dataframe tbody tr th:only-of-type {\n        vertical-align: middle;\n    }\n\n    .dataframe tbody tr th {\n        vertical-align: top;\n    }\n\n    .dataframe thead th {\n        text-align: right;\n    }\n</style>\n<table border=\"1\" class=\"dataframe\">\n  <thead>\n    <tr style=\"text-align: right;\">\n      <th></th>\n      <th>0</th>\n      <th>1</th>\n      <th>2</th>\n      <th>3</th>\n      <th>4</th>\n      <th>5</th>\n      <th>6</th>\n      <th>7</th>\n      <th>8</th>\n      <th>9</th>\n      <th>...</th>\n      <th>2584</th>\n      <th>2585</th>\n      <th>2586</th>\n      <th>2587</th>\n      <th>2588</th>\n      <th>2589</th>\n      <th>2590</th>\n      <th>2591</th>\n      <th>2592</th>\n      <th>2593</th>\n    </tr>\n  </thead>\n  <tbody>\n    <tr>\n      <th>0</th>\n      <td>-101073.885924</td>\n      <td>-126459.506774</td>\n      <td>45.0</td>\n      <td>2.610786e+06</td>\n      <td>144409.799522</td>\n      <td>23441.527801</td>\n      <td>-352273.519410</td>\n      <td>2.0</td>\n      <td>-380503.566795</td>\n      <td>566815.852286</td>\n      <td>...</td>\n      <td>189.000000</td>\n      <td>383.000000</td>\n      <td>368.296296</td>\n      <td>353.000000</td>\n      <td>39.340000</td>\n      <td>40.890000</td>\n      <td>32.560000</td>\n      <td>34.090000</td>\n      <td>77.770000</td>\n      <td>1.0</td>\n    </tr>\n    <tr>\n      <th>1</th>\n      <td>-93982.537361</td>\n      <td>-136146.735470</td>\n      <td>45.0</td>\n      <td>2.698840e+06</td>\n      <td>153855.969885</td>\n      <td>15147.783422</td>\n      <td>-340366.305727</td>\n      <td>2.0</td>\n      <td>-404786.816950</td>\n      <td>563415.422995</td>\n      <td>...</td>\n      <td>185.600000</td>\n      <td>383.000000</td>\n      <td>367.735849</td>\n      <td>353.000000</td>\n      <td>38.890000</td>\n      <td>42.820000</td>\n      <td>43.920000</td>\n      <td>35.340000</td>\n      <td>72.550000</td>\n      <td>1.0</td>\n    </tr>\n    <tr>\n      <th>2</th>\n      <td>-145008.448216</td>\n      <td>-149771.506906</td>\n      <td>45.0</td>\n      <td>2.457683e+06</td>\n      <td>137745.594429</td>\n      <td>5537.871533</td>\n      <td>-367238.138100</td>\n      <td>2.0</td>\n      <td>-260434.022363</td>\n      <td>590357.092616</td>\n      <td>...</td>\n      <td>165.500000</td>\n      <td>383.000000</td>\n      <td>367.320755</td>\n      <td>353.000000</td>\n      <td>39.190000</td>\n      <td>36.650000</td>\n      <td>42.470000</td>\n      <td>36.530000</td>\n      <td>78.350000</td>\n      <td>1.0</td>\n    </tr>\n    <tr>\n      <th>3</th>\n      <td>-88953.306065</td>\n      <td>-130501.391118</td>\n      <td>45.0</td>\n      <td>2.677776e+06</td>\n      <td>152163.825720</td>\n      <td>13995.788494</td>\n      <td>-340803.252972</td>\n      <td>2.0</td>\n      <td>-420887.352740</td>\n      <td>560507.504425</td>\n      <td>...</td>\n      <td>165.800000</td>\n      <td>384.000000</td>\n      <td>369.188679</td>\n      <td>353.000000</td>\n      <td>37.740000</td>\n      <td>39.170000</td>\n      <td>52.170000</td>\n      <td>30.580000</td>\n      <td>71.780000</td>\n      <td>1.0</td>\n    </tr>\n    <tr>\n      <th>4</th>\n      <td>-101423.370846</td>\n      <td>-124494.248939</td>\n      <td>45.0</td>\n      <td>2.579189e+06</td>\n      <td>143512.594737</td>\n      <td>20077.344738</td>\n      <td>-346210.082216</td>\n      <td>2.0</td>\n      <td>-371722.410734</td>\n      <td>560553.883361</td>\n      <td>...</td>\n      <td>182.600000</td>\n      <td>383.000000</td>\n      <td>367.351852</td>\n      <td>352.000000</td>\n      <td>38.700000</td>\n      <td>41.890000</td>\n      <td>46.930000</td>\n      <td>33.090000</td>\n      <td>76.970000</td>\n      <td>1.0</td>\n    </tr>\n    <tr>\n      <th>...</th>\n      <td>...</td>\n      <td>...</td>\n      <td>...</td>\n      <td>...</td>\n      <td>...</td>\n      <td>...</td>\n      <td>...</td>\n      <td>...</td>\n      <td>...</td>\n      <td>...</td>\n      <td>...</td>\n      <td>...</td>\n      <td>...</td>\n      <td>...</td>\n      <td>...</td>\n      <td>...</td>\n      <td>...</td>\n      <td>...</td>\n      <td>...</td>\n      <td>...</td>\n      <td>...</td>\n    </tr>\n    <tr>\n      <th>593</th>\n      <td>2.000000</td>\n      <td>95.000000</td>\n      <td>45.0</td>\n      <td>1.000000e+01</td>\n      <td>50.000000</td>\n      <td>10.000000</td>\n      <td>52.000000</td>\n      <td>2.0</td>\n      <td>468.900000</td>\n      <td>473.900000</td>\n      <td>...</td>\n      <td>-549.787585</td>\n      <td>722.299153</td>\n      <td>-9.847816</td>\n      <td>906.740543</td>\n      <td>-783.640675</td>\n      <td>-5182.549468</td>\n      <td>-758.130997</td>\n      <td>-4292.407945</td>\n      <td>-511.225707</td>\n      <td>1.0</td>\n    </tr>\n    <tr>\n      <th>594</th>\n      <td>-175361.586022</td>\n      <td>-96350.582898</td>\n      <td>45.0</td>\n      <td>1.330724e+06</td>\n      <td>91088.163707</td>\n      <td>-59343.652894</td>\n      <td>-256184.393563</td>\n      <td>2.0</td>\n      <td>155050.627908</td>\n      <td>454919.673288</td>\n      <td>...</td>\n      <td>168.700000</td>\n      <td>384.000000</td>\n      <td>369.811321</td>\n      <td>353.000000</td>\n      <td>49.470000</td>\n      <td>53.070000</td>\n      <td>50.890000</td>\n      <td>55.100000</td>\n      <td>66.490000</td>\n      <td>1.0</td>\n    </tr>\n    <tr>\n      <th>595</th>\n      <td>-176024.130610</td>\n      <td>-95854.390635</td>\n      <td>45.0</td>\n      <td>1.315332e+06</td>\n      <td>90445.656683</td>\n      <td>-60364.375617</td>\n      <td>-255237.787934</td>\n      <td>2.0</td>\n      <td>160805.053756</td>\n      <td>453558.881834</td>\n      <td>...</td>\n      <td>156.600000</td>\n      <td>383.000000</td>\n      <td>367.018868</td>\n      <td>352.000000</td>\n      <td>39.793987</td>\n      <td>55.448454</td>\n      <td>57.959019</td>\n      <td>47.647600</td>\n      <td>65.456766</td>\n      <td>1.0</td>\n    </tr>\n    <tr>\n      <th>596</th>\n      <td>40.000000</td>\n      <td>94.000000</td>\n      <td>45.0</td>\n      <td>1.100000e+01</td>\n      <td>45.000000</td>\n      <td>10.000000</td>\n      <td>31.000000</td>\n      <td>2.0</td>\n      <td>505.800000</td>\n      <td>510.900000</td>\n      <td>...</td>\n      <td>416.660270</td>\n      <td>292.645668</td>\n      <td>495.253216</td>\n      <td>347.757727</td>\n      <td>-1262.992749</td>\n      <td>-2954.755497</td>\n      <td>523.707209</td>\n      <td>-1919.832184</td>\n      <td>459.204029</td>\n      <td>1.0</td>\n    </tr>\n    <tr>\n      <th>597</th>\n      <td>21.000000</td>\n      <td>87.000000</td>\n      <td>45.0</td>\n      <td>1.000000e+01</td>\n      <td>61.000000</td>\n      <td>10.000000</td>\n      <td>52.000000</td>\n      <td>2.0</td>\n      <td>470.600000</td>\n      <td>474.900000</td>\n      <td>...</td>\n      <td>-313.871086</td>\n      <td>959.117896</td>\n      <td>158.300264</td>\n      <td>831.746872</td>\n      <td>-192.181440</td>\n      <td>-6405.249957</td>\n      <td>-212.121627</td>\n      <td>-4990.214682</td>\n      <td>-1101.685260</td>\n      <td>1.0</td>\n    </tr>\n  </tbody>\n</table>\n<p>598 rows × 2594 columns</p>\n</div>"
     },
     "execution_count": 82,
     "metadata": {},
     "output_type": "execute_result"
    }
   ],
   "source": [
    "d"
   ],
   "metadata": {
    "collapsed": false
   }
  },
  {
   "cell_type": "code",
   "execution_count": 88,
   "outputs": [
    {
     "data": {
      "text/plain": "    PRODUCT_CODE\n0           A_31\n1           A_31\n2           A_31\n3           A_31\n4           A_31\n..           ...\n593         T_31\n594         A_31\n595         A_31\n596         O_31\n597         O_31\n\n[598 rows x 1 columns]",
      "text/html": "<div>\n<style scoped>\n    .dataframe tbody tr th:only-of-type {\n        vertical-align: middle;\n    }\n\n    .dataframe tbody tr th {\n        vertical-align: top;\n    }\n\n    .dataframe thead th {\n        text-align: right;\n    }\n</style>\n<table border=\"1\" class=\"dataframe\">\n  <thead>\n    <tr style=\"text-align: right;\">\n      <th></th>\n      <th>PRODUCT_CODE</th>\n    </tr>\n  </thead>\n  <tbody>\n    <tr>\n      <th>0</th>\n      <td>A_31</td>\n    </tr>\n    <tr>\n      <th>1</th>\n      <td>A_31</td>\n    </tr>\n    <tr>\n      <th>2</th>\n      <td>A_31</td>\n    </tr>\n    <tr>\n      <th>3</th>\n      <td>A_31</td>\n    </tr>\n    <tr>\n      <th>4</th>\n      <td>A_31</td>\n    </tr>\n    <tr>\n      <th>...</th>\n      <td>...</td>\n    </tr>\n    <tr>\n      <th>593</th>\n      <td>T_31</td>\n    </tr>\n    <tr>\n      <th>594</th>\n      <td>A_31</td>\n    </tr>\n    <tr>\n      <th>595</th>\n      <td>A_31</td>\n    </tr>\n    <tr>\n      <th>596</th>\n      <td>O_31</td>\n    </tr>\n    <tr>\n      <th>597</th>\n      <td>O_31</td>\n    </tr>\n  </tbody>\n</table>\n<p>598 rows × 1 columns</p>\n</div>"
     },
     "execution_count": 88,
     "metadata": {},
     "output_type": "execute_result"
    }
   ],
   "source": [
    "pc =pd.DataFrame(train['PRODUCT_CODE'])\n",
    "pc"
   ],
   "metadata": {
    "collapsed": false
   }
  },
  {
   "cell_type": "code",
   "execution_count": 89,
   "outputs": [
    {
     "data": {
      "text/plain": "    PRODUCT_CODE              0             1     2             3  \\\n0           A_31            NaN           NaN   NaN           NaN   \n1           A_31            NaN           NaN   NaN           NaN   \n2           A_31            NaN           NaN   NaN           NaN   \n3           A_31            NaN           NaN   NaN           NaN   \n4           A_31            NaN           NaN   NaN           NaN   \n..           ...            ...           ...   ...           ...   \n593          NaN       2.000000     95.000000  45.0  1.000000e+01   \n594          NaN -175361.586022 -96350.582898  45.0  1.330724e+06   \n595          NaN -176024.130610 -95854.390635  45.0  1.315332e+06   \n596          NaN      40.000000     94.000000  45.0  1.100000e+01   \n597          NaN      21.000000     87.000000  45.0  1.000000e+01   \n\n                4             5              6    7              8  ...  \\\n0             NaN           NaN            NaN  NaN            NaN  ...   \n1             NaN           NaN            NaN  NaN            NaN  ...   \n2             NaN           NaN            NaN  NaN            NaN  ...   \n3             NaN           NaN            NaN  NaN            NaN  ...   \n4             NaN           NaN            NaN  NaN            NaN  ...   \n..            ...           ...            ...  ...            ...  ...   \n593     50.000000     10.000000      52.000000  2.0     468.900000  ...   \n594  91088.163707 -59343.652894 -256184.393563  2.0  155050.627908  ...   \n595  90445.656683 -60364.375617 -255237.787934  2.0  160805.053756  ...   \n596     45.000000     10.000000      31.000000  2.0     505.800000  ...   \n597     61.000000     10.000000      52.000000  2.0     470.600000  ...   \n\n           2584        2585        2586        2587         2588         2589  \\\n0           NaN         NaN         NaN         NaN          NaN          NaN   \n1           NaN         NaN         NaN         NaN          NaN          NaN   \n2           NaN         NaN         NaN         NaN          NaN          NaN   \n3           NaN         NaN         NaN         NaN          NaN          NaN   \n4           NaN         NaN         NaN         NaN          NaN          NaN   \n..          ...         ...         ...         ...          ...          ...   \n593 -549.787585  722.299153   -9.847816  906.740543  -783.640675 -5182.549468   \n594  168.700000  384.000000  369.811321  353.000000    49.470000    53.070000   \n595  156.600000  383.000000  367.018868  352.000000    39.793987    55.448454   \n596  416.660270  292.645668  495.253216  347.757727 -1262.992749 -2954.755497   \n597 -313.871086  959.117896  158.300264  831.746872  -192.181440 -6405.249957   \n\n           2590         2591         2592  2593  \n0           NaN          NaN          NaN   NaN  \n1           NaN          NaN          NaN   NaN  \n2           NaN          NaN          NaN   NaN  \n3           NaN          NaN          NaN   NaN  \n4           NaN          NaN          NaN   NaN  \n..          ...          ...          ...   ...  \n593 -758.130997 -4292.407945  -511.225707   1.0  \n594   50.890000    55.100000    66.490000   1.0  \n595   57.959019    47.647600    65.456766   1.0  \n596  523.707209 -1919.832184   459.204029   1.0  \n597 -212.121627 -4990.214682 -1101.685260   1.0  \n\n[1196 rows x 2595 columns]",
      "text/html": "<div>\n<style scoped>\n    .dataframe tbody tr th:only-of-type {\n        vertical-align: middle;\n    }\n\n    .dataframe tbody tr th {\n        vertical-align: top;\n    }\n\n    .dataframe thead th {\n        text-align: right;\n    }\n</style>\n<table border=\"1\" class=\"dataframe\">\n  <thead>\n    <tr style=\"text-align: right;\">\n      <th></th>\n      <th>PRODUCT_CODE</th>\n      <th>0</th>\n      <th>1</th>\n      <th>2</th>\n      <th>3</th>\n      <th>4</th>\n      <th>5</th>\n      <th>6</th>\n      <th>7</th>\n      <th>8</th>\n      <th>...</th>\n      <th>2584</th>\n      <th>2585</th>\n      <th>2586</th>\n      <th>2587</th>\n      <th>2588</th>\n      <th>2589</th>\n      <th>2590</th>\n      <th>2591</th>\n      <th>2592</th>\n      <th>2593</th>\n    </tr>\n  </thead>\n  <tbody>\n    <tr>\n      <th>0</th>\n      <td>A_31</td>\n      <td>NaN</td>\n      <td>NaN</td>\n      <td>NaN</td>\n      <td>NaN</td>\n      <td>NaN</td>\n      <td>NaN</td>\n      <td>NaN</td>\n      <td>NaN</td>\n      <td>NaN</td>\n      <td>...</td>\n      <td>NaN</td>\n      <td>NaN</td>\n      <td>NaN</td>\n      <td>NaN</td>\n      <td>NaN</td>\n      <td>NaN</td>\n      <td>NaN</td>\n      <td>NaN</td>\n      <td>NaN</td>\n      <td>NaN</td>\n    </tr>\n    <tr>\n      <th>1</th>\n      <td>A_31</td>\n      <td>NaN</td>\n      <td>NaN</td>\n      <td>NaN</td>\n      <td>NaN</td>\n      <td>NaN</td>\n      <td>NaN</td>\n      <td>NaN</td>\n      <td>NaN</td>\n      <td>NaN</td>\n      <td>...</td>\n      <td>NaN</td>\n      <td>NaN</td>\n      <td>NaN</td>\n      <td>NaN</td>\n      <td>NaN</td>\n      <td>NaN</td>\n      <td>NaN</td>\n      <td>NaN</td>\n      <td>NaN</td>\n      <td>NaN</td>\n    </tr>\n    <tr>\n      <th>2</th>\n      <td>A_31</td>\n      <td>NaN</td>\n      <td>NaN</td>\n      <td>NaN</td>\n      <td>NaN</td>\n      <td>NaN</td>\n      <td>NaN</td>\n      <td>NaN</td>\n      <td>NaN</td>\n      <td>NaN</td>\n      <td>...</td>\n      <td>NaN</td>\n      <td>NaN</td>\n      <td>NaN</td>\n      <td>NaN</td>\n      <td>NaN</td>\n      <td>NaN</td>\n      <td>NaN</td>\n      <td>NaN</td>\n      <td>NaN</td>\n      <td>NaN</td>\n    </tr>\n    <tr>\n      <th>3</th>\n      <td>A_31</td>\n      <td>NaN</td>\n      <td>NaN</td>\n      <td>NaN</td>\n      <td>NaN</td>\n      <td>NaN</td>\n      <td>NaN</td>\n      <td>NaN</td>\n      <td>NaN</td>\n      <td>NaN</td>\n      <td>...</td>\n      <td>NaN</td>\n      <td>NaN</td>\n      <td>NaN</td>\n      <td>NaN</td>\n      <td>NaN</td>\n      <td>NaN</td>\n      <td>NaN</td>\n      <td>NaN</td>\n      <td>NaN</td>\n      <td>NaN</td>\n    </tr>\n    <tr>\n      <th>4</th>\n      <td>A_31</td>\n      <td>NaN</td>\n      <td>NaN</td>\n      <td>NaN</td>\n      <td>NaN</td>\n      <td>NaN</td>\n      <td>NaN</td>\n      <td>NaN</td>\n      <td>NaN</td>\n      <td>NaN</td>\n      <td>...</td>\n      <td>NaN</td>\n      <td>NaN</td>\n      <td>NaN</td>\n      <td>NaN</td>\n      <td>NaN</td>\n      <td>NaN</td>\n      <td>NaN</td>\n      <td>NaN</td>\n      <td>NaN</td>\n      <td>NaN</td>\n    </tr>\n    <tr>\n      <th>...</th>\n      <td>...</td>\n      <td>...</td>\n      <td>...</td>\n      <td>...</td>\n      <td>...</td>\n      <td>...</td>\n      <td>...</td>\n      <td>...</td>\n      <td>...</td>\n      <td>...</td>\n      <td>...</td>\n      <td>...</td>\n      <td>...</td>\n      <td>...</td>\n      <td>...</td>\n      <td>...</td>\n      <td>...</td>\n      <td>...</td>\n      <td>...</td>\n      <td>...</td>\n      <td>...</td>\n    </tr>\n    <tr>\n      <th>593</th>\n      <td>NaN</td>\n      <td>2.000000</td>\n      <td>95.000000</td>\n      <td>45.0</td>\n      <td>1.000000e+01</td>\n      <td>50.000000</td>\n      <td>10.000000</td>\n      <td>52.000000</td>\n      <td>2.0</td>\n      <td>468.900000</td>\n      <td>...</td>\n      <td>-549.787585</td>\n      <td>722.299153</td>\n      <td>-9.847816</td>\n      <td>906.740543</td>\n      <td>-783.640675</td>\n      <td>-5182.549468</td>\n      <td>-758.130997</td>\n      <td>-4292.407945</td>\n      <td>-511.225707</td>\n      <td>1.0</td>\n    </tr>\n    <tr>\n      <th>594</th>\n      <td>NaN</td>\n      <td>-175361.586022</td>\n      <td>-96350.582898</td>\n      <td>45.0</td>\n      <td>1.330724e+06</td>\n      <td>91088.163707</td>\n      <td>-59343.652894</td>\n      <td>-256184.393563</td>\n      <td>2.0</td>\n      <td>155050.627908</td>\n      <td>...</td>\n      <td>168.700000</td>\n      <td>384.000000</td>\n      <td>369.811321</td>\n      <td>353.000000</td>\n      <td>49.470000</td>\n      <td>53.070000</td>\n      <td>50.890000</td>\n      <td>55.100000</td>\n      <td>66.490000</td>\n      <td>1.0</td>\n    </tr>\n    <tr>\n      <th>595</th>\n      <td>NaN</td>\n      <td>-176024.130610</td>\n      <td>-95854.390635</td>\n      <td>45.0</td>\n      <td>1.315332e+06</td>\n      <td>90445.656683</td>\n      <td>-60364.375617</td>\n      <td>-255237.787934</td>\n      <td>2.0</td>\n      <td>160805.053756</td>\n      <td>...</td>\n      <td>156.600000</td>\n      <td>383.000000</td>\n      <td>367.018868</td>\n      <td>352.000000</td>\n      <td>39.793987</td>\n      <td>55.448454</td>\n      <td>57.959019</td>\n      <td>47.647600</td>\n      <td>65.456766</td>\n      <td>1.0</td>\n    </tr>\n    <tr>\n      <th>596</th>\n      <td>NaN</td>\n      <td>40.000000</td>\n      <td>94.000000</td>\n      <td>45.0</td>\n      <td>1.100000e+01</td>\n      <td>45.000000</td>\n      <td>10.000000</td>\n      <td>31.000000</td>\n      <td>2.0</td>\n      <td>505.800000</td>\n      <td>...</td>\n      <td>416.660270</td>\n      <td>292.645668</td>\n      <td>495.253216</td>\n      <td>347.757727</td>\n      <td>-1262.992749</td>\n      <td>-2954.755497</td>\n      <td>523.707209</td>\n      <td>-1919.832184</td>\n      <td>459.204029</td>\n      <td>1.0</td>\n    </tr>\n    <tr>\n      <th>597</th>\n      <td>NaN</td>\n      <td>21.000000</td>\n      <td>87.000000</td>\n      <td>45.0</td>\n      <td>1.000000e+01</td>\n      <td>61.000000</td>\n      <td>10.000000</td>\n      <td>52.000000</td>\n      <td>2.0</td>\n      <td>470.600000</td>\n      <td>...</td>\n      <td>-313.871086</td>\n      <td>959.117896</td>\n      <td>158.300264</td>\n      <td>831.746872</td>\n      <td>-192.181440</td>\n      <td>-6405.249957</td>\n      <td>-212.121627</td>\n      <td>-4990.214682</td>\n      <td>-1101.685260</td>\n      <td>1.0</td>\n    </tr>\n  </tbody>\n</table>\n<p>1196 rows × 2595 columns</p>\n</div>"
     },
     "execution_count": 89,
     "metadata": {},
     "output_type": "execute_result"
    }
   ],
   "source": [
    "A_code = pd.concat([pc, d])\n",
    "A_code"
   ],
   "metadata": {
    "collapsed": false
   }
  },
  {
   "cell_type": "code",
   "execution_count": 65,
   "outputs": [
    {
     "name": "stdout",
     "output_type": "stream",
     "text": [
      "(598, 2594)\n",
      "(249,)\n"
     ]
    },
    {
     "ename": "ValueError",
     "evalue": "Found input variables with inconsistent numbers of samples: [598, 249]",
     "output_type": "error",
     "traceback": [
      "\u001B[0;31m---------------------------------------------------------------------------\u001B[0m",
      "\u001B[0;31mValueError\u001B[0m                                Traceback (most recent call last)",
      "\u001B[0;32m/var/folders/js/792bsrvx24lcg4nrdgy7k5br0000gn/T/ipykernel_30643/2367789424.py\u001B[0m in \u001B[0;36m<module>\u001B[0;34m\u001B[0m\n\u001B[1;32m     43\u001B[0m     \u001B[0;32mreturn\u001B[0m \u001B[0mmodel_A\u001B[0m\u001B[0;34m,\u001B[0m \u001B[0mA_X\u001B[0m\u001B[0;34m.\u001B[0m\u001B[0mcolumns\u001B[0m\u001B[0;34m\u001B[0m\u001B[0;34m\u001B[0m\u001B[0m\n\u001B[1;32m     44\u001B[0m \u001B[0;34m\u001B[0m\u001B[0m\n\u001B[0;32m---> 45\u001B[0;31m \u001B[0mdata_modeling_AA\u001B[0m\u001B[0;34m(\u001B[0m\u001B[0;34m)\u001B[0m\u001B[0;34m\u001B[0m\u001B[0;34m\u001B[0m\u001B[0m\n\u001B[0m",
      "\u001B[0;32m/var/folders/js/792bsrvx24lcg4nrdgy7k5br0000gn/T/ipykernel_30643/2367789424.py\u001B[0m in \u001B[0;36mdata_modeling_AA\u001B[0;34m()\u001B[0m\n\u001B[1;32m     17\u001B[0m     \u001B[0mprint\u001B[0m\u001B[0;34m(\u001B[0m\u001B[0mA_y\u001B[0m\u001B[0;34m.\u001B[0m\u001B[0mshape\u001B[0m\u001B[0;34m)\u001B[0m\u001B[0;34m\u001B[0m\u001B[0;34m\u001B[0m\u001B[0m\n\u001B[1;32m     18\u001B[0m \u001B[0;34m\u001B[0m\u001B[0m\n\u001B[0;32m---> 19\u001B[0;31m     \u001B[0mX_train\u001B[0m\u001B[0;34m,\u001B[0m \u001B[0mX_test\u001B[0m\u001B[0;34m,\u001B[0m \u001B[0my_train\u001B[0m\u001B[0;34m,\u001B[0m \u001B[0my_test\u001B[0m \u001B[0;34m=\u001B[0m \u001B[0mtrain_test_split\u001B[0m\u001B[0;34m(\u001B[0m\u001B[0mA_X\u001B[0m\u001B[0;34m,\u001B[0m \u001B[0mA_y\u001B[0m\u001B[0;34m,\u001B[0m \u001B[0mtest_size\u001B[0m\u001B[0;34m=\u001B[0m\u001B[0;36m0.3\u001B[0m\u001B[0;34m,\u001B[0m \u001B[0mrandom_state\u001B[0m\u001B[0;34m=\u001B[0m\u001B[0;36m42\u001B[0m\u001B[0;34m)\u001B[0m\u001B[0;34m\u001B[0m\u001B[0;34m\u001B[0m\u001B[0m\n\u001B[0m\u001B[1;32m     20\u001B[0m \u001B[0;34m\u001B[0m\u001B[0m\n\u001B[1;32m     21\u001B[0m     \u001B[0;31m# df = A_X.corr()\u001B[0m\u001B[0;34m\u001B[0m\u001B[0;34m\u001B[0m\u001B[0m\n",
      "\u001B[0;32m~/opt/anaconda3/lib/python3.9/site-packages/sklearn/model_selection/_split.py\u001B[0m in \u001B[0;36mtrain_test_split\u001B[0;34m(test_size, train_size, random_state, shuffle, stratify, *arrays)\u001B[0m\n\u001B[1;32m   2415\u001B[0m         \u001B[0;32mraise\u001B[0m \u001B[0mValueError\u001B[0m\u001B[0;34m(\u001B[0m\u001B[0;34m\"At least one array required as input\"\u001B[0m\u001B[0;34m)\u001B[0m\u001B[0;34m\u001B[0m\u001B[0;34m\u001B[0m\u001B[0m\n\u001B[1;32m   2416\u001B[0m \u001B[0;34m\u001B[0m\u001B[0m\n\u001B[0;32m-> 2417\u001B[0;31m     \u001B[0marrays\u001B[0m \u001B[0;34m=\u001B[0m \u001B[0mindexable\u001B[0m\u001B[0;34m(\u001B[0m\u001B[0;34m*\u001B[0m\u001B[0marrays\u001B[0m\u001B[0;34m)\u001B[0m\u001B[0;34m\u001B[0m\u001B[0;34m\u001B[0m\u001B[0m\n\u001B[0m\u001B[1;32m   2418\u001B[0m \u001B[0;34m\u001B[0m\u001B[0m\n\u001B[1;32m   2419\u001B[0m     \u001B[0mn_samples\u001B[0m \u001B[0;34m=\u001B[0m \u001B[0m_num_samples\u001B[0m\u001B[0;34m(\u001B[0m\u001B[0marrays\u001B[0m\u001B[0;34m[\u001B[0m\u001B[0;36m0\u001B[0m\u001B[0;34m]\u001B[0m\u001B[0;34m)\u001B[0m\u001B[0;34m\u001B[0m\u001B[0;34m\u001B[0m\u001B[0m\n",
      "\u001B[0;32m~/opt/anaconda3/lib/python3.9/site-packages/sklearn/utils/validation.py\u001B[0m in \u001B[0;36mindexable\u001B[0;34m(*iterables)\u001B[0m\n\u001B[1;32m    376\u001B[0m \u001B[0;34m\u001B[0m\u001B[0m\n\u001B[1;32m    377\u001B[0m     \u001B[0mresult\u001B[0m \u001B[0;34m=\u001B[0m \u001B[0;34m[\u001B[0m\u001B[0m_make_indexable\u001B[0m\u001B[0;34m(\u001B[0m\u001B[0mX\u001B[0m\u001B[0;34m)\u001B[0m \u001B[0;32mfor\u001B[0m \u001B[0mX\u001B[0m \u001B[0;32min\u001B[0m \u001B[0miterables\u001B[0m\u001B[0;34m]\u001B[0m\u001B[0;34m\u001B[0m\u001B[0;34m\u001B[0m\u001B[0m\n\u001B[0;32m--> 378\u001B[0;31m     \u001B[0mcheck_consistent_length\u001B[0m\u001B[0;34m(\u001B[0m\u001B[0;34m*\u001B[0m\u001B[0mresult\u001B[0m\u001B[0;34m)\u001B[0m\u001B[0;34m\u001B[0m\u001B[0;34m\u001B[0m\u001B[0m\n\u001B[0m\u001B[1;32m    379\u001B[0m     \u001B[0;32mreturn\u001B[0m \u001B[0mresult\u001B[0m\u001B[0;34m\u001B[0m\u001B[0;34m\u001B[0m\u001B[0m\n\u001B[1;32m    380\u001B[0m \u001B[0;34m\u001B[0m\u001B[0m\n",
      "\u001B[0;32m~/opt/anaconda3/lib/python3.9/site-packages/sklearn/utils/validation.py\u001B[0m in \u001B[0;36mcheck_consistent_length\u001B[0;34m(*arrays)\u001B[0m\n\u001B[1;32m    330\u001B[0m     \u001B[0muniques\u001B[0m \u001B[0;34m=\u001B[0m \u001B[0mnp\u001B[0m\u001B[0;34m.\u001B[0m\u001B[0munique\u001B[0m\u001B[0;34m(\u001B[0m\u001B[0mlengths\u001B[0m\u001B[0;34m)\u001B[0m\u001B[0;34m\u001B[0m\u001B[0;34m\u001B[0m\u001B[0m\n\u001B[1;32m    331\u001B[0m     \u001B[0;32mif\u001B[0m \u001B[0mlen\u001B[0m\u001B[0;34m(\u001B[0m\u001B[0muniques\u001B[0m\u001B[0;34m)\u001B[0m \u001B[0;34m>\u001B[0m \u001B[0;36m1\u001B[0m\u001B[0;34m:\u001B[0m\u001B[0;34m\u001B[0m\u001B[0;34m\u001B[0m\u001B[0m\n\u001B[0;32m--> 332\u001B[0;31m         raise ValueError(\n\u001B[0m\u001B[1;32m    333\u001B[0m             \u001B[0;34m\"Found input variables with inconsistent numbers of samples: %r\"\u001B[0m\u001B[0;34m\u001B[0m\u001B[0;34m\u001B[0m\u001B[0m\n\u001B[1;32m    334\u001B[0m             \u001B[0;34m%\u001B[0m \u001B[0;34m[\u001B[0m\u001B[0mint\u001B[0m\u001B[0;34m(\u001B[0m\u001B[0ml\u001B[0m\u001B[0;34m)\u001B[0m \u001B[0;32mfor\u001B[0m \u001B[0ml\u001B[0m \u001B[0;32min\u001B[0m \u001B[0mlengths\u001B[0m\u001B[0;34m]\u001B[0m\u001B[0;34m\u001B[0m\u001B[0;34m\u001B[0m\u001B[0m\n",
      "\u001B[0;31mValueError\u001B[0m: Found input variables with inconsistent numbers of samples: [598, 249]"
     ]
    }
   ],
   "source": [
    "# 결측치 넣은걸로 돌려보기..!\n",
    "from sklearn.model_selection import GridSearchCV\n",
    "import lightgbm as lgb\n",
    "from sklearn.metrics import confusion_matrix\n",
    "from sklearn.metrics import accuracy_score\n",
    "from sklearn.model_selection import cross_validate\n",
    "from sklearn.model_selection import StratifiedKFold\n",
    "\n",
    "def data_modeling_AA():\n",
    "    df =\n",
    "\n",
    "    data_A = df[df[\"PRODUCT_CODE\"] == \"A_31\"]\n",
    "\n",
    "    A_y = data_A[\"Y_Class\"]\n",
    "    A_X = d\n",
    "    print(A_X.shape)\n",
    "    print(A_y.shape)\n",
    "\n",
    "    X_train, X_test, y_train, y_test = train_test_split(A_X, A_y, test_size=0.3, random_state=42)\n",
    "\n",
    "    # df = A_X.corr()\n",
    "    # print(np.isfinite(df))\n",
    "\n",
    "    #MICE 결측치 메꾸기\n",
    "    # imp = IterativeImputer(estimator=lr, verbose=2, max_iter=30, tol=1e-10, imputation_order='roman')\n",
    "    # imp.fit_transform(X_train)\n",
    "\n",
    "    model_A = lgb.LGBMClassifier(random_state=42)\n",
    "    model_A.fit(X_train, y_train)\n",
    "    prediction = model_A.predict(X_test)\n",
    "\n",
    "    print(confusion_matrix(prediction, y_test))\n",
    "    print(f\"A_정답률:{accuracy_score(prediction, y_test):.3f}\")\n",
    "\n",
    "    scores = cross_validate(model_A, X_train, y_train, cv=StratifiedKFold())\n",
    "    print(np.mean(scores['test_score']))\n",
    "\n",
    "    # n_splits매개변수는 몇(k)폴드 교차 검증 할지를 정한다.\n",
    "    splitter = StratifiedKFold(n_splits=10, shuffle=True, random_state=42)\n",
    "    scores = cross_validate(model_A, X_train, y_train, cv=splitter)\n",
    "    print(np.mean(scores['test_score']))\n",
    "\n",
    "    return model_A, A_X.columns\n",
    "\n",
    "data_modeling_AA()"
   ],
   "metadata": {
    "collapsed": false
   }
  },
  {
   "cell_type": "code",
   "execution_count": null,
   "outputs": [],
   "source": [
    "from sklearn.model_selection import GridSearchCV\n",
    "import lightgbm as lgb\n",
    "from sklearn.metrics import confusion_matrix\n",
    "from sklearn.metrics import accuracy_score\n",
    "from sklearn.model_selection import cross_validate\n",
    "from sklearn.model_selection import StratifiedKFold\n",
    "\n",
    "def data_modeling_A():\n",
    "    df = pd.read_csv(\"Dataset/train.csv\")\n",
    "\n",
    "    data_A = df[df[\"PRODUCT_CODE\"] == \"A_31\"]\n",
    "\n",
    "    A_y = data_A[\"Y_Class\"]\n",
    "    A_X = data_A.drop([\"Y_Class\", \"Y_Quality\"], axis=1).select_dtypes(exclude=['object'])\n",
    "\n",
    "    X_train, X_test, y_train, y_test = train_test_split(A_X, A_y, test_size=0.3, random_state=42)\n",
    "\n",
    "    # df = A_X.corr()\n",
    "    # print(np.isfinite(df))\n",
    "\n",
    "    #MICE 결측치 메꾸기\n",
    "    imp = IterativeImputer(estimator=lr, verbose=2, max_iter=30, tol=1e-10, imputation_order='roman')\n",
    "    imp.fit_transform(X_train)\n",
    "\n",
    "\n",
    "    model_A = lgb.LGBMClassifier(random_state=42)\n",
    "    model_A.fit(X_train, y_train)\n",
    "    prediction = model_A.predict(X_test)\n",
    "\n",
    "    print(confusion_matrix(prediction, y_test))\n",
    "    print(f\"A_정답률:{accuracy_score(prediction, y_test):.3f}\")\n",
    "\n",
    "    scores = cross_validate(model_A, X_train, y_train, cv=StratifiedKFold())\n",
    "    print(np.mean(scores['test_score']))\n",
    "\n",
    "    # n_splits매개변수는 몇(k)폴드 교차 검증 할지를 정한다.\n",
    "    splitter = StratifiedKFold(n_splits=10, shuffle=True, random_state=42)\n",
    "    scores = cross_validate(model_A, X_train, y_train, cv=splitter)\n",
    "    print(np.mean(scores['test_score']))\n",
    "\n",
    "    return model_A, A_X.columns"
   ],
   "metadata": {
    "collapsed": false
   }
  },
  {
   "cell_type": "code",
   "execution_count": null,
   "outputs": [],
   "source": [
    "def test_mice():\n",
    "    df = pd.read_csv(\"Dataset/test.csv\")\n",
    "    df_X = df.drop(['Y_Class', 'Y_Quality','PRODUCT_CODE','PRODUCT_ID','TIMESTAMP','LINE'], axis =1)\n",
    "    df_X =df_X.drop(wrong, axis=1)\n",
    "    df_y =test['Y_Class']\n"
   ],
   "metadata": {
    "collapsed": false
   }
  },
  {
   "cell_type": "code",
   "execution_count": null,
   "outputs": [],
   "source": [
    "def predict_testset():\n",
    "    df = pd.read_csv(\"Dataset/test.csv\")\n",
    "\n",
    "    data_A = data_modeling_A()\n",
    "    data_T = data_modeling_T()\n",
    "\n",
    "    # A_testset\n",
    "    df_A = df[df[\"PRODUCT_CODE\"] == \"A_31\"]\n",
    "\n",
    "    df_test_A = pd.DataFrame()\n",
    "    A_cols = data_A[1]\n",
    "\n",
    "    for c, col in enumerate(A_cols):\n",
    "        df_test_A[col] = df_A[col]\n",
    "\n",
    "    # T_testset\n",
    "    df_T = df[(df[\"PRODUCT_CODE\"] == \"T_31\") | (df[\"PRODUCT_CODE\"] == \"O_31\")]\n",
    "\n",
    "    df_test_T = pd.DataFrame()\n",
    "    T_cols = data_T[1]\n",
    "\n",
    "    for c, col in enumerate(T_cols):\n",
    "        df_test_T[col] = df_T[col]\n",
    "\n",
    "    pred_A = data_A[0].predict(df_test_A)\n",
    "    pred_T = data_T[0].predict(df_test_T)\n",
    "\n",
    "    # Code A, T 순서 원래대로 변경\n",
    "    A_index = df[df[\"PRODUCT_CODE\"] == \"A_31\"].index\n",
    "    T_index = df[(df[\"PRODUCT_CODE\"] == \"T_31\") | (df[\"PRODUCT_CODE\"] == \"O_31\")].index\n",
    "\n",
    "    A_add_df = pd.DataFrame()\n",
    "    A_add_df[\"index\"] = A_index\n",
    "    A_add_df[\"predict\"] = pred_A\n",
    "\n",
    "    T_add_df = pd.DataFrame()\n",
    "    T_add_df[\"index\"] = T_index\n",
    "    T_add_df[\"predict\"] = pred_T\n",
    "\n",
    "    predict_data = pd.concat([A_add_df, T_add_df])\n",
    "    predict_data = predict_data.sort_values(by=[\"index\"], ascending=[True])\n",
    "\n",
    "    # submit\n",
    "    output_dir = \"Result/\"\n",
    "    if not os.path.exists(output_dir):\n",
    "        os.makedirs(output_dir)\n",
    "\n",
    "    submit = pd.read_csv(\"Dataset/sample_submission.csv\")\n",
    "    submit[\"Y_Class\"] = predict_data[\"predict\"].values\n",
    "    submit.to_csv(os.path.join(output_dir, \"./cross_val_lgb_submission.csv\"), index=False)"
   ],
   "metadata": {
    "collapsed": false
   }
  }
 ],
 "metadata": {
  "kernelspec": {
   "display_name": "Python 3",
   "language": "python",
   "name": "python3"
  },
  "language_info": {
   "codemirror_mode": {
    "name": "ipython",
    "version": 2
   },
   "file_extension": ".py",
   "mimetype": "text/x-python",
   "name": "python",
   "nbconvert_exporter": "python",
   "pygments_lexer": "ipython2",
   "version": "2.7.6"
  }
 },
 "nbformat": 4,
 "nbformat_minor": 0
}
