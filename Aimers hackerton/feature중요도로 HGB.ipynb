{
 "cells": [
  {
   "cell_type": "code",
   "execution_count": 1,
   "metadata": {
    "collapsed": true
   },
   "outputs": [],
   "source": [
    "import pandas as pd\n",
    "from sklearn.ensemble import HistGradientBoostingClassifier\n",
    "from sklearn.model_selection import cross_validate\n",
    "from sklearn.inspection import permutation_importance\n",
    "from sklearn.model_selection import train_test_split"
   ]
  },
  {
   "cell_type": "code",
   "execution_count": 2,
   "outputs": [],
   "source": [
    "data_path = '/Users/sola/Downloads/open/'\n",
    "train = pd.read_csv(data_path + 'train.csv')\n",
    "test = pd.read_csv(data_path + 'test.csv')\n",
    "submission = pd.read_csv(data_path + 'sample_submission.csv')"
   ],
   "metadata": {
    "collapsed": false
   }
  },
  {
   "cell_type": "code",
   "execution_count": 3,
   "outputs": [],
   "source": [
    "train = train.fillna(0)\n",
    "test = test.fillna(0)"
   ],
   "metadata": {
    "collapsed": false
   }
  },
  {
   "cell_type": "code",
   "execution_count": 4,
   "outputs": [
    {
     "name": "stdout",
     "output_type": "stream",
     "text": [
      "['X_3', 'X_6', 'X_14', 'X_70', 'X_74', 'X_75', 'X_76', 'X_77', 'X_78', 'X_79', 'X_82', 'X_83', 'X_84', 'X_85', 'X_142', 'X_190', 'X_191', 'X_192', 'X_193', 'X_194', 'X_195', 'X_232', 'X_234', 'X_235', 'X_259', 'X_260', 'X_315', 'X_319', 'X_322', 'X_323', 'X_324', 'X_327', 'X_328', 'X_329', 'X_330', 'X_375', 'X_376', 'X_377', 'X_378', 'X_427', 'X_466', 'X_467', 'X_505', 'X_508', 'X_558', 'X_561', 'X_567', 'X_583', 'X_617', 'X_620', 'X_631', 'X_633', 'X_634', 'X_636', 'X_638', 'X_639', 'X_640', 'X_641', 'X_642', 'X_672', 'X_673', 'X_676', 'X_691', 'X_692', 'X_695', 'X_715', 'X_729', 'X_732', 'X_743', 'X_749', 'X_759', 'X_760', 'X_761', 'X_764', 'X_776', 'X_777', 'X_778', 'X_836', 'X_843', 'X_844', 'X_849', 'X_859', 'X_886', 'X_887', 'X_888', 'X_889', 'X_934', 'X_935', 'X_936', 'X_937', 'X_992', 'X_1020', 'X_1021', 'X_1022', 'X_1023', 'X_1024', 'X_1025', 'X_1070', 'X_1092', 'X_1119', 'X_1137', 'X_1146', 'X_1206', 'X_1216', 'X_1219', 'X_1248', 'X_1249', 'X_1250', 'X_1251', 'X_1252', 'X_1253', 'X_1255', 'X_1293', 'X_1298', 'X_1309', 'X_1311', 'X_1312', 'X_1314', 'X_1316', 'X_1317', 'X_1318', 'X_1319', 'X_1320', 'X_1361', 'X_1362', 'X_1363', 'X_1364', 'X_1367', 'X_1392', 'X_1393', 'X_1394', 'X_1395', 'X_1396', 'X_1399', 'X_1426', 'X_1457', 'X_1487', 'X_1502', 'X_1503', 'X_1504', 'X_1522', 'X_1531', 'X_1537', 'X_1571', 'X_1572', 'X_1573', 'X_1574', 'X_1575', 'X_1576', 'X_1577', 'X_1578', 'X_1579', 'X_1580', 'X_1581', 'X_1582', 'X_1644', 'X_1645', 'X_1688', 'X_1689', 'X_1692', 'X_1693', 'X_1702', 'X_1722', 'X_1723', 'X_1724', 'X_1754', 'X_1760', 'X_1766', 'X_1772', 'X_1778', 'X_1784', 'X_1790', 'X_1796', 'X_1802', 'X_1808', 'X_1828', 'X_1835', 'X_1836', 'X_1837', 'X_1838', 'X_1839', 'X_1840', 'X_1841', 'X_1842', 'X_1844', 'X_1845', 'X_1846', 'X_1847', 'X_1848', 'X_1851', 'X_1852', 'X_1869', 'X_1870', 'X_1871', 'X_1872', 'X_2052', 'X_2053', 'X_2054', 'X_2055', 'X_2420', 'X_2462', 'X_2628', 'X_2629', 'X_2630', 'X_2631', 'X_2632', 'X_2633', 'X_2634', 'X_2635', 'X_2636', 'X_2637', 'X_2638', 'X_2639', 'X_2640', 'X_2641', 'X_2642', 'X_2643', 'X_2644', 'X_2645', 'X_2646', 'X_2647', 'X_2648', 'X_2649', 'X_2650', 'X_2651', 'X_2652', 'X_2653', 'X_2654', 'X_2655', 'X_2656', 'X_2657', 'X_2658', 'X_2659', 'X_2660', 'X_2661', 'X_2662', 'X_2663', 'X_2664', 'X_2665', 'X_2666', 'X_2667', 'X_2668', 'X_2669', 'X_2670', 'X_2671', 'X_2672', 'X_2673', 'X_2674', 'X_2675', 'X_2676', 'X_2677', 'X_2678', 'X_2679', 'X_2680', 'X_2681', 'X_2682', 'X_2683', 'X_2684', 'X_2685', 'X_2686', 'X_2687', 'X_2688', 'X_2689', 'X_2690', 'X_2691', 'X_2692', 'X_2693', 'X_2694', 'X_2695', 'X_2696', 'X_2697', 'X_2698', 'X_2699', 'X_2733', 'X_2775', 'X_2838', 'X_2844', 'X_2872', 'X_2873', 'X_2874', 'X_2875']\n",
      "281\n"
     ]
    }
   ],
   "source": [
    "# 모든 값이 0인 피처 지울거임..\n",
    "wrong = []\n",
    "for i in range(1,2876):\n",
    "    ch = 'X_'+str(i)\n",
    "    if train[ch].mean() == 0:\n",
    "        wrong.append(ch)\n",
    "\n",
    "print(wrong)\n",
    "print(len(wrong))"
   ],
   "metadata": {
    "collapsed": false
   }
  },
  {
   "cell_type": "code",
   "execution_count": 5,
   "outputs": [],
   "source": [
    "train = train.drop(wrong, axis=1)\n",
    "test = test.drop(wrong, axis=1)\n",
    "\n",
    "train = train.drop(['TIMESTAMP','PRODUCT_ID'], axis=1)\n",
    "test = test.drop(['TIMESTAMP','PRODUCT_ID'], axis=1)"
   ],
   "metadata": {
    "collapsed": false
   }
  },
  {
   "cell_type": "code",
   "execution_count": 6,
   "outputs": [
    {
     "name": "stdout",
     "output_type": "stream",
     "text": [
      "Done.\n"
     ]
    }
   ],
   "source": [
    "from sklearn.preprocessing import LabelEncoder\n",
    "import numpy as np\n",
    "from sklearn.ensemble import RandomForestClassifier\n",
    "\n",
    "# 수치형으로 변환\n",
    "qual_col = ['LINE', 'PRODUCT_CODE']\n",
    "\n",
    "for i in qual_col:\n",
    "    le = LabelEncoder()\n",
    "    le = le.fit(train[i])\n",
    "    train[i] = le.transform(train[i])\n",
    "\n",
    "    for label in np.unique(test[i]):\n",
    "        if label not in le.classes_:\n",
    "            le.classes_ = np.append(le.classes_, label)\n",
    "    test[i] = le.transform(test[i])\n",
    "print('Done.')"
   ],
   "metadata": {
    "collapsed": false
   }
  },
  {
   "cell_type": "code",
   "execution_count": 10,
   "outputs": [],
   "source": [
    "train_x = train.drop(['Y_Class', 'Y_Quality'], axis=1)\n",
    "y = train['Y_Class']\n",
    "\n",
    "X_train, X_valid, y_train, y_valid = train_test_split(train_x, y, test_size=0.3, random_state=37)"
   ],
   "metadata": {
    "collapsed": false
   }
  },
  {
   "cell_type": "code",
   "execution_count": 11,
   "outputs": [
    {
     "name": "stdout",
     "output_type": "stream",
     "text": [
      "[Index(['LINE', 'PRODUCT_CODE', 'X_1', 'X_2', 'X_4'], dtype='object'), Index(['LINE', 'PRODUCT_CODE', 'X_1', 'X_2', 'X_4'], dtype='object'), Index(['LINE', 'PRODUCT_CODE', 'X_1', 'X_2', 'X_4'], dtype='object'), Index(['LINE', 'PRODUCT_CODE', 'X_1', 'X_2', 'X_4'], dtype='object'), Index(['LINE', 'PRODUCT_CODE', 'X_1', 'X_2', 'X_4'], dtype='object'), Index(['LINE', 'PRODUCT_CODE', 'X_1', 'X_2', 'X_4'], dtype='object'), Index(['LINE', 'PRODUCT_CODE', 'X_1', 'X_2', 'X_4'], dtype='object'), Index(['LINE', 'PRODUCT_CODE', 'X_1', 'X_2', 'X_4'], dtype='object'), Index(['LINE', 'PRODUCT_CODE', 'X_1', 'X_2', 'X_4'], dtype='object'), Index(['LINE', 'PRODUCT_CODE', 'X_1', 'X_2', 'X_4'], dtype='object'), Index(['LINE', 'PRODUCT_CODE', 'X_1', 'X_2', 'X_4'], dtype='object'), Index(['LINE', 'PRODUCT_CODE', 'X_1', 'X_2', 'X_4'], dtype='object'), Index(['LINE', 'PRODUCT_CODE', 'X_1', 'X_2', 'X_4'], dtype='object'), Index(['LINE', 'PRODUCT_CODE', 'X_1', 'X_2', 'X_4'], dtype='object'), Index(['LINE', 'PRODUCT_CODE', 'X_1', 'X_2', 'X_4'], dtype='object'), Index(['LINE', 'PRODUCT_CODE', 'X_1', 'X_2', 'X_4'], dtype='object'), Index(['LINE', 'PRODUCT_CODE', 'X_1', 'X_2', 'X_4'], dtype='object'), Index(['LINE', 'PRODUCT_CODE', 'X_1', 'X_2', 'X_4'], dtype='object'), Index(['LINE', 'PRODUCT_CODE', 'X_1', 'X_2', 'X_4'], dtype='object'), Index(['LINE', 'PRODUCT_CODE', 'X_1', 'X_2', 'X_4'], dtype='object'), Index(['LINE', 'PRODUCT_CODE', 'X_1', 'X_2', 'X_4'], dtype='object'), Index(['LINE', 'PRODUCT_CODE', 'X_1', 'X_2', 'X_4'], dtype='object'), Index(['LINE', 'PRODUCT_CODE', 'X_1', 'X_2', 'X_4'], dtype='object'), Index(['LINE', 'PRODUCT_CODE', 'X_1', 'X_2', 'X_4'], dtype='object'), Index(['LINE', 'PRODUCT_CODE', 'X_1', 'X_2', 'X_4'], dtype='object'), Index(['LINE', 'PRODUCT_CODE', 'X_1', 'X_2', 'X_4'], dtype='object'), Index(['LINE', 'PRODUCT_CODE', 'X_1', 'X_2', 'X_4'], dtype='object'), Index(['LINE', 'PRODUCT_CODE', 'X_1', 'X_2', 'X_4'], dtype='object'), Index(['LINE', 'PRODUCT_CODE', 'X_1', 'X_2', 'X_4'], dtype='object'), Index(['LINE', 'PRODUCT_CODE', 'X_1', 'X_2', 'X_4'], dtype='object'), Index(['LINE', 'PRODUCT_CODE', 'X_1', 'X_2', 'X_4'], dtype='object'), Index(['LINE', 'PRODUCT_CODE', 'X_1', 'X_2', 'X_4'], dtype='object'), Index(['LINE', 'PRODUCT_CODE', 'X_1', 'X_2', 'X_4'], dtype='object'), Index(['LINE', 'PRODUCT_CODE', 'X_1', 'X_2', 'X_4'], dtype='object'), Index(['LINE', 'PRODUCT_CODE', 'X_1', 'X_2', 'X_4'], dtype='object'), Index(['LINE', 'PRODUCT_CODE', 'X_1', 'X_2', 'X_4'], dtype='object'), Index(['LINE', 'PRODUCT_CODE', 'X_1', 'X_2', 'X_4'], dtype='object'), Index(['LINE', 'PRODUCT_CODE', 'X_1', 'X_2', 'X_4'], dtype='object'), Index(['LINE', 'PRODUCT_CODE', 'X_1', 'X_2', 'X_4'], dtype='object'), Index(['LINE', 'PRODUCT_CODE', 'X_1', 'X_2', 'X_4'], dtype='object'), Index(['LINE', 'PRODUCT_CODE', 'X_1', 'X_2', 'X_4'], dtype='object'), Index(['LINE', 'PRODUCT_CODE', 'X_1', 'X_2', 'X_4'], dtype='object'), Index(['LINE', 'PRODUCT_CODE', 'X_1', 'X_2', 'X_4'], dtype='object'), Index(['LINE', 'PRODUCT_CODE', 'X_1', 'X_2', 'X_4'], dtype='object'), Index(['LINE', 'PRODUCT_CODE', 'X_1', 'X_2', 'X_4'], dtype='object'), Index(['LINE', 'PRODUCT_CODE', 'X_1', 'X_2', 'X_4'], dtype='object'), Index(['LINE', 'PRODUCT_CODE', 'X_1', 'X_2', 'X_4'], dtype='object'), Index(['LINE', 'PRODUCT_CODE', 'X_1', 'X_2', 'X_4'], dtype='object'), Index(['LINE', 'PRODUCT_CODE', 'X_1', 'X_2', 'X_4'], dtype='object'), Index(['LINE', 'PRODUCT_CODE', 'X_1', 'X_2', 'X_4'], dtype='object'), Index(['LINE', 'PRODUCT_CODE', 'X_1', 'X_2', 'X_4'], dtype='object'), Index(['LINE', 'PRODUCT_CODE', 'X_1', 'X_2', 'X_4'], dtype='object'), Index(['LINE', 'PRODUCT_CODE', 'X_1', 'X_2', 'X_4'], dtype='object'), Index(['LINE', 'PRODUCT_CODE', 'X_1', 'X_2', 'X_4'], dtype='object'), Index(['LINE', 'PRODUCT_CODE', 'X_1', 'X_2', 'X_4'], dtype='object'), Index(['LINE', 'PRODUCT_CODE', 'X_1', 'X_2', 'X_4'], dtype='object'), Index(['LINE', 'PRODUCT_CODE', 'X_1', 'X_2', 'X_4'], dtype='object'), Index(['LINE', 'PRODUCT_CODE', 'X_1', 'X_2', 'X_4'], dtype='object'), Index(['LINE', 'PRODUCT_CODE', 'X_1', 'X_2', 'X_4'], dtype='object'), Index(['LINE', 'PRODUCT_CODE', 'X_1', 'X_2', 'X_4'], dtype='object'), Index(['LINE', 'PRODUCT_CODE', 'X_1', 'X_2', 'X_4'], dtype='object'), Index(['LINE', 'PRODUCT_CODE', 'X_1', 'X_2', 'X_4'], dtype='object'), Index(['LINE', 'PRODUCT_CODE', 'X_1', 'X_2', 'X_4'], dtype='object'), Index(['LINE', 'PRODUCT_CODE', 'X_1', 'X_2', 'X_4'], dtype='object'), Index(['LINE', 'PRODUCT_CODE', 'X_1', 'X_2', 'X_4'], dtype='object'), Index(['LINE', 'PRODUCT_CODE', 'X_1', 'X_2', 'X_4'], dtype='object'), Index(['LINE', 'PRODUCT_CODE', 'X_1', 'X_2', 'X_4'], dtype='object'), Index(['LINE', 'PRODUCT_CODE', 'X_1', 'X_2', 'X_4'], dtype='object'), Index(['LINE', 'PRODUCT_CODE', 'X_1', 'X_2', 'X_4'], dtype='object'), Index(['LINE', 'PRODUCT_CODE', 'X_1', 'X_2', 'X_4'], dtype='object'), Index(['LINE', 'PRODUCT_CODE', 'X_1', 'X_2', 'X_4'], dtype='object'), Index(['LINE', 'PRODUCT_CODE', 'X_1', 'X_2', 'X_4'], dtype='object'), Index(['LINE', 'PRODUCT_CODE', 'X_1', 'X_2', 'X_4'], dtype='object'), Index(['LINE', 'PRODUCT_CODE', 'X_1', 'X_2', 'X_4'], dtype='object'), Index(['LINE', 'PRODUCT_CODE', 'X_1', 'X_2', 'X_4'], dtype='object'), Index(['LINE', 'PRODUCT_CODE', 'X_1', 'X_2', 'X_4'], dtype='object'), Index(['LINE', 'PRODUCT_CODE', 'X_1', 'X_2', 'X_4'], dtype='object'), Index(['LINE', 'PRODUCT_CODE', 'X_1', 'X_2', 'X_4'], dtype='object'), Index(['LINE', 'PRODUCT_CODE', 'X_1', 'X_2', 'X_4'], dtype='object'), Index(['LINE', 'PRODUCT_CODE', 'X_1', 'X_2', 'X_4'], dtype='object'), Index(['LINE', 'PRODUCT_CODE', 'X_1', 'X_2', 'X_4'], dtype='object'), Index(['LINE', 'PRODUCT_CODE', 'X_1', 'X_2', 'X_4'], dtype='object'), Index(['LINE', 'PRODUCT_CODE', 'X_1', 'X_2', 'X_4'], dtype='object'), Index(['LINE', 'PRODUCT_CODE', 'X_1', 'X_2', 'X_4'], dtype='object'), Index(['LINE', 'PRODUCT_CODE', 'X_1', 'X_2', 'X_4'], dtype='object'), Index(['LINE', 'PRODUCT_CODE', 'X_1', 'X_2', 'X_4'], dtype='object'), Index(['LINE', 'PRODUCT_CODE', 'X_1', 'X_2', 'X_4'], dtype='object'), Index(['LINE', 'PRODUCT_CODE', 'X_1', 'X_2', 'X_4'], dtype='object'), Index(['LINE', 'PRODUCT_CODE', 'X_1', 'X_2', 'X_4'], dtype='object'), Index(['LINE', 'PRODUCT_CODE', 'X_1', 'X_2', 'X_4'], dtype='object'), Index(['LINE', 'PRODUCT_CODE', 'X_1', 'X_2', 'X_4'], dtype='object'), Index(['LINE', 'PRODUCT_CODE', 'X_1', 'X_2', 'X_4'], dtype='object'), Index(['LINE', 'PRODUCT_CODE', 'X_1', 'X_2', 'X_4'], dtype='object'), Index(['LINE', 'PRODUCT_CODE', 'X_1', 'X_2', 'X_4'], dtype='object'), Index(['LINE', 'PRODUCT_CODE', 'X_1', 'X_2', 'X_4'], dtype='object'), Index(['LINE', 'PRODUCT_CODE', 'X_1', 'X_2', 'X_4'], dtype='object'), Index(['LINE', 'PRODUCT_CODE', 'X_1', 'X_2', 'X_4'], dtype='object'), Index(['LINE', 'PRODUCT_CODE', 'X_1', 'X_2', 'X_4'], dtype='object'), Index(['LINE', 'PRODUCT_CODE', 'X_1', 'X_2', 'X_4'], dtype='object'), Index(['LINE', 'PRODUCT_CODE', 'X_1', 'X_2', 'X_4'], dtype='object')]\n"
     ]
    }
   ],
   "source": [
    "from sklearn.ensemble import RandomForestClassifier\n",
    "\n",
    "feat_labels = X_train.columns\n",
    "\n",
    "hgb = HistGradientBoostingClassifier(random_state=37)\n",
    "scores = cross_validate(hgb, X_train, y_train, return_train_score=True, n_jobs=-1)\n",
    "# print(np.mean(scores['train_score']), np.mean(scores['test_score']))\n",
    "\n",
    "hgb.fit(X_train, y_train)\n",
    "#permutation_importance는 특성을 하나씩 랜덤하게 섞어서 모델의 성능이 변화하는지를 관찰하여 어떤 특성이 중요한지 계산한다.\n",
    "#n_repeats 매개변수는 랜덤하게 섞을 횟수를 지정한다.\n",
    "result = permutation_importance(hgb, X_train, y_train, n_repeats=5, random_state=37, n_jobs=-1)\n",
    "# print(result.importances_mean)\n",
    "\n",
    "importances = result.importances\n",
    "\n",
    "# argsort : 리스트 인덱스의 정렬됐을 때의 인덱스 값 반환, [::-1] : 뒤집기\n",
    "indices = np.argsort(importances)[::-1]\n",
    "\n",
    "# for i in range(X_train.shape[1]):\n",
    "\t# print(feat_labels[indices[i]], importances[indices[i]])\n",
    "\n",
    "#상위20개만...\n",
    "a=[]\n",
    "for i in range(100):\n",
    "    a.append(feat_labels[indices[i]])\n",
    "print(a)"
   ],
   "metadata": {
    "collapsed": false
   }
  },
  {
   "cell_type": "code",
   "execution_count": null,
   "outputs": [],
   "source": [
    "train_x = train_x[a]\n",
    "y = train['Y_Class']\n",
    "test_x = test[a]\n",
    "\n",
    "X_train, X_valid, y_train, y_valid = train_test_split(train_x, y, test_size=0.3, random_state=37)\n",
    "\n",
    "rf.fit(X_train, y_train)\n",
    "\n",
    "from sklearn.metrics import accuracy_score\n",
    "\n",
    "prediction = rf.predict(X_valid)\n",
    "\n",
    "rf.score(X_valid, y_valid)"
   ],
   "metadata": {
    "collapsed": false
   }
  },
  {
   "cell_type": "code",
   "execution_count": 9,
   "outputs": [
    {
     "name": "stdout",
     "output_type": "stream",
     "text": [
      "[0. 0. 0. ... 0. 0. 0.]\n"
     ]
    }
   ],
   "source": [
    "train_x = train.drop(['Y_Class', 'Y_Quality'], axis=1)\n",
    "y = train['Y_Class']\n",
    "X_train, X_valid, y_train, y_valid = train_test_split(train_x, y, test_size=0.3, stratify=y, random_state=37)\n",
    "\n",
    "hgb = HistGradientBoostingClassifier(random_state=37)\n",
    "scores = cross_validate(hgb, X_train, y_train, return_train_score=True, n_jobs=-1)\n",
    "# print(np.mean(scores['train_score']), np.mean(scores['test_score']))\n",
    "#0.9321723946453317 0.8801241948619236\n",
    "\n",
    "hgb.fit(X_train, y_train)\n",
    "#permutation_importance는 특성을 하나씩 랜덤하게 섞어서 모델의 성능이 변화하는지를 관찰하여 어떤 특성이 중요한지 계산한다.\n",
    "#n_repeats 매개변수는 랜덤하게 섞을 횟수를 지정한다.\n",
    "result = permutation_importance(hgb, X_train, y_train, n_repeats=5, random_state=37, n_jobs=-1)\n",
    "print(result.importances_mean)\n",
    "\n",
    "#[0.08876275 0.23438522 0.08027708]#[0.08876275 0.23438522 0.08027708]\n",
    "\n",
    "\n",
    "# result = permutation_importance(hgb, X_train, y_train, n_repeats=10, random_state=42, n_jobs=-1)\n",
    "# print(result.importances_mean)\n",
    "#[0.05969231 0.20238462 0.049     ]\n",
    "\n",
    "\n",
    "# hgb.score(X_train, y_train)\n",
    "#0.8723076923076923"
   ],
   "metadata": {
    "collapsed": false
   }
  },
  {
   "cell_type": "code",
   "execution_count": null,
   "outputs": [],
   "source": [
    "RF = RandomForestClassifier(n_jobs = -1 ,random_state=37)"
   ],
   "metadata": {
    "collapsed": false
   }
  },
  {
   "cell_type": "code",
   "execution_count": null,
   "outputs": [],
   "source": [
    "RF.fit(train_x, y)\n",
    "preds = RF.predict(test_x)"
   ],
   "metadata": {
    "collapsed": false
   }
  },
  {
   "cell_type": "code",
   "execution_count": null,
   "outputs": [],
   "source": [
    "preds"
   ],
   "metadata": {
    "collapsed": false
   }
  },
  {
   "cell_type": "code",
   "execution_count": null,
   "outputs": [],
   "source": [
    "submit = pd.read_csv('/Users/sola/Downloads/open/sample_submission.csv')"
   ],
   "metadata": {
    "collapsed": false
   }
  },
  {
   "cell_type": "code",
   "execution_count": null,
   "outputs": [],
   "source": [
    "submit['Y_Class'] = preds"
   ],
   "metadata": {
    "collapsed": false
   }
  },
  {
   "cell_type": "code",
   "execution_count": null,
   "outputs": [],
   "source": [
    "submit.to_csv('/Users/sola/Downloads/open/baseline_submission10.csv', index=False)"
   ],
   "metadata": {
    "collapsed": false
   }
  },
  {
   "cell_type": "markdown",
   "source": [
    "랜덤포레스트 정확도"
   ],
   "metadata": {
    "collapsed": false
   }
  },
  {
   "cell_type": "code",
   "execution_count": 12,
   "outputs": [],
   "source": [
    "rf = RandomForestClassifier(random_state=37)\n",
    "X_train, X_valid, y_train, y_valid = train_test_split(train_x, y, test_size=0.3, random_state=37)\n",
    "\n",
    "rf.fit(X_train, y_train)\n",
    "\n",
    "y_pred=rf.predict(X_valid)"
   ],
   "metadata": {
    "collapsed": false
   }
  },
  {
   "cell_type": "code",
   "execution_count": 13,
   "outputs": [
    {
     "name": "stdout",
     "output_type": "stream",
     "text": [
      "랜덤포레스트 정확도 : 77.22%\n"
     ]
    }
   ],
   "source": [
    "from sklearn.metrics import accuracy_score\n",
    "\n",
    "print(f'랜덤포레스트 정확도 : {accuracy_score(y_valid, y_pred)*100:.2f}%')"
   ],
   "metadata": {
    "collapsed": false
   }
  },
  {
   "cell_type": "code",
   "execution_count": null,
   "outputs": [],
   "source": [],
   "metadata": {
    "collapsed": false
   }
  }
 ],
 "metadata": {
  "kernelspec": {
   "display_name": "Python 3",
   "language": "python",
   "name": "python3"
  },
  "language_info": {
   "codemirror_mode": {
    "name": "ipython",
    "version": 2
   },
   "file_extension": ".py",
   "mimetype": "text/x-python",
   "name": "python",
   "nbconvert_exporter": "python",
   "pygments_lexer": "ipython2",
   "version": "2.7.6"
  }
 },
 "nbformat": 4,
 "nbformat_minor": 0
}
